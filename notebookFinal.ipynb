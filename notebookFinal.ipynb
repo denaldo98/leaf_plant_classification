{
 "cells": [
  {
   "cell_type": "markdown",
   "metadata": {
    "id": "JfjxnNP5IanA",
    "papermill": {
     "duration": 0.029171,
     "end_time": "2021-11-20T00:22:14.108341",
     "exception": false,
     "start_time": "2021-11-20T00:22:14.079170",
     "status": "completed"
    },
    "tags": []
   },
   "source": [
    "### Import libraries"
   ]
  },
  {
   "cell_type": "code",
   "execution_count": 1,
   "metadata": {
    "colab": {
     "base_uri": "https://localhost:8080/"
    },
    "execution": {
     "iopub.execute_input": "2021-11-20T10:58:19.273950Z",
     "iopub.status.busy": "2021-11-20T10:58:19.273435Z",
     "iopub.status.idle": "2021-11-20T10:58:26.146158Z",
     "shell.execute_reply": "2021-11-20T10:58:26.145441Z",
     "shell.execute_reply.started": "2021-11-20T10:58:19.273902Z"
    },
    "id": "A7SFSgVmIanF",
    "outputId": "489d4fa1-98fc-43ef-c5be-6980b4dafb46",
    "papermill": {
     "duration": 6.046541,
     "end_time": "2021-11-20T00:22:20.181748",
     "exception": false,
     "start_time": "2021-11-20T00:22:14.135207",
     "status": "completed"
    },
    "tags": []
   },
   "outputs": [
    {
     "name": "stdout",
     "output_type": "stream",
     "text": [
      "2.5.0\n"
     ]
    }
   ],
   "source": [
    "import tensorflow as tf\n",
    "import numpy as np\n",
    "import os\n",
    "import random\n",
    "import pandas as pd\n",
    "import seaborn as sns\n",
    "import matplotlib as mpl\n",
    "import matplotlib.pyplot as plt\n",
    "from sklearn.model_selection import train_test_split\n",
    "from sklearn.metrics import accuracy_score, f1_score, precision_score, recall_score\n",
    "from sklearn.metrics import classification_report, confusion_matrix\n",
    "from PIL import Image\n",
    "\n",
    "tfk = tf.keras\n",
    "tfkl = tf.keras.layers\n",
    "print(tf.__version__)"
   ]
  },
  {
   "cell_type": "markdown",
   "metadata": {
    "id": "MoCUad3ZIanH"
   },
   "source": [
    "### Set GPU memory growth"
   ]
  },
  {
   "cell_type": "code",
   "execution_count": 2,
   "metadata": {
    "id": "UC55F6PuIanH"
   },
   "outputs": [],
   "source": [
    "physical_devices = tf.config.list_physical_devices('GPU') \n",
    "for device in physical_devices:\n",
    "    tf.config.experimental.set_memory_growth(device, True)"
   ]
  },
  {
   "cell_type": "markdown",
   "metadata": {
    "id": "hvMDKpmhIanH",
    "papermill": {
     "duration": 0.018501,
     "end_time": "2021-11-20T00:22:20.218414",
     "exception": false,
     "start_time": "2021-11-20T00:22:20.199913",
     "status": "completed"
    },
    "tags": []
   },
   "source": [
    "### Set seed for reproducibility"
   ]
  },
  {
   "cell_type": "code",
   "execution_count": 3,
   "metadata": {
    "execution": {
     "iopub.execute_input": "2021-11-20T10:58:28.697346Z",
     "iopub.status.busy": "2021-11-20T10:58:28.696509Z",
     "iopub.status.idle": "2021-11-20T10:58:28.703176Z",
     "shell.execute_reply": "2021-11-20T10:58:28.702230Z",
     "shell.execute_reply.started": "2021-11-20T10:58:28.697302Z"
    },
    "id": "Vtv-8mQgIanI",
    "papermill": {
     "duration": 0.025269,
     "end_time": "2021-11-20T00:22:20.261692",
     "exception": false,
     "start_time": "2021-11-20T00:22:20.236423",
     "status": "completed"
    },
    "tags": []
   },
   "outputs": [],
   "source": [
    "seed = 42\n",
    "\n",
    "random.seed(seed)\n",
    "os.environ['PYTHONHASHSEED'] = str(seed)\n",
    "np.random.seed(seed)\n",
    "tf.random.set_seed(seed)\n",
    "tf.compat.v1.set_random_seed(seed)"
   ]
  },
  {
   "cell_type": "markdown",
   "metadata": {
    "id": "KfG6DgnKIanI",
    "papermill": {
     "duration": 0.018061,
     "end_time": "2021-11-20T00:22:20.297902",
     "exception": false,
     "start_time": "2021-11-20T00:22:20.279841",
     "status": "completed"
    },
    "tags": []
   },
   "source": [
    "### Splitted dataset folder"
   ]
  },
  {
   "cell_type": "code",
   "execution_count": 4,
   "metadata": {
    "colab": {
     "base_uri": "https://localhost:8080/"
    },
    "execution": {
     "iopub.execute_input": "2021-11-20T10:58:31.390851Z",
     "iopub.status.busy": "2021-11-20T10:58:31.390580Z",
     "iopub.status.idle": "2021-11-20T10:58:35.495374Z",
     "shell.execute_reply": "2021-11-20T10:58:35.494505Z",
     "shell.execute_reply.started": "2021-11-20T10:58:31.390823Z"
    },
    "id": "PAKkXp7QIanJ",
    "outputId": "fec38f79-e259-4d78-9391-18445badbc57",
    "papermill": {
     "duration": 3.494615,
     "end_time": "2021-11-20T00:22:23.810270",
     "exception": false,
     "start_time": "2021-11-20T00:22:20.315655",
     "status": "completed"
    },
    "scrolled": true,
    "tags": []
   },
   "outputs": [
    {
     "name": "stdout",
     "output_type": "stream",
     "text": [
      "Depth 0 (oversampling_dataset)\n",
      "-------\n",
      "['train', 'val']\n",
      "\n",
      "Depth 1 (oversampling_dataset/train)\n",
      "------------------------\n",
      "['Apple', 'Blueberry', 'Cherry', 'Corn', 'Grape', 'Orange', 'Peach', 'Pepper', 'Potato', 'Raspberry', 'Soybean', 'Squash', 'Strawberry', 'Tomato']\n",
      "\n",
      "Depth 1 (oversampling_dataset/val)\n",
      "------------------------\n",
      "['Apple', 'Blueberry', 'Cherry', 'Corn', 'Grape', 'Orange', 'Peach', 'Pepper', 'Potato', 'Raspberry', 'Soybean', 'Squash', 'Strawberry', 'Tomato']\n",
      "\n",
      "Depth 2 (e.g. oversampling_dataset/val/Apple)\n",
      "----------------------------\n",
      "['00008.jpg', '00014.jpg', '00030.jpg', '00032.jpg', '00035.jpg', '00037.jpg', '00055.jpg', '00058.jpg', '00060.jpg', '00073.jpg', '00083.jpg', '00088.jpg', '00094.jpg', '00096.jpg', '00104.jpg', '00105.jpg', '00113.jpg', '00119.jpg', '00120.jpg', '00122.jpg', '00127.jpg', '00132.jpg', '00134.jpg', '00144.jpg', '00146.jpg', '00149.jpg', '00163.jpg', '00181.jpg', '00182.jpg', '00186.jpg', '00199.jpg', '00202.jpg', '00206.jpg', '00210.jpg', '00211.jpg', '00219.jpg', '00245.jpg', '00254.jpg', '00268.jpg', '00270.jpg', '00271.jpg', '00277.jpg', '00280.jpg', '00282.jpg', '00284.jpg', '00287.jpg', '00295.jpg', '00296.jpg', '00300.jpg', '00312.jpg', '00314.jpg', '00319.jpg', '00338.jpg', '00339.jpg', '00340.jpg', '00342.jpg', '00344.jpg', '00346.jpg', '00352.jpg', '00355.jpg', '00368.jpg', '00377.jpg', '00401.jpg', '00402.jpg', '00415.jpg', '00430.jpg', '00434.jpg', '00438.jpg', '00452.jpg', '00457.jpg', '00460.jpg', '00465.jpg', '00474.jpg', '00485.jpg', '00486.jpg', '00487.jpg', '00488.jpg', '00495.jpg', '00508.jpg', '00512.jpg', '00516.jpg', '00540.jpg', '00545.jpg', '00551.jpg', '00578.jpg', '00583.jpg', '00589.jpg', '00590.jpg', '00593.jpg', '00602.jpg', '00635.jpg', '00641.jpg', '22431.jpg', '22436.jpg', '22460.jpg', '22467.jpg', '22473.jpg', '22476.jpg', '22486.jpg', '22495.jpg', '22496.jpg', '22502.jpg', '22507.jpg', '22514.jpg', '22529.jpg', '22535.jpg', '22536.jpg', '22541.jpg', '22542.jpg', '22550.jpg', '22559.jpg', '22562.jpg', '22567.jpg', '22577.jpg', '22589.jpg', '22590.jpg', '22598.jpg', '22602.jpg', '22604.jpg', '22605.jpg', '22610.jpg', '22615.jpg', '22617.jpg', '22623.jpg', '22631.jpg', '22647.jpg', '22655.jpg', '22659.jpg', '22662.jpg', '22663.jpg', '22665.jpg', '22672.jpg', '22686.jpg', '22691.jpg', '22695.jpg', '22709.jpg', '22711.jpg', '22715.jpg', '22724.jpg', '22726.jpg', '22740.jpg', '22744.jpg', '22746.jpg', '22750.jpg', '22752.jpg', '22756.jpg', '22761.jpg', '22765.jpg', '22770.jpg', '22776.jpg', '22778.jpg', '22782.jpg', '22785.jpg', '22808.jpg', '22813.jpg', '22815.jpg', '22821.jpg', '22822.jpg', '22823.jpg', '22825.jpg', '22843.jpg', '22852.jpg', '22857.jpg', '22866.jpg', '22871.jpg', '22873.jpg', '22879.jpg', '22889.jpg', '22897.jpg', '22900.jpg', '22908.jpg', '22914.jpg', '22922.jpg', '22930.jpg', '22945.jpg', '22958.jpg', '22965.jpg', '22967.jpg', '22970.jpg', '22976.jpg', '22983.jpg', '22987.jpg', '22992.jpg', '22998.jpg', '22999.jpg', '23002.jpg', '23003.jpg', '23008.jpg', '23010.jpg', '23013.jpg']\n"
     ]
    }
   ],
   "source": [
    "# Inspect dataset structure on disk\n",
    "print(\"Depth 0 (oversampling_dataset)\")\n",
    "print(\"-------\")\n",
    "print(os.listdir(\"oversampling_dataset\"))\n",
    "print()\n",
    "print(\"Depth 1 (oversampling_dataset/train)\")\n",
    "print(\"------------------------\")\n",
    "print(os.listdir(\"oversampling_dataset/train\"))\n",
    "print()\n",
    "print(\"Depth 1 (oversampling_dataset/val)\")\n",
    "print(\"------------------------\")\n",
    "print(os.listdir(\"oversampling_dataset/val\"))\n",
    "print()\n",
    "print(\"Depth 2 (e.g. oversampling_dataset/val/Apple)\")\n",
    "print(\"----------------------------\")\n",
    "print(os.listdir(\"oversampling_dataset/val/Apple\"))"
   ]
  },
  {
   "cell_type": "code",
   "execution_count": 5,
   "metadata": {
    "execution": {
     "iopub.execute_input": "2021-11-20T10:58:38.604743Z",
     "iopub.status.busy": "2021-11-20T10:58:38.604013Z",
     "iopub.status.idle": "2021-11-20T10:58:38.610742Z",
     "shell.execute_reply": "2021-11-20T10:58:38.610011Z",
     "shell.execute_reply.started": "2021-11-20T10:58:38.604689Z"
    },
    "id": "B7lbT-CjIanK",
    "papermill": {
     "duration": 0.028253,
     "end_time": "2021-11-20T00:22:23.859863",
     "exception": false,
     "start_time": "2021-11-20T00:22:23.831610",
     "status": "completed"
    },
    "tags": []
   },
   "outputs": [],
   "source": [
    "# Dataset folders\n",
    "dataset_dir = 'oversampling_dataset'\n",
    "training_dir = os.path.join(dataset_dir, 'train')\n",
    "validation_dir = os.path.join(dataset_dir, 'val')"
   ]
  },
  {
   "cell_type": "markdown",
   "metadata": {
    "id": "WlQgNLiRIanK",
    "papermill": {
     "duration": 0.020159,
     "end_time": "2021-11-20T00:22:23.941706",
     "exception": false,
     "start_time": "2021-11-20T00:22:23.921547",
     "status": "completed"
    },
    "tags": []
   },
   "source": [
    "## Data Loader <br>\n",
    "We create 2 generators to read/load images from the dataset directory:\n",
    "\n",
    "*   The first generator will load images from the training directory\n",
    "*   The second generator will load images from the validation directory<br>\n",
    "\n",
    "We use the tensorflow ImageDataGenerator class which also allows to define some transformations to apply for data augmentation to our training dataset. <br>\n",
    "We use a batch size of 16."
   ]
  },
  {
   "cell_type": "code",
   "execution_count": 6,
   "metadata": {
    "execution": {
     "iopub.execute_input": "2021-11-20T10:59:31.208295Z",
     "iopub.status.busy": "2021-11-20T10:59:31.208006Z",
     "iopub.status.idle": "2021-11-20T10:59:31.214573Z",
     "shell.execute_reply": "2021-11-20T10:59:31.213734Z",
     "shell.execute_reply.started": "2021-11-20T10:59:31.208267Z"
    },
    "id": "nu9KzWyWIanL",
    "papermill": {
     "duration": 0.032085,
     "end_time": "2021-11-20T00:22:23.994235",
     "exception": false,
     "start_time": "2021-11-20T00:22:23.962150",
     "status": "completed"
    },
    "tags": []
   },
   "outputs": [],
   "source": [
    "from tensorflow.keras.preprocessing.image import ImageDataGenerator"
   ]
  },
  {
   "cell_type": "code",
   "execution_count": 7,
   "metadata": {
    "colab": {
     "base_uri": "https://localhost:8080/"
    },
    "execution": {
     "iopub.execute_input": "2021-11-20T10:59:52.013429Z",
     "iopub.status.busy": "2021-11-20T10:59:52.012568Z",
     "iopub.status.idle": "2021-11-20T11:00:54.625008Z",
     "shell.execute_reply": "2021-11-20T11:00:54.623974Z",
     "shell.execute_reply.started": "2021-11-20T10:59:52.013386Z"
    },
    "id": "gpCgy9F4IanL",
    "outputId": "eeec9779-0df2-46b6-8e66-427ec14c4c51",
    "papermill": {
     "duration": 78.158136,
     "end_time": "2021-11-20T00:23:42.176625",
     "exception": false,
     "start_time": "2021-11-20T00:22:24.018489",
     "status": "completed"
    },
    "tags": []
   },
   "outputs": [
    {
     "name": "stdout",
     "output_type": "stream",
     "text": [
      "Found 77042 images belonging to 14 classes.\n",
      "Found 2660 images belonging to 14 classes.\n"
     ]
    }
   ],
   "source": [
    "aug_train_datagen = ImageDataGenerator(rotation_range=30,\n",
    "                                       height_shift_range=30,\n",
    "                                       width_shift_range=30,\n",
    "                                       zoom_range=[0.7,1.3],\n",
    "                                       horizontal_flip=True,\n",
    "                                       vertical_flip=True,\n",
    "                                       fill_mode='nearest',\n",
    "                                       brightness_range=[0.6, 1.5],\n",
    "                                       shear_range=10.0,\n",
    "                                       channel_shift_range=60,\n",
    "                                       rescale=1/255.)\n",
    "\n",
    "val_datagen = ImageDataGenerator(rescale=1/255.)\n",
    "\n",
    "aug_train_gen = aug_train_datagen.flow_from_directory(directory=training_dir,\n",
    "                                                          target_size=(256,256),\n",
    "                                                          color_mode='rgb',\n",
    "                                                          classes=None,\n",
    "                                                          class_mode='categorical',\n",
    "                                                          batch_size=16,\n",
    "                                                          shuffle=True,\n",
    "                                                          seed=seed)\n",
    "val_gen = val_datagen.flow_from_directory(directory=validation_dir,\n",
    "                                          target_size=(256,256),\n",
    "                                          color_mode='rgb',\n",
    "                                          classes=None, \n",
    "                                          class_mode='categorical',\n",
    "                                          batch_size=16,\n",
    "                                          shuffle=False,\n",
    "                                          seed=seed\n",
    "                                          )"
   ]
  },
  {
   "cell_type": "code",
   "execution_count": 8,
   "metadata": {
    "colab": {
     "base_uri": "https://localhost:8080/"
    },
    "execution": {
     "iopub.execute_input": "2021-11-20T11:00:54.636749Z",
     "iopub.status.busy": "2021-11-20T11:00:54.636291Z",
     "iopub.status.idle": "2021-11-20T11:00:54.646090Z",
     "shell.execute_reply": "2021-11-20T11:00:54.645222Z",
     "shell.execute_reply.started": "2021-11-20T11:00:54.636707Z"
    },
    "id": "sBHljVnRIanM",
    "outputId": "b37362b4-6a01-4bbf-ed31-fca164c83173",
    "papermill": {
     "duration": 0.031735,
     "end_time": "2021-11-20T00:23:42.230357",
     "exception": false,
     "start_time": "2021-11-20T00:23:42.198622",
     "status": "completed"
    },
    "tags": []
   },
   "outputs": [
    {
     "name": "stdout",
     "output_type": "stream",
     "text": [
      "Assigned labels\n",
      "{'Apple': 0, 'Blueberry': 1, 'Cherry': 2, 'Corn': 3, 'Grape': 4, 'Orange': 5, 'Peach': 6, 'Pepper': 7, 'Potato': 8, 'Raspberry': 9, 'Soybean': 10, 'Squash': 11, 'Strawberry': 12, 'Tomato': 13}\n",
      "\n",
      "Target classes\n",
      "[ 0  0  0 ... 13 13 13]\n"
     ]
    }
   ],
   "source": [
    "# How the generator assigns labels\n",
    "print(\"Assigned labels\")\n",
    "print(aug_train_gen.class_indices)\n",
    "print()\n",
    "print('Target classes')\n",
    "print(aug_train_gen.classes)"
   ]
  },
  {
   "cell_type": "markdown",
   "metadata": {
    "id": "qMh5mp45IanN"
   },
   "source": [
    "### Model metadata"
   ]
  },
  {
   "cell_type": "code",
   "execution_count": 9,
   "metadata": {
    "execution": {
     "iopub.execute_input": "2021-11-20T11:00:54.662978Z",
     "iopub.status.busy": "2021-11-20T11:00:54.662367Z",
     "iopub.status.idle": "2021-11-20T11:00:54.672162Z",
     "shell.execute_reply": "2021-11-20T11:00:54.671471Z",
     "shell.execute_reply.started": "2021-11-20T11:00:54.662927Z"
    },
    "id": "i3i7FM7zIanN",
    "papermill": {
     "duration": 0.027613,
     "end_time": "2021-11-20T00:23:42.321434",
     "exception": false,
     "start_time": "2021-11-20T00:23:42.293821",
     "status": "completed"
    },
    "tags": []
   },
   "outputs": [],
   "source": [
    "input_shape = (256, 256, 3)\n",
    "epochs = 100"
   ]
  },
  {
   "cell_type": "markdown",
   "metadata": {
    "id": "8JjzKi81IanN",
    "papermill": {
     "duration": 0.021094,
     "end_time": "2021-11-20T00:23:42.272632",
     "exception": false,
     "start_time": "2021-11-20T00:23:42.251538",
     "status": "completed"
    },
    "tags": []
   },
   "source": [
    "# CNN model (without Transfer Learning)"
   ]
  },
  {
   "cell_type": "markdown",
   "metadata": {
    "id": "BciuaAObIanN"
   },
   "source": [
    "The model proposed by us can be divided into 2 parts: one dedicated to features extraction and the other to classification.<br><br>\n",
    "The first part is composed by 6 'blocks' each one cointaining:\n",
    "*   Convolutional layer with 3 x 3 filters (whose depth increases from block to block, from 16 to 512)\n",
    "*   Batch Normalization\n",
    "*   Activation layer with Relu\n",
    "*   Max pooling layer 2 x 2\n",
    "\n",
    "The second part is composed by:\n",
    "*   1 Flatten layer + Dropout of 0.4\n",
    "*   1 Dense layer with 512 units + Batch Normalization + Relu +  Dropout of 0.4\n",
    "*   1 Dense (output) layer with 14 units + Batch Normalization + Softmax\n",
    "<br>\n",
    "\n",
    "We compile the model with:\n",
    "*   Loss function: Categorical Cross-Entropy\n",
    "*   Optimizer: Adam with learning rate of 0.001\n",
    "*   Metric: Accuracy\n",
    "\n"
   ]
  },
  {
   "cell_type": "code",
   "execution_count": 10,
   "metadata": {
    "execution": {
     "iopub.execute_input": "2021-11-20T11:01:36.110358Z",
     "iopub.status.busy": "2021-11-20T11:01:36.110033Z",
     "iopub.status.idle": "2021-11-20T11:01:36.124969Z",
     "shell.execute_reply": "2021-11-20T11:01:36.124085Z",
     "shell.execute_reply.started": "2021-11-20T11:01:36.110325Z"
    },
    "id": "3M0AjEvdIanO",
    "papermill": {
     "duration": 0.04921,
     "end_time": "2021-11-20T00:23:42.392840",
     "exception": false,
     "start_time": "2021-11-20T00:23:42.343630",
     "status": "completed"
    },
    "tags": []
   },
   "outputs": [],
   "source": [
    "# (Conv + BatchNo + Relu + MaxPool) x 6 + FC x 2\n",
    "def build_model(input_shape):\n",
    "    \n",
    "    # Build the neural network layer by layer\n",
    "    input_layer = tfkl.Input(shape=input_shape, name='Input')\n",
    "\n",
    "    x = tfkl.Conv2D(\n",
    "        filters=16,\n",
    "        kernel_size=(3, 3),\n",
    "        strides = (1, 1),\n",
    "        padding = 'same',\n",
    "        kernel_initializer = tfk.initializers.GlorotUniform(seed)\n",
    "    )(input_layer) \n",
    "    x = tfkl.BatchNormalization()(x)\n",
    "    x = tfk.activations.relu(x) \n",
    "    x = tfkl.MaxPooling2D(\n",
    "        pool_size = (2, 2)\n",
    "    )(x)\n",
    "    \n",
    "    \n",
    "    x = tfkl.Conv2D(\n",
    "        filters=32,\n",
    "        kernel_size=(3, 3),\n",
    "        strides = (1, 1),\n",
    "        padding = 'same',\n",
    "        kernel_initializer = tfk.initializers.GlorotUniform(seed)\n",
    "    )(x)\n",
    "    x = tfkl.BatchNormalization()(x)\n",
    "    x = tfk.activations.relu(x)\n",
    "    x = tfkl.MaxPooling2D(\n",
    "        pool_size = (2, 2)\n",
    "    )(x) \n",
    "    \n",
    "    x = tfkl.Conv2D(\n",
    "        filters=64,\n",
    "        kernel_size=(3, 3),\n",
    "        strides = (1, 1),\n",
    "        padding = 'same',\n",
    "        kernel_initializer = tfk.initializers.GlorotUniform(seed)\n",
    "    )(x)\n",
    "    x = tfkl.BatchNormalization()(x)\n",
    "    x = tfk.activations.relu(x)\n",
    "    x = tfkl.MaxPooling2D(\n",
    "        pool_size = (2, 2)\n",
    "    )(x)\n",
    "    \n",
    "    x = tfkl.Conv2D(\n",
    "        filters=128,\n",
    "        kernel_size=(3, 3),\n",
    "        strides = (1, 1),\n",
    "        padding = 'same',\n",
    "        kernel_initializer = tfk.initializers.GlorotUniform(seed)\n",
    "    )(x)\n",
    "    x = tfkl.BatchNormalization()(x)\n",
    "    x = tfk.activations.relu(x)\n",
    "    x = tfkl.MaxPooling2D(\n",
    "        pool_size = (2, 2)\n",
    "    )(x) \n",
    "    \n",
    "    x = tfkl.Conv2D(\n",
    "        filters=256,\n",
    "        kernel_size=(3, 3),\n",
    "        strides = (1, 1),\n",
    "        padding = 'same',\n",
    "        kernel_initializer = tfk.initializers.GlorotUniform(seed)\n",
    "    )(x)\n",
    "    x = tfkl.BatchNormalization()(x)\n",
    "    x = tfk.activations.relu(x)\n",
    "    x = tfkl.MaxPooling2D(\n",
    "        pool_size = (2, 2)\n",
    "    )(x)\n",
    "    \n",
    "    x = tfkl.Conv2D(\n",
    "        filters=512,\n",
    "        kernel_size=(3, 3),\n",
    "        strides = (1, 1),\n",
    "        padding = 'same',\n",
    "        kernel_initializer = tfk.initializers.GlorotUniform(seed)\n",
    "    )(x)\n",
    "    x = tfkl.BatchNormalization()(x)\n",
    "    x = tfk.activations.relu(x)\n",
    "    x = tfkl.MaxPooling2D(\n",
    "        pool_size = (2, 2)\n",
    "    )(x)\n",
    "    \n",
    "    x = tfkl.Flatten(name='Flatten')(x)\n",
    "    x = tfkl.Dropout(0.4, seed=seed)(x)\n",
    "    \n",
    "    x = tfkl.Dense(units=512, name='Classifier1', kernel_initializer=tfk.initializers.GlorotUniform(seed))(x)\n",
    "    x = tfkl.BatchNormalization()(x)\n",
    "    x = tfk.activations.relu(x)\n",
    "    x = tfkl.Dropout(0.4, seed=seed)(x)\n",
    "    \n",
    "    output_layer = tfkl.Dense(units=14, kernel_initializer=tfk.initializers.GlorotUniform(seed), name='Output')(x)\n",
    "    output_layer = tfkl.BatchNormalization()(output_layer)\n",
    "    output_layer = tfk.activations.softmax(output_layer)\n",
    "\n",
    "    # Connect input and output through the Model class\n",
    "    model = tfk.Model(inputs=input_layer, outputs=output_layer, name='model')\n",
    "\n",
    "    # Compile the model\n",
    "    model.compile(loss=tfk.losses.CategoricalCrossentropy(), optimizer=tfk.optimizers.Adam(learning_rate=0.001), metrics='accuracy')\n",
    "\n",
    "    # Return the model\n",
    "    return model\n"
   ]
  },
  {
   "cell_type": "code",
   "execution_count": 11,
   "metadata": {
    "colab": {
     "base_uri": "https://localhost:8080/"
    },
    "execution": {
     "iopub.execute_input": "2021-11-20T11:01:39.834780Z",
     "iopub.status.busy": "2021-11-20T11:01:39.834198Z",
     "iopub.status.idle": "2021-11-20T11:01:40.111783Z",
     "shell.execute_reply": "2021-11-20T11:01:40.110901Z",
     "shell.execute_reply.started": "2021-11-20T11:01:39.834743Z"
    },
    "id": "3iotpPjfIanO",
    "outputId": "e6db4d5d-6b27-4443-f574-dc4d0bcfd86c",
    "papermill": {
     "duration": 2.921406,
     "end_time": "2021-11-20T00:23:45.337185",
     "exception": false,
     "start_time": "2021-11-20T00:23:42.415779",
     "status": "completed"
    },
    "tags": []
   },
   "outputs": [
    {
     "name": "stdout",
     "output_type": "stream",
     "text": [
      "Model: \"model\"\n",
      "_________________________________________________________________\n",
      "Layer (type)                 Output Shape              Param #   \n",
      "=================================================================\n",
      "Input (InputLayer)           [(None, 256, 256, 3)]     0         \n",
      "_________________________________________________________________\n",
      "conv2d (Conv2D)              (None, 256, 256, 16)      448       \n",
      "_________________________________________________________________\n",
      "batch_normalization (BatchNo (None, 256, 256, 16)      64        \n",
      "_________________________________________________________________\n",
      "tf.nn.relu (TFOpLambda)      (None, 256, 256, 16)      0         \n",
      "_________________________________________________________________\n",
      "max_pooling2d (MaxPooling2D) (None, 128, 128, 16)      0         \n",
      "_________________________________________________________________\n",
      "conv2d_1 (Conv2D)            (None, 128, 128, 32)      4640      \n",
      "_________________________________________________________________\n",
      "batch_normalization_1 (Batch (None, 128, 128, 32)      128       \n",
      "_________________________________________________________________\n",
      "tf.nn.relu_1 (TFOpLambda)    (None, 128, 128, 32)      0         \n",
      "_________________________________________________________________\n",
      "max_pooling2d_1 (MaxPooling2 (None, 64, 64, 32)        0         \n",
      "_________________________________________________________________\n",
      "conv2d_2 (Conv2D)            (None, 64, 64, 64)        18496     \n",
      "_________________________________________________________________\n",
      "batch_normalization_2 (Batch (None, 64, 64, 64)        256       \n",
      "_________________________________________________________________\n",
      "tf.nn.relu_2 (TFOpLambda)    (None, 64, 64, 64)        0         \n",
      "_________________________________________________________________\n",
      "max_pooling2d_2 (MaxPooling2 (None, 32, 32, 64)        0         \n",
      "_________________________________________________________________\n",
      "conv2d_3 (Conv2D)            (None, 32, 32, 128)       73856     \n",
      "_________________________________________________________________\n",
      "batch_normalization_3 (Batch (None, 32, 32, 128)       512       \n",
      "_________________________________________________________________\n",
      "tf.nn.relu_3 (TFOpLambda)    (None, 32, 32, 128)       0         \n",
      "_________________________________________________________________\n",
      "max_pooling2d_3 (MaxPooling2 (None, 16, 16, 128)       0         \n",
      "_________________________________________________________________\n",
      "conv2d_4 (Conv2D)            (None, 16, 16, 256)       295168    \n",
      "_________________________________________________________________\n",
      "batch_normalization_4 (Batch (None, 16, 16, 256)       1024      \n",
      "_________________________________________________________________\n",
      "tf.nn.relu_4 (TFOpLambda)    (None, 16, 16, 256)       0         \n",
      "_________________________________________________________________\n",
      "max_pooling2d_4 (MaxPooling2 (None, 8, 8, 256)         0         \n",
      "_________________________________________________________________\n",
      "conv2d_5 (Conv2D)            (None, 8, 8, 512)         1180160   \n",
      "_________________________________________________________________\n",
      "batch_normalization_5 (Batch (None, 8, 8, 512)         2048      \n",
      "_________________________________________________________________\n",
      "tf.nn.relu_5 (TFOpLambda)    (None, 8, 8, 512)         0         \n",
      "_________________________________________________________________\n",
      "max_pooling2d_5 (MaxPooling2 (None, 4, 4, 512)         0         \n",
      "_________________________________________________________________\n",
      "Flatten (Flatten)            (None, 8192)              0         \n",
      "_________________________________________________________________\n",
      "dropout (Dropout)            (None, 8192)              0         \n",
      "_________________________________________________________________\n",
      "Classifier1 (Dense)          (None, 512)               4194816   \n",
      "_________________________________________________________________\n",
      "batch_normalization_6 (Batch (None, 512)               2048      \n",
      "_________________________________________________________________\n",
      "tf.nn.relu_6 (TFOpLambda)    (None, 512)               0         \n",
      "_________________________________________________________________\n",
      "dropout_1 (Dropout)          (None, 512)               0         \n",
      "_________________________________________________________________\n",
      "Output (Dense)               (None, 14)                7182      \n",
      "_________________________________________________________________\n",
      "batch_normalization_7 (Batch (None, 14)                56        \n",
      "_________________________________________________________________\n",
      "tf.compat.v1.nn.softmax (TFO (None, 14)                0         \n",
      "=================================================================\n",
      "Total params: 5,780,902\n",
      "Trainable params: 5,777,834\n",
      "Non-trainable params: 3,068\n",
      "_________________________________________________________________\n"
     ]
    }
   ],
   "source": [
    "# Build model\n",
    "model = build_model(input_shape)\n",
    "\n",
    "model.summary()"
   ]
  },
  {
   "cell_type": "code",
   "execution_count": 13,
   "metadata": {
    "colab": {
     "base_uri": "https://localhost:8080/"
    },
    "id": "-wkpDcibIanP",
    "outputId": "74b2d7c1-6e10-4431-dcec-6ab57e41fdf2"
   },
   "outputs": [
    {
     "name": "stdout",
     "output_type": "stream",
     "text": [
      "Collecting visualkeras\n",
      "  Downloading visualkeras-0.0.2-py3-none-any.whl (12 kB)\n",
      "Collecting aggdraw>=1.3.11\n",
      "  Downloading aggdraw-1.3.12-cp37-cp37m-manylinux2010_x86_64.whl (795 kB)\n",
      "\u001b[K     |████████████████████████████████| 795 kB 5.0 MB/s \n",
      "\u001b[?25hRequirement already satisfied: numpy>=1.18.1 in /usr/local/lib/python3.7/dist-packages (from visualkeras) (1.19.5)\n",
      "Requirement already satisfied: pillow>=6.2.0 in /usr/local/lib/python3.7/dist-packages (from visualkeras) (7.1.2)\n",
      "Installing collected packages: aggdraw, visualkeras\n",
      "Successfully installed aggdraw-1.3.12 visualkeras-0.0.2\n"
     ]
    }
   ],
   "source": [
    "# Download and import visualkeras library\n",
    "!pip install visualkeras\n",
    "import visualkeras"
   ]
  },
  {
   "cell_type": "code",
   "execution_count": 14,
   "metadata": {
    "colab": {
     "base_uri": "https://localhost:8080/",
     "height": 1000
    },
    "id": "Qvo3GAn1IanP",
    "outputId": "0984c384-51ca-48b9-ab95-64fee12ef9ca"
   },
   "outputs": [
    {
     "data": {
      "image/png": "[encoded data removed]",
      "text/plain": [
       "<PIL.Image.Image image mode=RGBA size=2729x2703 at 0x7F475994BF50>"
      ]
     },
     "execution_count": 14,
     "metadata": {},
     "output_type": "execute_result"
    }
   ],
   "source": [
    "visualkeras.layered_view(model, legend=True, spacing=20, scale_xy=10)"
   ]
  },
  {
   "cell_type": "markdown",
   "metadata": {
    "id": "ZKjR_E5tIanP",
    "papermill": {
     "duration": 0.025152,
     "end_time": "2021-11-20T00:23:45.388012",
     "exception": false,
     "start_time": "2021-11-20T00:23:45.362860",
     "status": "completed"
    },
    "tags": []
   },
   "source": [
    "### Callbacks"
   ]
  },
  {
   "cell_type": "markdown",
   "metadata": {
    "id": "UctTm9kvIanP"
   },
   "source": [
    "We use 3 callbacks during training:\n",
    "*   ckpt_callback: callback for saving checkpoints\n",
    "*   tb_callback: callback for saving the training logs to visualize the training on Tensorboard\n",
    "*   es_callback: callback for applying Early Stopping in order to limit overfitting"
   ]
  },
  {
   "cell_type": "code",
   "execution_count": 12,
   "metadata": {
    "execution": {
     "iopub.execute_input": "2021-11-20T11:01:51.688318Z",
     "iopub.status.busy": "2021-11-20T11:01:51.687884Z",
     "iopub.status.idle": "2021-11-20T11:01:51.696474Z",
     "shell.execute_reply": "2021-11-20T11:01:51.695540Z",
     "shell.execute_reply.started": "2021-11-20T11:01:51.688275Z"
    },
    "id": "sSNe-FqJIanQ",
    "papermill": {
     "duration": 0.036752,
     "end_time": "2021-11-20T00:23:45.449995",
     "exception": false,
     "start_time": "2021-11-20T00:23:45.413243",
     "status": "completed"
    },
    "tags": []
   },
   "outputs": [],
   "source": [
    "# Utility function to create folders and callbacks for training\n",
    "from datetime import datetime\n",
    "\n",
    "def create_folders_and_callbacks(model_name):\n",
    " \n",
    "  now = datetime.now().strftime('%b%d_%H-%M-%S')\n",
    "      \n",
    "  callbacks = []\n",
    "\n",
    "  # Model checkpoint\n",
    "  # ----------------\n",
    "  path1 = 'my_experiments' + '/' + model_name + '_' + str(now) + '/' + 'ckpts' + '/' + 'cp.ckpt'\n",
    "  ckpt_callback = tf.keras.callbacks.ModelCheckpoint(filepath=path1, \n",
    "                                                     save_weights_only=False, \n",
    "                                                     save_best_only=False) \n",
    "  callbacks.append(ckpt_callback)\n",
    "\n",
    "  # Visualize Learning on Tensorboard\n",
    "  # ---------------------------------\n",
    "  path2 = 'my_experiments' + '/' + model_name + '_' + str(now) + '/' + 'tb_logs'\n",
    "  tb_callback = tf.keras.callbacks.TensorBoard(log_dir=path2, \n",
    "                                               profile_batch=0,\n",
    "                                               histogram_freq=1)  \n",
    "  callbacks.append(tb_callback)\n",
    "\n",
    "  # Early Stopping\n",
    "  # --------------\n",
    "  es_callback = tf.keras.callbacks.EarlyStopping(monitor='val_loss', patience=10, restore_best_weights=True)\n",
    "  callbacks.append(es_callback)\n",
    "\n",
    "  return callbacks"
   ]
  },
  {
   "cell_type": "markdown",
   "metadata": {
    "id": "8FHWrDcZIanQ",
    "papermill": {
     "duration": 0.02447,
     "end_time": "2021-11-20T00:23:45.499606",
     "exception": false,
     "start_time": "2021-11-20T00:23:45.475136",
     "status": "completed"
    },
    "tags": []
   },
   "source": [
    "### Training"
   ]
  },
  {
   "cell_type": "code",
   "execution_count": 13,
   "metadata": {
    "execution": {
     "iopub.execute_input": "2021-11-20T00:23:45.555706Z",
     "iopub.status.busy": "2021-11-20T00:23:45.555128Z",
     "iopub.status.idle": "2021-11-20T07:35:22.411157Z",
     "shell.execute_reply": "2021-11-20T07:35:22.410658Z",
     "shell.execute_reply.started": "2021-11-19T17:38:33.532585Z"
    },
    "id": "HEIQl98LIanQ",
    "papermill": {
     "duration": 25896.886999,
     "end_time": "2021-11-20T07:35:22.411302",
     "exception": false,
     "start_time": "2021-11-20T00:23:45.524303",
     "status": "completed"
    },
    "tags": []
   },
   "outputs": [
    {
     "name": "stdout",
     "output_type": "stream",
     "text": [
      "Epoch 1/100\n",
      "4816/4816 [==============================] - 1272s 262ms/step - loss: 1.0746 - accuracy: 0.6658 - val_loss: 0.3820 - val_accuracy: 0.8771\n"
     ]
    },
    {
     "name": "stderr",
     "output_type": "stream",
     "text": [
      "WARNING:absl:Function `_wrapped_model` contains input name(s) Input with unsupported characters which will be renamed to input in the SavedModel.\n"
     ]
    },
    {
     "name": "stdout",
     "output_type": "stream",
     "text": [
      "Epoch 2/100\n",
      "4816/4816 [==============================] - 1242s 258ms/step - loss: 0.5045 - accuracy: 0.8522 - val_loss: 0.4713 - val_accuracy: 0.8556\n"
     ]
    },
    {
     "name": "stderr",
     "output_type": "stream",
     "text": [
      "WARNING:absl:Function `_wrapped_model` contains input name(s) Input with unsupported characters which will be renamed to input in the SavedModel.\n"
     ]
    },
    {
     "name": "stdout",
     "output_type": "stream",
     "text": [
      "Epoch 3/100\n",
      "4816/4816 [==============================] - 1250s 260ms/step - loss: 0.3111 - accuracy: 0.9132 - val_loss: 0.2235 - val_accuracy: 0.9353\n"
     ]
    },
    {
     "name": "stderr",
     "output_type": "stream",
     "text": [
      "WARNING:absl:Function `_wrapped_model` contains input name(s) Input with unsupported characters which will be renamed to input in the SavedModel.\n"
     ]
    },
    {
     "name": "stdout",
     "output_type": "stream",
     "text": [
      "Epoch 4/100\n",
      "4816/4816 [==============================] - 1257s 261ms/step - loss: 0.2634 - accuracy: 0.9252 - val_loss: 0.1807 - val_accuracy: 0.9466\n"
     ]
    },
    {
     "name": "stderr",
     "output_type": "stream",
     "text": [
      "WARNING:absl:Function `_wrapped_model` contains input name(s) Input with unsupported characters which will be renamed to input in the SavedModel.\n"
     ]
    },
    {
     "name": "stdout",
     "output_type": "stream",
     "text": [
      "Epoch 5/100\n",
      "4816/4816 [==============================] - 1258s 261ms/step - loss: 0.1923 - accuracy: 0.9464 - val_loss: 0.1144 - val_accuracy: 0.9635\n"
     ]
    },
    {
     "name": "stderr",
     "output_type": "stream",
     "text": [
      "WARNING:absl:Function `_wrapped_model` contains input name(s) Input with unsupported characters which will be renamed to input in the SavedModel.\n"
     ]
    },
    {
     "name": "stdout",
     "output_type": "stream",
     "text": [
      "Epoch 6/100\n",
      "4816/4816 [==============================] - 1250s 260ms/step - loss: 0.1537 - accuracy: 0.9570 - val_loss: 0.2250 - val_accuracy: 0.9278\n"
     ]
    },
    {
     "name": "stderr",
     "output_type": "stream",
     "text": [
      "WARNING:absl:Function `_wrapped_model` contains input name(s) Input with unsupported characters which will be renamed to input in the SavedModel.\n"
     ]
    },
    {
     "name": "stdout",
     "output_type": "stream",
     "text": [
      "Epoch 7/100\n",
      "4816/4816 [==============================] - 1272s 264ms/step - loss: 0.1296 - accuracy: 0.9639 - val_loss: 0.1089 - val_accuracy: 0.9605\n"
     ]
    },
    {
     "name": "stderr",
     "output_type": "stream",
     "text": [
      "WARNING:absl:Function `_wrapped_model` contains input name(s) Input with unsupported characters which will be renamed to input in the SavedModel.\n"
     ]
    },
    {
     "name": "stdout",
     "output_type": "stream",
     "text": [
      "Epoch 8/100\n",
      "4816/4816 [==============================] - 1248s 259ms/step - loss: 0.1121 - accuracy: 0.9687 - val_loss: 0.0914 - val_accuracy: 0.9654\n"
     ]
    },
    {
     "name": "stderr",
     "output_type": "stream",
     "text": [
      "WARNING:absl:Function `_wrapped_model` contains input name(s) Input with unsupported characters which will be renamed to input in the SavedModel.\n"
     ]
    },
    {
     "name": "stdout",
     "output_type": "stream",
     "text": [
      "Epoch 9/100\n",
      "4816/4816 [==============================] - 1259s 261ms/step - loss: 0.1026 - accuracy: 0.9710 - val_loss: 0.0404 - val_accuracy: 0.9868\n"
     ]
    },
    {
     "name": "stderr",
     "output_type": "stream",
     "text": [
      "WARNING:absl:Function `_wrapped_model` contains input name(s) Input with unsupported characters which will be renamed to input in the SavedModel.\n"
     ]
    },
    {
     "name": "stdout",
     "output_type": "stream",
     "text": [
      "Epoch 10/100\n",
      "4816/4816 [==============================] - 1249s 259ms/step - loss: 0.0852 - accuracy: 0.9764 - val_loss: 0.1388 - val_accuracy: 0.9586\n"
     ]
    },
    {
     "name": "stderr",
     "output_type": "stream",
     "text": [
      "WARNING:absl:Function `_wrapped_model` contains input name(s) Input with unsupported characters which will be renamed to input in the SavedModel.\n"
     ]
    },
    {
     "name": "stdout",
     "output_type": "stream",
     "text": [
      "Epoch 11/100\n",
      "4816/4816 [==============================] - 1260s 262ms/step - loss: 0.0788 - accuracy: 0.9775 - val_loss: 0.0192 - val_accuracy: 0.9947\n"
     ]
    },
    {
     "name": "stderr",
     "output_type": "stream",
     "text": [
      "WARNING:absl:Function `_wrapped_model` contains input name(s) Input with unsupported characters which will be renamed to input in the SavedModel.\n"
     ]
    },
    {
     "name": "stdout",
     "output_type": "stream",
     "text": [
      "Epoch 12/100\n",
      "4816/4816 [==============================] - 1266s 263ms/step - loss: 0.0712 - accuracy: 0.9800 - val_loss: 0.0539 - val_accuracy: 0.9808\n"
     ]
    },
    {
     "name": "stderr",
     "output_type": "stream",
     "text": [
      "WARNING:absl:Function `_wrapped_model` contains input name(s) Input with unsupported characters which will be renamed to input in the SavedModel.\n"
     ]
    },
    {
     "name": "stdout",
     "output_type": "stream",
     "text": [
      "Epoch 13/100\n",
      "4816/4816 [==============================] - 1269s 263ms/step - loss: 0.0668 - accuracy: 0.9813 - val_loss: 0.0296 - val_accuracy: 0.9883\n"
     ]
    },
    {
     "name": "stderr",
     "output_type": "stream",
     "text": [
      "WARNING:absl:Function `_wrapped_model` contains input name(s) Input with unsupported characters which will be renamed to input in the SavedModel.\n"
     ]
    },
    {
     "name": "stdout",
     "output_type": "stream",
     "text": [
      "Epoch 14/100\n",
      "4816/4816 [==============================] - 1249s 259ms/step - loss: 0.0627 - accuracy: 0.9823 - val_loss: 0.0489 - val_accuracy: 0.9872\n"
     ]
    },
    {
     "name": "stderr",
     "output_type": "stream",
     "text": [
      "WARNING:absl:Function `_wrapped_model` contains input name(s) Input with unsupported characters which will be renamed to input in the SavedModel.\n"
     ]
    },
    {
     "name": "stdout",
     "output_type": "stream",
     "text": [
      "Epoch 15/100\n",
      "4816/4816 [==============================] - 1264s 262ms/step - loss: 0.0592 - accuracy: 0.9830 - val_loss: 0.0225 - val_accuracy: 0.9925\n"
     ]
    },
    {
     "name": "stderr",
     "output_type": "stream",
     "text": [
      "WARNING:absl:Function `_wrapped_model` contains input name(s) Input with unsupported characters which will be renamed to input in the SavedModel.\n"
     ]
    },
    {
     "name": "stdout",
     "output_type": "stream",
     "text": [
      "Epoch 16/100\n",
      "4816/4816 [==============================] - 1246s 259ms/step - loss: 0.0535 - accuracy: 0.9840 - val_loss: 0.0203 - val_accuracy: 0.9951\n"
     ]
    },
    {
     "name": "stderr",
     "output_type": "stream",
     "text": [
      "WARNING:absl:Function `_wrapped_model` contains input name(s) Input with unsupported characters which will be renamed to input in the SavedModel.\n"
     ]
    },
    {
     "name": "stdout",
     "output_type": "stream",
     "text": [
      "Epoch 17/100\n",
      "4816/4816 [==============================] - 1236s 257ms/step - loss: 0.0517 - accuracy: 0.9847 - val_loss: 0.0188 - val_accuracy: 0.9947\n"
     ]
    },
    {
     "name": "stderr",
     "output_type": "stream",
     "text": [
      "WARNING:absl:Function `_wrapped_model` contains input name(s) Input with unsupported characters which will be renamed to input in the SavedModel.\n"
     ]
    },
    {
     "name": "stdout",
     "output_type": "stream",
     "text": [
      "Epoch 18/100\n",
      "4816/4816 [==============================] - 1243s 258ms/step - loss: 0.0507 - accuracy: 0.9853 - val_loss: 0.0233 - val_accuracy: 0.9929\n"
     ]
    },
    {
     "name": "stderr",
     "output_type": "stream",
     "text": [
      "WARNING:absl:Function `_wrapped_model` contains input name(s) Input with unsupported characters which will be renamed to input in the SavedModel.\n"
     ]
    },
    {
     "name": "stdout",
     "output_type": "stream",
     "text": [
      "Epoch 19/100\n",
      "4816/4816 [==============================] - 1233s 256ms/step - loss: 0.0463 - accuracy: 0.9863 - val_loss: 0.0187 - val_accuracy: 0.9955\n"
     ]
    },
    {
     "name": "stderr",
     "output_type": "stream",
     "text": [
      "WARNING:absl:Function `_wrapped_model` contains input name(s) Input with unsupported characters which will be renamed to input in the SavedModel.\n"
     ]
    },
    {
     "name": "stdout",
     "output_type": "stream",
     "text": [
      "Epoch 20/100\n",
      "4816/4816 [==============================] - 1237s 257ms/step - loss: 0.0438 - accuracy: 0.9871 - val_loss: 0.0853 - val_accuracy: 0.9714\n"
     ]
    },
    {
     "name": "stderr",
     "output_type": "stream",
     "text": [
      "WARNING:absl:Function `_wrapped_model` contains input name(s) Input with unsupported characters which will be renamed to input in the SavedModel.\n"
     ]
    },
    {
     "name": "stdout",
     "output_type": "stream",
     "text": [
      "Epoch 21/100\n",
      "4816/4816 [==============================] - 1246s 259ms/step - loss: 0.0422 - accuracy: 0.9879 - val_loss: 0.0205 - val_accuracy: 0.9929\n"
     ]
    },
    {
     "name": "stderr",
     "output_type": "stream",
     "text": [
      "WARNING:absl:Function `_wrapped_model` contains input name(s) Input with unsupported characters which will be renamed to input in the SavedModel.\n"
     ]
    },
    {
     "name": "stdout",
     "output_type": "stream",
     "text": [
      "Epoch 22/100\n",
      "4816/4816 [==============================] - 1241s 258ms/step - loss: 0.0404 - accuracy: 0.9881 - val_loss: 0.0153 - val_accuracy: 0.9951\n"
     ]
    },
    {
     "name": "stderr",
     "output_type": "stream",
     "text": [
      "WARNING:absl:Function `_wrapped_model` contains input name(s) Input with unsupported characters which will be renamed to input in the SavedModel.\n"
     ]
    },
    {
     "name": "stdout",
     "output_type": "stream",
     "text": [
      "Epoch 23/100\n",
      "4816/4816 [==============================] - 1246s 259ms/step - loss: 0.0379 - accuracy: 0.9891 - val_loss: 0.0175 - val_accuracy: 0.9947\n"
     ]
    },
    {
     "name": "stderr",
     "output_type": "stream",
     "text": [
      "WARNING:absl:Function `_wrapped_model` contains input name(s) Input with unsupported characters which will be renamed to input in the SavedModel.\n"
     ]
    },
    {
     "name": "stdout",
     "output_type": "stream",
     "text": [
      "Epoch 24/100\n",
      "4816/4816 [==============================] - 1246s 259ms/step - loss: 0.0349 - accuracy: 0.9896 - val_loss: 0.0584 - val_accuracy: 0.9850\n"
     ]
    },
    {
     "name": "stderr",
     "output_type": "stream",
     "text": [
      "WARNING:absl:Function `_wrapped_model` contains input name(s) Input with unsupported characters which will be renamed to input in the SavedModel.\n"
     ]
    },
    {
     "name": "stdout",
     "output_type": "stream",
     "text": [
      "Epoch 25/100\n",
      "4816/4816 [==============================] - 1263s 262ms/step - loss: 0.0348 - accuracy: 0.9898 - val_loss: 0.0228 - val_accuracy: 0.9925\n"
     ]
    },
    {
     "name": "stderr",
     "output_type": "stream",
     "text": [
      "WARNING:absl:Function `_wrapped_model` contains input name(s) Input with unsupported characters which will be renamed to input in the SavedModel.\n"
     ]
    },
    {
     "name": "stdout",
     "output_type": "stream",
     "text": [
      "Epoch 26/100\n",
      "4816/4816 [==============================] - 1278s 265ms/step - loss: 0.0351 - accuracy: 0.9897 - val_loss: 0.0123 - val_accuracy: 0.9970\n"
     ]
    },
    {
     "name": "stderr",
     "output_type": "stream",
     "text": [
      "WARNING:absl:Function `_wrapped_model` contains input name(s) Input with unsupported characters which will be renamed to input in the SavedModel.\n"
     ]
    },
    {
     "name": "stdout",
     "output_type": "stream",
     "text": [
      "Epoch 27/100\n",
      "4816/4816 [==============================] - 1240s 257ms/step - loss: 0.0493 - accuracy: 0.9855 - val_loss: 0.0084 - val_accuracy: 0.9974\n"
     ]
    },
    {
     "name": "stderr",
     "output_type": "stream",
     "text": [
      "WARNING:absl:Function `_wrapped_model` contains input name(s) Input with unsupported characters which will be renamed to input in the SavedModel.\n"
     ]
    },
    {
     "name": "stdout",
     "output_type": "stream",
     "text": [
      "Epoch 28/100\n",
      "4816/4816 [==============================] - 1249s 259ms/step - loss: 0.0261 - accuracy: 0.9924 - val_loss: 0.0207 - val_accuracy: 0.9936\n"
     ]
    },
    {
     "name": "stderr",
     "output_type": "stream",
     "text": [
      "WARNING:absl:Function `_wrapped_model` contains input name(s) Input with unsupported characters which will be renamed to input in the SavedModel.\n"
     ]
    },
    {
     "name": "stdout",
     "output_type": "stream",
     "text": [
      "Epoch 29/100\n",
      "4816/4816 [==============================] - 1244s 258ms/step - loss: 0.0336 - accuracy: 0.9903 - val_loss: 0.0142 - val_accuracy: 0.9966\n"
     ]
    },
    {
     "name": "stderr",
     "output_type": "stream",
     "text": [
      "WARNING:absl:Function `_wrapped_model` contains input name(s) Input with unsupported characters which will be renamed to input in the SavedModel.\n"
     ]
    },
    {
     "name": "stdout",
     "output_type": "stream",
     "text": [
      "Epoch 30/100\n",
      "4816/4816 [==============================] - 1234s 256ms/step - loss: 0.0330 - accuracy: 0.9907 - val_loss: 0.0276 - val_accuracy: 0.9914\n"
     ]
    },
    {
     "name": "stderr",
     "output_type": "stream",
     "text": [
      "WARNING:absl:Function `_wrapped_model` contains input name(s) Input with unsupported characters which will be renamed to input in the SavedModel.\n"
     ]
    },
    {
     "name": "stdout",
     "output_type": "stream",
     "text": [
      "Epoch 31/100\n",
      "4816/4816 [==============================] - 1232s 256ms/step - loss: 0.0297 - accuracy: 0.9915 - val_loss: 0.0173 - val_accuracy: 0.9940\n"
     ]
    },
    {
     "name": "stderr",
     "output_type": "stream",
     "text": [
      "WARNING:absl:Function `_wrapped_model` contains input name(s) Input with unsupported characters which will be renamed to input in the SavedModel.\n"
     ]
    },
    {
     "name": "stdout",
     "output_type": "stream",
     "text": [
      "Epoch 32/100\n",
      "4816/4816 [==============================] - 1230s 255ms/step - loss: 0.0299 - accuracy: 0.9914 - val_loss: 0.0260 - val_accuracy: 0.9921\n"
     ]
    },
    {
     "name": "stderr",
     "output_type": "stream",
     "text": [
      "WARNING:absl:Function `_wrapped_model` contains input name(s) Input with unsupported characters which will be renamed to input in the SavedModel.\n"
     ]
    },
    {
     "name": "stdout",
     "output_type": "stream",
     "text": [
      "Epoch 33/100\n",
      "4816/4816 [==============================] - 1234s 256ms/step - loss: 0.0283 - accuracy: 0.9919 - val_loss: 0.0241 - val_accuracy: 0.9944\n"
     ]
    },
    {
     "name": "stderr",
     "output_type": "stream",
     "text": [
      "WARNING:absl:Function `_wrapped_model` contains input name(s) Input with unsupported characters which will be renamed to input in the SavedModel.\n"
     ]
    },
    {
     "name": "stdout",
     "output_type": "stream",
     "text": [
      "Epoch 34/100\n",
      "4816/4816 [==============================] - 1232s 256ms/step - loss: 0.0283 - accuracy: 0.9917 - val_loss: 0.0141 - val_accuracy: 0.9966\n"
     ]
    },
    {
     "name": "stderr",
     "output_type": "stream",
     "text": [
      "WARNING:absl:Function `_wrapped_model` contains input name(s) Input with unsupported characters which will be renamed to input in the SavedModel.\n"
     ]
    },
    {
     "name": "stdout",
     "output_type": "stream",
     "text": [
      "Epoch 35/100\n",
      "4816/4816 [==============================] - 1238s 257ms/step - loss: 0.0280 - accuracy: 0.9918 - val_loss: 0.0097 - val_accuracy: 0.9985\n"
     ]
    },
    {
     "name": "stderr",
     "output_type": "stream",
     "text": [
      "WARNING:absl:Function `_wrapped_model` contains input name(s) Input with unsupported characters which will be renamed to input in the SavedModel.\n"
     ]
    },
    {
     "name": "stdout",
     "output_type": "stream",
     "text": [
      "Epoch 36/100\n",
      "4816/4816 [==============================] - 1238s 257ms/step - loss: 0.0264 - accuracy: 0.9924 - val_loss: 0.0233 - val_accuracy: 0.9940\n"
     ]
    },
    {
     "name": "stderr",
     "output_type": "stream",
     "text": [
      "WARNING:absl:Function `_wrapped_model` contains input name(s) Input with unsupported characters which will be renamed to input in the SavedModel.\n"
     ]
    },
    {
     "name": "stdout",
     "output_type": "stream",
     "text": [
      "Epoch 37/100\n",
      "4816/4816 [==============================] - 1233s 256ms/step - loss: 0.0262 - accuracy: 0.9924 - val_loss: 0.0252 - val_accuracy: 0.9921\n"
     ]
    },
    {
     "name": "stderr",
     "output_type": "stream",
     "text": [
      "WARNING:absl:Function `_wrapped_model` contains input name(s) Input with unsupported characters which will be renamed to input in the SavedModel.\n"
     ]
    }
   ],
   "source": [
    "aug_callbacks = create_folders_and_callbacks(model_name='CNN27') # create folders and callbacks for training\n",
    "\n",
    "tf.get_logger().setLevel('WARNING') #  if you want to suppress only INFOs\n",
    "\n",
    "# Train the model\n",
    "history = model.fit(\n",
    "    x = aug_train_gen,\n",
    "    epochs = epochs,\n",
    "    validation_data = val_gen,\n",
    "    callbacks = aug_callbacks,\n",
    ").history"
   ]
  },
  {
   "cell_type": "code",
   "execution_count": 14,
   "metadata": {
    "execution": {
     "iopub.execute_input": "2021-11-20T07:36:59.006356Z",
     "iopub.status.busy": "2021-11-20T07:36:59.005185Z",
     "iopub.status.idle": "2021-11-20T07:37:00.952076Z",
     "shell.execute_reply": "2021-11-20T07:37:00.952919Z"
    },
    "id": "f_R2-Jg-IanQ",
    "papermill": {
     "duration": 26.24403,
     "end_time": "2021-11-20T07:37:00.953185",
     "exception": false,
     "start_time": "2021-11-20T07:36:34.709155",
     "status": "completed"
    },
    "tags": []
   },
   "outputs": [
    {
     "name": "stderr",
     "output_type": "stream",
     "text": [
      "WARNING:absl:Function `_wrapped_model` contains input name(s) Input with unsupported characters which will be renamed to input in the SavedModel.\n"
     ]
    }
   ],
   "source": [
    "# Save best epoch model\n",
    "model.save('CNN27')"
   ]
  },
  {
   "cell_type": "markdown",
   "metadata": {
    "id": "ydRGAsaiIanQ",
    "papermill": {
     "duration": 24.31485,
     "end_time": "2021-11-20T07:37:49.679257",
     "exception": false,
     "start_time": "2021-11-20T07:37:25.364407",
     "status": "completed"
    },
    "tags": []
   },
   "source": [
    "### Plot the Training"
   ]
  },
  {
   "cell_type": "code",
   "execution_count": 15,
   "metadata": {
    "id": "VL6xcO7jIanQ"
   },
   "outputs": [],
   "source": [
    "# utility function to plot the training history\n",
    "def plot_history(history):\n",
    "    plt.figure(figsize=(15,5))\n",
    "    plt.plot(history['loss'], label='Training', alpha=.3, color='#ff7f0e', linestyle='--')\n",
    "    plt.plot(history['val_loss'], label='Validation', alpha=.8, color='#ff7f0e')\n",
    "    plt.legend(loc='upper left')\n",
    "    plt.title('Categorical Crossentropy')\n",
    "    plt.grid(alpha=.3)\n",
    "\n",
    "    plt.figure(figsize=(15,5))\n",
    "    plt.plot(history['accuracy'], label='Training', alpha=.8, color='#ff7f0e', linestyle='--')\n",
    "    plt.plot(history['val_accuracy'], label='Validation', alpha=.8, color='#ff7f0e')\n",
    "    plt.legend(loc='upper left')\n",
    "    plt.title('Accuracy')\n",
    "    plt.grid(alpha=.3)\n",
    "\n",
    "    plt.show()"
   ]
  },
  {
   "cell_type": "code",
   "execution_count": 16,
   "metadata": {
    "execution": {
     "iopub.execute_input": "2021-11-20T07:38:38.104974Z",
     "iopub.status.busy": "2021-11-20T07:38:38.104052Z",
     "iopub.status.idle": "2021-11-20T07:38:38.533876Z",
     "shell.execute_reply": "2021-11-20T07:38:38.534361Z"
    },
    "id": "UtrgKqOPIanR",
    "papermill": {
     "duration": 24.841178,
     "end_time": "2021-11-20T07:38:38.534522",
     "exception": false,
     "start_time": "2021-11-20T07:38:13.693344",
     "status": "completed"
    },
    "tags": []
   },
   "outputs": [
    {
     "data": {
      "image/png": "[encoded data removed]",
      "text/plain": [
       "<Figure size 1080x360 with 1 Axes>"
      ]
     },
     "metadata": {
      "needs_background": "light"
     },
     "output_type": "display_data"
    },
    {
     "data": {
      "image/png": "[encoded data removed]",
      "text/plain": [
       "<Figure size 1080x360 with 1 Axes>"
      ]
     },
     "metadata": {
      "needs_background": "light"
     },
     "output_type": "display_data"
    }
   ],
   "source": [
    "plot_history(history)"
   ]
  },
  {
   "cell_type": "markdown",
   "metadata": {
    "id": "4u0L6OBVIanR",
    "papermill": {
     "duration": 24.158443,
     "end_time": "2021-11-20T07:39:26.988909",
     "exception": false,
     "start_time": "2021-11-20T07:39:02.830466",
     "status": "completed"
    },
    "tags": []
   },
   "source": [
    "### Validation results"
   ]
  },
  {
   "cell_type": "code",
   "execution_count": 16,
   "metadata": {
    "id": "Hn4ZHpiwiEz8"
   },
   "outputs": [],
   "source": [
    "# model = tfk.models.load_model('CNN27')"
   ]
  },
  {
   "cell_type": "code",
   "execution_count": 17,
   "metadata": {
    "id": "CVPhcmj3IanR"
   },
   "outputs": [],
   "source": [
    "# Utility function to print the Confusion Matrix ad the Classification Report\n",
    "def classif_report(model):\n",
    "    Y_pred = model.predict(val_gen)\n",
    "    y_pred = np.argmax(Y_pred, axis=1)\n",
    "    print('Confusion Matrix')\n",
    "    print(confusion_matrix(val_gen.classes, y_pred))\n",
    "    print()\n",
    "    print('Classification Report')\n",
    "    print()\n",
    "    print()\n",
    "    target_names = ['Apple','Blueberry','Cherry','Corn','Grape','Orange','Peach','Pepper','Potato','Raspberry','Soybean','Squash','Strawberry','Tomato']\n",
    "    print(classification_report(val_gen.classes, y_pred, target_names=target_names))\n",
    "    print()\n",
    "    print('Validation metrics:')\n",
    "    model_metrics = model.evaluate(val_gen, return_dict=True)    "
   ]
  },
  {
   "cell_type": "code",
   "execution_count": 18,
   "metadata": {
    "colab": {
     "base_uri": "https://localhost:8080/"
    },
    "id": "nI5jkkjPiEz9",
    "outputId": "28e12306-8b20-44ff-ecef-1a09694ead43"
   },
   "outputs": [
    {
     "name": "stdout",
     "output_type": "stream",
     "text": [
      "Confusion Matrix\n",
      "[[190   0   0   0   0   0   0   0   0   0   0   0   0   0]\n",
      " [  0 190   0   0   0   0   0   0   0   0   0   0   0   0]\n",
      " [  0   0 189   0   0   0   0   0   0   0   1   0   0   0]\n",
      " [  0   0   0 190   0   0   0   0   0   0   0   0   0   0]\n",
      " [  0   0   0   0 190   0   0   0   0   0   0   0   0   0]\n",
      " [  1   0   0   0   0 189   0   0   0   0   0   0   0   0]\n",
      " [  1   0   0   0   0   0 189   0   0   0   0   0   0   0]\n",
      " [  0   0   0   0   0   1   0 189   0   0   0   0   0   0]\n",
      " [  0   0   0   0   0   0   0   0 189   0   0   0   0   1]\n",
      " [  0   0   0   0   0   0   0   0   0 190   0   0   0   0]\n",
      " [  0   0   0   0   0   0   0   0   0   0 190   0   0   0]\n",
      " [  0   0   0   0   1   0   0   0   0   0   0 189   0   0]\n",
      " [  0   0   0   0   0   0   0   0   0   0   0   0 190   0]\n",
      " [  0   0   0   0   0   1   0   0   0   0   0   0   0 189]]\n",
      "\n",
      "Classification Report\n",
      "\n",
      "\n",
      "              precision    recall  f1-score   support\n",
      "\n",
      "       Apple       0.99      1.00      0.99       190\n",
      "   Blueberry       1.00      1.00      1.00       190\n",
      "      Cherry       1.00      0.99      1.00       190\n",
      "        Corn       1.00      1.00      1.00       190\n",
      "       Grape       0.99      1.00      1.00       190\n",
      "      Orange       0.99      0.99      0.99       190\n",
      "       Peach       1.00      0.99      1.00       190\n",
      "      Pepper       1.00      0.99      1.00       190\n",
      "      Potato       1.00      0.99      1.00       190\n",
      "   Raspberry       1.00      1.00      1.00       190\n",
      "     Soybean       0.99      1.00      1.00       190\n",
      "      Squash       1.00      0.99      1.00       190\n",
      "  Strawberry       1.00      1.00      1.00       190\n",
      "      Tomato       0.99      0.99      0.99       190\n",
      "\n",
      "    accuracy                           1.00      2660\n",
      "   macro avg       1.00      1.00      1.00      2660\n",
      "weighted avg       1.00      1.00      1.00      2660\n",
      "\n",
      "\n",
      "Validation metrics:\n",
      "167/167 [==============================] - 4s 24ms/step - loss: 0.0084 - accuracy: 0.9974\n"
     ]
    }
   ],
   "source": [
    "# Confusion Matrix and Classification Report\n",
    "classif_report(model)"
   ]
  },
  {
   "cell_type": "markdown",
   "metadata": {
    "id": "1g95I3UoIanR"
   },
   "source": [
    "# Transfer learning and Fine Tuning: Xception\n",
    "We use the Xception model for transfer learning and fine tuning\n",
    "([https://arxiv.org/abs/1610.02357](https://arxiv.org/abs/1610.02357))."
   ]
  },
  {
   "cell_type": "markdown",
   "metadata": {
    "id": "JEsaJAq9IanS"
   },
   "source": [
    "We slightly modify our ImageDataGenerator by including the preprocessing function used by Xception\n",
    "(We don't use anymore the rescale 1/255.). <br>\n",
    "The inputs pixel values are scaled between -1 and 1, sample-wise."
   ]
  },
  {
   "cell_type": "code",
   "execution_count": 19,
   "metadata": {
    "id": "aL2jNrO4IanS"
   },
   "outputs": [],
   "source": [
    "# We process our images with the preprocessing function used by Xception\n",
    "from tensorflow.keras.applications.xception import preprocess_input"
   ]
  },
  {
   "cell_type": "code",
   "execution_count": 20,
   "metadata": {
    "colab": {
     "base_uri": "https://localhost:8080/"
    },
    "id": "V7wUc2YIIanS",
    "outputId": "787c0d47-aec2-4feb-e61e-0c2dd024f259"
   },
   "outputs": [
    {
     "name": "stdout",
     "output_type": "stream",
     "text": [
      "Found 77042 images belonging to 14 classes.\n",
      "Found 2660 images belonging to 14 classes.\n"
     ]
    }
   ],
   "source": [
    "aug_train_datagen = ImageDataGenerator(rotation_range=30,\n",
    "                                       height_shift_range=30,\n",
    "                                       width_shift_range=30,\n",
    "                                       zoom_range=[0.7,1.3],\n",
    "                                       horizontal_flip=True,\n",
    "                                       vertical_flip=True,\n",
    "                                       fill_mode='nearest',\n",
    "                                       brightness_range=[0.6, 1.5],\n",
    "                                       shear_range=10.0,\n",
    "                                       channel_shift_range=60,\n",
    "                                       preprocessing_function=preprocess_input)\n",
    "\n",
    "val_datagen = ImageDataGenerator(preprocessing_function=preprocess_input)\n",
    "\n",
    "aug_train_gen = aug_train_datagen.flow_from_directory(directory=training_dir,\n",
    "                                                          target_size=(256,256),\n",
    "                                                          color_mode='rgb',\n",
    "                                                          classes=None,\n",
    "                                                          class_mode='categorical',\n",
    "                                                          batch_size=16,\n",
    "                                                          shuffle=True,\n",
    "                                                          seed=seed)\n",
    "val_gen = val_datagen.flow_from_directory(directory=validation_dir,\n",
    "                                          target_size=(256,256),\n",
    "                                          color_mode='rgb',\n",
    "                                          classes=None, \n",
    "                                          class_mode='categorical',\n",
    "                                          batch_size=16,\n",
    "                                          shuffle=False,\n",
    "                                          seed=seed\n",
    "                                          )"
   ]
  },
  {
   "cell_type": "markdown",
   "metadata": {
    "id": "v2RwoiPWIanS"
   },
   "source": [
    "## Transfer Learning"
   ]
  },
  {
   "cell_type": "code",
   "execution_count": 21,
   "metadata": {
    "colab": {
     "base_uri": "https://localhost:8080/"
    },
    "id": "iYXU7I-iIanS",
    "outputId": "ecbb4437-3a5a-4f60-99a0-75d839f7f2de"
   },
   "outputs": [
    {
     "name": "stdout",
     "output_type": "stream",
     "text": [
      "Model: \"xception\"\n",
      "__________________________________________________________________________________________________\n",
      "Layer (type)                    Output Shape         Param #     Connected to                     \n",
      "==================================================================================================\n",
      "input_1 (InputLayer)            [(None, 256, 256, 3) 0                                            \n",
      "__________________________________________________________________________________________________\n",
      "block1_conv1 (Conv2D)           (None, 127, 127, 32) 864         input_1[0][0]                    \n",
      "__________________________________________________________________________________________________\n",
      "block1_conv1_bn (BatchNormaliza (None, 127, 127, 32) 128         block1_conv1[0][0]               \n",
      "__________________________________________________________________________________________________\n",
      "block1_conv1_act (Activation)   (None, 127, 127, 32) 0           block1_conv1_bn[0][0]            \n",
      "__________________________________________________________________________________________________\n",
      "block1_conv2 (Conv2D)           (None, 125, 125, 64) 18432       block1_conv1_act[0][0]           \n",
      "__________________________________________________________________________________________________\n",
      "block1_conv2_bn (BatchNormaliza (None, 125, 125, 64) 256         block1_conv2[0][0]               \n",
      "__________________________________________________________________________________________________\n",
      "block1_conv2_act (Activation)   (None, 125, 125, 64) 0           block1_conv2_bn[0][0]            \n",
      "__________________________________________________________________________________________________\n",
      "block2_sepconv1 (SeparableConv2 (None, 125, 125, 128 8768        block1_conv2_act[0][0]           \n",
      "__________________________________________________________________________________________________\n",
      "block2_sepconv1_bn (BatchNormal (None, 125, 125, 128 512         block2_sepconv1[0][0]            \n",
      "__________________________________________________________________________________________________\n",
      "block2_sepconv2_act (Activation (None, 125, 125, 128 0           block2_sepconv1_bn[0][0]         \n",
      "__________________________________________________________________________________________________\n",
      "block2_sepconv2 (SeparableConv2 (None, 125, 125, 128 17536       block2_sepconv2_act[0][0]        \n",
      "__________________________________________________________________________________________________\n",
      "block2_sepconv2_bn (BatchNormal (None, 125, 125, 128 512         block2_sepconv2[0][0]            \n",
      "__________________________________________________________________________________________________\n",
      "conv2d_6 (Conv2D)               (None, 63, 63, 128)  8192        block1_conv2_act[0][0]           \n",
      "__________________________________________________________________________________________________\n",
      "block2_pool (MaxPooling2D)      (None, 63, 63, 128)  0           block2_sepconv2_bn[0][0]         \n",
      "__________________________________________________________________________________________________\n",
      "batch_normalization_8 (BatchNor (None, 63, 63, 128)  512         conv2d_6[0][0]                   \n",
      "__________________________________________________________________________________________________\n",
      "add (Add)                       (None, 63, 63, 128)  0           block2_pool[0][0]                \n",
      "                                                                 batch_normalization_8[0][0]      \n",
      "__________________________________________________________________________________________________\n",
      "block3_sepconv1_act (Activation (None, 63, 63, 128)  0           add[0][0]                        \n",
      "__________________________________________________________________________________________________\n",
      "block3_sepconv1 (SeparableConv2 (None, 63, 63, 256)  33920       block3_sepconv1_act[0][0]        \n",
      "__________________________________________________________________________________________________\n",
      "block3_sepconv1_bn (BatchNormal (None, 63, 63, 256)  1024        block3_sepconv1[0][0]            \n",
      "__________________________________________________________________________________________________\n",
      "block3_sepconv2_act (Activation (None, 63, 63, 256)  0           block3_sepconv1_bn[0][0]         \n",
      "__________________________________________________________________________________________________\n",
      "block3_sepconv2 (SeparableConv2 (None, 63, 63, 256)  67840       block3_sepconv2_act[0][0]        \n",
      "__________________________________________________________________________________________________\n",
      "block3_sepconv2_bn (BatchNormal (None, 63, 63, 256)  1024        block3_sepconv2[0][0]            \n",
      "__________________________________________________________________________________________________\n",
      "conv2d_7 (Conv2D)               (None, 32, 32, 256)  32768       add[0][0]                        \n",
      "__________________________________________________________________________________________________\n",
      "block3_pool (MaxPooling2D)      (None, 32, 32, 256)  0           block3_sepconv2_bn[0][0]         \n",
      "__________________________________________________________________________________________________\n",
      "batch_normalization_9 (BatchNor (None, 32, 32, 256)  1024        conv2d_7[0][0]                   \n",
      "__________________________________________________________________________________________________\n",
      "add_1 (Add)                     (None, 32, 32, 256)  0           block3_pool[0][0]                \n",
      "                                                                 batch_normalization_9[0][0]      \n",
      "__________________________________________________________________________________________________\n",
      "block4_sepconv1_act (Activation (None, 32, 32, 256)  0           add_1[0][0]                      \n",
      "__________________________________________________________________________________________________\n",
      "block4_sepconv1 (SeparableConv2 (None, 32, 32, 728)  188672      block4_sepconv1_act[0][0]        \n",
      "__________________________________________________________________________________________________\n",
      "block4_sepconv1_bn (BatchNormal (None, 32, 32, 728)  2912        block4_sepconv1[0][0]            \n",
      "__________________________________________________________________________________________________\n",
      "block4_sepconv2_act (Activation (None, 32, 32, 728)  0           block4_sepconv1_bn[0][0]         \n",
      "__________________________________________________________________________________________________\n",
      "block4_sepconv2 (SeparableConv2 (None, 32, 32, 728)  536536      block4_sepconv2_act[0][0]        \n",
      "__________________________________________________________________________________________________\n",
      "block4_sepconv2_bn (BatchNormal (None, 32, 32, 728)  2912        block4_sepconv2[0][0]            \n",
      "__________________________________________________________________________________________________\n",
      "conv2d_8 (Conv2D)               (None, 16, 16, 728)  186368      add_1[0][0]                      \n",
      "__________________________________________________________________________________________________\n",
      "block4_pool (MaxPooling2D)      (None, 16, 16, 728)  0           block4_sepconv2_bn[0][0]         \n",
      "__________________________________________________________________________________________________\n",
      "batch_normalization_10 (BatchNo (None, 16, 16, 728)  2912        conv2d_8[0][0]                   \n",
      "__________________________________________________________________________________________________\n",
      "add_2 (Add)                     (None, 16, 16, 728)  0           block4_pool[0][0]                \n",
      "                                                                 batch_normalization_10[0][0]     \n",
      "__________________________________________________________________________________________________\n",
      "block5_sepconv1_act (Activation (None, 16, 16, 728)  0           add_2[0][0]                      \n",
      "__________________________________________________________________________________________________\n",
      "block5_sepconv1 (SeparableConv2 (None, 16, 16, 728)  536536      block5_sepconv1_act[0][0]        \n",
      "__________________________________________________________________________________________________\n",
      "block5_sepconv1_bn (BatchNormal (None, 16, 16, 728)  2912        block5_sepconv1[0][0]            \n",
      "__________________________________________________________________________________________________\n",
      "block5_sepconv2_act (Activation (None, 16, 16, 728)  0           block5_sepconv1_bn[0][0]         \n",
      "__________________________________________________________________________________________________\n",
      "block5_sepconv2 (SeparableConv2 (None, 16, 16, 728)  536536      block5_sepconv2_act[0][0]        \n",
      "__________________________________________________________________________________________________\n",
      "block5_sepconv2_bn (BatchNormal (None, 16, 16, 728)  2912        block5_sepconv2[0][0]            \n",
      "__________________________________________________________________________________________________\n",
      "block5_sepconv3_act (Activation (None, 16, 16, 728)  0           block5_sepconv2_bn[0][0]         \n",
      "__________________________________________________________________________________________________\n",
      "block5_sepconv3 (SeparableConv2 (None, 16, 16, 728)  536536      block5_sepconv3_act[0][0]        \n",
      "__________________________________________________________________________________________________\n",
      "block5_sepconv3_bn (BatchNormal (None, 16, 16, 728)  2912        block5_sepconv3[0][0]            \n",
      "__________________________________________________________________________________________________\n",
      "add_3 (Add)                     (None, 16, 16, 728)  0           block5_sepconv3_bn[0][0]         \n",
      "                                                                 add_2[0][0]                      \n",
      "__________________________________________________________________________________________________\n",
      "block6_sepconv1_act (Activation (None, 16, 16, 728)  0           add_3[0][0]                      \n",
      "__________________________________________________________________________________________________\n",
      "block6_sepconv1 (SeparableConv2 (None, 16, 16, 728)  536536      block6_sepconv1_act[0][0]        \n",
      "__________________________________________________________________________________________________\n",
      "block6_sepconv1_bn (BatchNormal (None, 16, 16, 728)  2912        block6_sepconv1[0][0]            \n",
      "__________________________________________________________________________________________________\n",
      "block6_sepconv2_act (Activation (None, 16, 16, 728)  0           block6_sepconv1_bn[0][0]         \n",
      "__________________________________________________________________________________________________\n",
      "block6_sepconv2 (SeparableConv2 (None, 16, 16, 728)  536536      block6_sepconv2_act[0][0]        \n",
      "__________________________________________________________________________________________________\n",
      "block6_sepconv2_bn (BatchNormal (None, 16, 16, 728)  2912        block6_sepconv2[0][0]            \n",
      "__________________________________________________________________________________________________\n",
      "block6_sepconv3_act (Activation (None, 16, 16, 728)  0           block6_sepconv2_bn[0][0]         \n",
      "__________________________________________________________________________________________________\n",
      "block6_sepconv3 (SeparableConv2 (None, 16, 16, 728)  536536      block6_sepconv3_act[0][0]        \n",
      "__________________________________________________________________________________________________\n",
      "block6_sepconv3_bn (BatchNormal (None, 16, 16, 728)  2912        block6_sepconv3[0][0]            \n",
      "__________________________________________________________________________________________________\n",
      "add_4 (Add)                     (None, 16, 16, 728)  0           block6_sepconv3_bn[0][0]         \n",
      "                                                                 add_3[0][0]                      \n",
      "__________________________________________________________________________________________________\n",
      "block7_sepconv1_act (Activation (None, 16, 16, 728)  0           add_4[0][0]                      \n",
      "__________________________________________________________________________________________________\n",
      "block7_sepconv1 (SeparableConv2 (None, 16, 16, 728)  536536      block7_sepconv1_act[0][0]        \n",
      "__________________________________________________________________________________________________\n",
      "block7_sepconv1_bn (BatchNormal (None, 16, 16, 728)  2912        block7_sepconv1[0][0]            \n",
      "__________________________________________________________________________________________________\n",
      "block7_sepconv2_act (Activation (None, 16, 16, 728)  0           block7_sepconv1_bn[0][0]         \n",
      "__________________________________________________________________________________________________\n",
      "block7_sepconv2 (SeparableConv2 (None, 16, 16, 728)  536536      block7_sepconv2_act[0][0]        \n",
      "__________________________________________________________________________________________________\n",
      "block7_sepconv2_bn (BatchNormal (None, 16, 16, 728)  2912        block7_sepconv2[0][0]            \n",
      "__________________________________________________________________________________________________\n",
      "block7_sepconv3_act (Activation (None, 16, 16, 728)  0           block7_sepconv2_bn[0][0]         \n",
      "__________________________________________________________________________________________________\n",
      "block7_sepconv3 (SeparableConv2 (None, 16, 16, 728)  536536      block7_sepconv3_act[0][0]        \n",
      "__________________________________________________________________________________________________\n",
      "block7_sepconv3_bn (BatchNormal (None, 16, 16, 728)  2912        block7_sepconv3[0][0]            \n",
      "__________________________________________________________________________________________________\n",
      "add_5 (Add)                     (None, 16, 16, 728)  0           block7_sepconv3_bn[0][0]         \n",
      "                                                                 add_4[0][0]                      \n",
      "__________________________________________________________________________________________________\n",
      "block8_sepconv1_act (Activation (None, 16, 16, 728)  0           add_5[0][0]                      \n",
      "__________________________________________________________________________________________________\n",
      "block8_sepconv1 (SeparableConv2 (None, 16, 16, 728)  536536      block8_sepconv1_act[0][0]        \n",
      "__________________________________________________________________________________________________\n",
      "block8_sepconv1_bn (BatchNormal (None, 16, 16, 728)  2912        block8_sepconv1[0][0]            \n",
      "__________________________________________________________________________________________________\n",
      "block8_sepconv2_act (Activation (None, 16, 16, 728)  0           block8_sepconv1_bn[0][0]         \n",
      "__________________________________________________________________________________________________\n",
      "block8_sepconv2 (SeparableConv2 (None, 16, 16, 728)  536536      block8_sepconv2_act[0][0]        \n",
      "__________________________________________________________________________________________________\n",
      "block8_sepconv2_bn (BatchNormal (None, 16, 16, 728)  2912        block8_sepconv2[0][0]            \n",
      "__________________________________________________________________________________________________\n",
      "block8_sepconv3_act (Activation (None, 16, 16, 728)  0           block8_sepconv2_bn[0][0]         \n",
      "__________________________________________________________________________________________________\n",
      "block8_sepconv3 (SeparableConv2 (None, 16, 16, 728)  536536      block8_sepconv3_act[0][0]        \n",
      "__________________________________________________________________________________________________\n",
      "block8_sepconv3_bn (BatchNormal (None, 16, 16, 728)  2912        block8_sepconv3[0][0]            \n",
      "__________________________________________________________________________________________________\n",
      "add_6 (Add)                     (None, 16, 16, 728)  0           block8_sepconv3_bn[0][0]         \n",
      "                                                                 add_5[0][0]                      \n",
      "__________________________________________________________________________________________________\n",
      "block9_sepconv1_act (Activation (None, 16, 16, 728)  0           add_6[0][0]                      \n",
      "__________________________________________________________________________________________________\n",
      "block9_sepconv1 (SeparableConv2 (None, 16, 16, 728)  536536      block9_sepconv1_act[0][0]        \n",
      "__________________________________________________________________________________________________\n",
      "block9_sepconv1_bn (BatchNormal (None, 16, 16, 728)  2912        block9_sepconv1[0][0]            \n",
      "__________________________________________________________________________________________________\n",
      "block9_sepconv2_act (Activation (None, 16, 16, 728)  0           block9_sepconv1_bn[0][0]         \n",
      "__________________________________________________________________________________________________\n",
      "block9_sepconv2 (SeparableConv2 (None, 16, 16, 728)  536536      block9_sepconv2_act[0][0]        \n",
      "__________________________________________________________________________________________________\n",
      "block9_sepconv2_bn (BatchNormal (None, 16, 16, 728)  2912        block9_sepconv2[0][0]            \n",
      "__________________________________________________________________________________________________\n",
      "block9_sepconv3_act (Activation (None, 16, 16, 728)  0           block9_sepconv2_bn[0][0]         \n",
      "__________________________________________________________________________________________________\n",
      "block9_sepconv3 (SeparableConv2 (None, 16, 16, 728)  536536      block9_sepconv3_act[0][0]        \n",
      "__________________________________________________________________________________________________\n",
      "block9_sepconv3_bn (BatchNormal (None, 16, 16, 728)  2912        block9_sepconv3[0][0]            \n",
      "__________________________________________________________________________________________________\n",
      "add_7 (Add)                     (None, 16, 16, 728)  0           block9_sepconv3_bn[0][0]         \n",
      "                                                                 add_6[0][0]                      \n",
      "__________________________________________________________________________________________________\n",
      "block10_sepconv1_act (Activatio (None, 16, 16, 728)  0           add_7[0][0]                      \n",
      "__________________________________________________________________________________________________\n",
      "block10_sepconv1 (SeparableConv (None, 16, 16, 728)  536536      block10_sepconv1_act[0][0]       \n",
      "__________________________________________________________________________________________________\n",
      "block10_sepconv1_bn (BatchNorma (None, 16, 16, 728)  2912        block10_sepconv1[0][0]           \n",
      "__________________________________________________________________________________________________\n",
      "block10_sepconv2_act (Activatio (None, 16, 16, 728)  0           block10_sepconv1_bn[0][0]        \n",
      "__________________________________________________________________________________________________\n",
      "block10_sepconv2 (SeparableConv (None, 16, 16, 728)  536536      block10_sepconv2_act[0][0]       \n",
      "__________________________________________________________________________________________________\n",
      "block10_sepconv2_bn (BatchNorma (None, 16, 16, 728)  2912        block10_sepconv2[0][0]           \n",
      "__________________________________________________________________________________________________\n",
      "block10_sepconv3_act (Activatio (None, 16, 16, 728)  0           block10_sepconv2_bn[0][0]        \n",
      "__________________________________________________________________________________________________\n",
      "block10_sepconv3 (SeparableConv (None, 16, 16, 728)  536536      block10_sepconv3_act[0][0]       \n",
      "__________________________________________________________________________________________________\n",
      "block10_sepconv3_bn (BatchNorma (None, 16, 16, 728)  2912        block10_sepconv3[0][0]           \n",
      "__________________________________________________________________________________________________\n",
      "add_8 (Add)                     (None, 16, 16, 728)  0           block10_sepconv3_bn[0][0]        \n",
      "                                                                 add_7[0][0]                      \n",
      "__________________________________________________________________________________________________\n",
      "block11_sepconv1_act (Activatio (None, 16, 16, 728)  0           add_8[0][0]                      \n",
      "__________________________________________________________________________________________________\n",
      "block11_sepconv1 (SeparableConv (None, 16, 16, 728)  536536      block11_sepconv1_act[0][0]       \n",
      "__________________________________________________________________________________________________\n",
      "block11_sepconv1_bn (BatchNorma (None, 16, 16, 728)  2912        block11_sepconv1[0][0]           \n",
      "__________________________________________________________________________________________________\n",
      "block11_sepconv2_act (Activatio (None, 16, 16, 728)  0           block11_sepconv1_bn[0][0]        \n",
      "__________________________________________________________________________________________________\n",
      "block11_sepconv2 (SeparableConv (None, 16, 16, 728)  536536      block11_sepconv2_act[0][0]       \n",
      "__________________________________________________________________________________________________\n",
      "block11_sepconv2_bn (BatchNorma (None, 16, 16, 728)  2912        block11_sepconv2[0][0]           \n",
      "__________________________________________________________________________________________________\n",
      "block11_sepconv3_act (Activatio (None, 16, 16, 728)  0           block11_sepconv2_bn[0][0]        \n",
      "__________________________________________________________________________________________________\n",
      "block11_sepconv3 (SeparableConv (None, 16, 16, 728)  536536      block11_sepconv3_act[0][0]       \n",
      "__________________________________________________________________________________________________\n",
      "block11_sepconv3_bn (BatchNorma (None, 16, 16, 728)  2912        block11_sepconv3[0][0]           \n",
      "__________________________________________________________________________________________________\n",
      "add_9 (Add)                     (None, 16, 16, 728)  0           block11_sepconv3_bn[0][0]        \n",
      "                                                                 add_8[0][0]                      \n",
      "__________________________________________________________________________________________________\n",
      "block12_sepconv1_act (Activatio (None, 16, 16, 728)  0           add_9[0][0]                      \n",
      "__________________________________________________________________________________________________\n",
      "block12_sepconv1 (SeparableConv (None, 16, 16, 728)  536536      block12_sepconv1_act[0][0]       \n",
      "__________________________________________________________________________________________________\n",
      "block12_sepconv1_bn (BatchNorma (None, 16, 16, 728)  2912        block12_sepconv1[0][0]           \n",
      "__________________________________________________________________________________________________\n",
      "block12_sepconv2_act (Activatio (None, 16, 16, 728)  0           block12_sepconv1_bn[0][0]        \n",
      "__________________________________________________________________________________________________\n",
      "block12_sepconv2 (SeparableConv (None, 16, 16, 728)  536536      block12_sepconv2_act[0][0]       \n",
      "__________________________________________________________________________________________________\n",
      "block12_sepconv2_bn (BatchNorma (None, 16, 16, 728)  2912        block12_sepconv2[0][0]           \n",
      "__________________________________________________________________________________________________\n",
      "block12_sepconv3_act (Activatio (None, 16, 16, 728)  0           block12_sepconv2_bn[0][0]        \n",
      "__________________________________________________________________________________________________\n",
      "block12_sepconv3 (SeparableConv (None, 16, 16, 728)  536536      block12_sepconv3_act[0][0]       \n",
      "__________________________________________________________________________________________________\n",
      "block12_sepconv3_bn (BatchNorma (None, 16, 16, 728)  2912        block12_sepconv3[0][0]           \n",
      "__________________________________________________________________________________________________\n",
      "add_10 (Add)                    (None, 16, 16, 728)  0           block12_sepconv3_bn[0][0]        \n",
      "                                                                 add_9[0][0]                      \n",
      "__________________________________________________________________________________________________\n",
      "block13_sepconv1_act (Activatio (None, 16, 16, 728)  0           add_10[0][0]                     \n",
      "__________________________________________________________________________________________________\n",
      "block13_sepconv1 (SeparableConv (None, 16, 16, 728)  536536      block13_sepconv1_act[0][0]       \n",
      "__________________________________________________________________________________________________\n",
      "block13_sepconv1_bn (BatchNorma (None, 16, 16, 728)  2912        block13_sepconv1[0][0]           \n",
      "__________________________________________________________________________________________________\n",
      "block13_sepconv2_act (Activatio (None, 16, 16, 728)  0           block13_sepconv1_bn[0][0]        \n",
      "__________________________________________________________________________________________________\n",
      "block13_sepconv2 (SeparableConv (None, 16, 16, 1024) 752024      block13_sepconv2_act[0][0]       \n",
      "__________________________________________________________________________________________________\n",
      "block13_sepconv2_bn (BatchNorma (None, 16, 16, 1024) 4096        block13_sepconv2[0][0]           \n",
      "__________________________________________________________________________________________________\n",
      "conv2d_9 (Conv2D)               (None, 8, 8, 1024)   745472      add_10[0][0]                     \n",
      "__________________________________________________________________________________________________\n",
      "block13_pool (MaxPooling2D)     (None, 8, 8, 1024)   0           block13_sepconv2_bn[0][0]        \n",
      "__________________________________________________________________________________________________\n",
      "batch_normalization_11 (BatchNo (None, 8, 8, 1024)   4096        conv2d_9[0][0]                   \n",
      "__________________________________________________________________________________________________\n",
      "add_11 (Add)                    (None, 8, 8, 1024)   0           block13_pool[0][0]               \n",
      "                                                                 batch_normalization_11[0][0]     \n",
      "__________________________________________________________________________________________________\n",
      "block14_sepconv1 (SeparableConv (None, 8, 8, 1536)   1582080     add_11[0][0]                     \n",
      "__________________________________________________________________________________________________\n",
      "block14_sepconv1_bn (BatchNorma (None, 8, 8, 1536)   6144        block14_sepconv1[0][0]           \n",
      "__________________________________________________________________________________________________\n",
      "block14_sepconv1_act (Activatio (None, 8, 8, 1536)   0           block14_sepconv1_bn[0][0]        \n",
      "__________________________________________________________________________________________________\n",
      "block14_sepconv2 (SeparableConv (None, 8, 8, 2048)   3159552     block14_sepconv1_act[0][0]       \n",
      "__________________________________________________________________________________________________\n",
      "block14_sepconv2_bn (BatchNorma (None, 8, 8, 2048)   8192        block14_sepconv2[0][0]           \n",
      "__________________________________________________________________________________________________\n",
      "block14_sepconv2_act (Activatio (None, 8, 8, 2048)   0           block14_sepconv2_bn[0][0]        \n",
      "==================================================================================================\n",
      "Total params: 20,861,480\n",
      "Trainable params: 20,806,952\n",
      "Non-trainable params: 54,528\n",
      "__________________________________________________________________________________________________\n"
     ]
    }
   ],
   "source": [
    "# Download the Xception model\n",
    "supernet = tfk.applications.Xception(\n",
    "    include_top=False,\n",
    "    weights=\"imagenet\",\n",
    "    input_shape=input_shape\n",
    ")\n",
    "supernet.summary()"
   ]
  },
  {
   "cell_type": "markdown",
   "metadata": {
    "id": "B3i2yks6IanS"
   },
   "source": [
    "We use the supernet as feature extractor. <br>\n",
    "We modify the 'head' of the pretrained network by using:\n",
    "*   1 Global Average Pooling layer + Dropout of 0.2\n",
    "*   1 Dense (output) layer with 14 units + Softmax\n",
    "\n",
    "We compile the model with:\n",
    "*   Loss function: Categorical Cross-Entropy\n",
    "*   Optimizer: Adam with learning rate of 0.0001\n",
    "*   Metric: Accuracy"
   ]
  },
  {
   "cell_type": "code",
   "execution_count": 22,
   "metadata": {
    "colab": {
     "base_uri": "https://localhost:8080/"
    },
    "id": "fvHwllRfIanT",
    "outputId": "85b64613-d5eb-4e52-f46b-7455dfeec95b"
   },
   "outputs": [
    {
     "name": "stdout",
     "output_type": "stream",
     "text": [
      "Model: \"sequential\"\n",
      "_________________________________________________________________\n",
      "Layer (type)                 Output Shape              Param #   \n",
      "=================================================================\n",
      "xception (Functional)        (None, 8, 8, 2048)        20861480  \n",
      "_________________________________________________________________\n",
      "global_average_pooling2d (Gl (None, 2048)              0         \n",
      "_________________________________________________________________\n",
      "dropout_2 (Dropout)          (None, 2048)              0         \n",
      "_________________________________________________________________\n",
      "dense (Dense)                (None, 14)                28686     \n",
      "=================================================================\n",
      "Total params: 20,890,166\n",
      "Trainable params: 28,686\n",
      "Non-trainable params: 20,861,480\n",
      "_________________________________________________________________\n"
     ]
    }
   ],
   "source": [
    "# Use the supernet as feature extractor\n",
    "supernet.trainable = False\n",
    "\n",
    "model = tf.keras.models.Sequential()\n",
    "model.add(supernet)\n",
    "model.add(tfkl.GlobalAveragePooling2D())\n",
    "model.add(tfkl.Dropout(0.2, seed=seed))\n",
    "model.add(tfkl.Dense(14,activation='softmax', kernel_initializer = tfk.initializers.GlorotUniform(seed)))\n",
    "\n",
    "model.compile(loss=tfk.losses.CategoricalCrossentropy(), optimizer=tfk.optimizers.Adam(learning_rate=0.0001), metrics='accuracy')\n",
    "model.summary()"
   ]
  },
  {
   "cell_type": "code",
   "execution_count": null,
   "metadata": {
    "colab": {
     "base_uri": "https://localhost:8080/",
     "height": 160
    },
    "id": "aUZ0IvRvKaj8",
    "outputId": "933bb1f5-d7fe-4938-8335-4a772ce4eab3"
   },
   "outputs": [
    {
     "data": {
      "image/png": "[encoded data removed]",
      "text/plain": [
       "<PIL.Image.Image image mode=RGBA size=732x143 at 0x7FAAB64FC9D0>"
      ]
     },
     "execution_count": 29,
     "metadata": {},
     "output_type": "execute_result"
    }
   ],
   "source": [
    "visualkeras.layered_view(model, legend=True, spacing=20, scale_xy=10)"
   ]
  },
  {
   "cell_type": "markdown",
   "metadata": {
    "id": "0bwm7j8pIanT"
   },
   "source": [
    "### Training\n",
    "We use the same callbacks as before"
   ]
  },
  {
   "cell_type": "code",
   "execution_count": 23,
   "metadata": {
    "id": "LpSyYZwVIanT"
   },
   "outputs": [
    {
     "name": "stderr",
     "output_type": "stream",
     "text": [
      "C:\\Users\\mario\\anaconda3\\envs\\tf-gpu\\lib\\site-packages\\tensorflow\\python\\keras\\utils\\generic_utils.py:494: CustomMaskWarning: Custom mask layers require a config and must override get_config. When loading, the custom mask layer must be passed to the custom_objects argument.\n",
      "  warnings.warn('Custom mask layers require a config and must override '\n"
     ]
    },
    {
     "name": "stdout",
     "output_type": "stream",
     "text": [
      "Epoch 1/100\n",
      "4816/4816 [==============================] - 1276s 264ms/step - loss: 0.9374 - accuracy: 0.7676 - val_loss: 0.4637 - val_accuracy: 0.9023\n"
     ]
    },
    {
     "name": "stderr",
     "output_type": "stream",
     "text": [
      "C:\\Users\\mario\\anaconda3\\envs\\tf-gpu\\lib\\site-packages\\tensorflow\\python\\keras\\utils\\generic_utils.py:494: CustomMaskWarning: Custom mask layers require a config and must override get_config. When loading, the custom mask layer must be passed to the custom_objects argument.\n",
      "  warnings.warn('Custom mask layers require a config and must override '\n"
     ]
    },
    {
     "name": "stdout",
     "output_type": "stream",
     "text": [
      "Epoch 2/100\n",
      "4816/4816 [==============================] - 1265s 263ms/step - loss: 0.4547 - accuracy: 0.8792 - val_loss: 0.3151 - val_accuracy: 0.9259\n"
     ]
    },
    {
     "name": "stderr",
     "output_type": "stream",
     "text": [
      "C:\\Users\\mario\\anaconda3\\envs\\tf-gpu\\lib\\site-packages\\tensorflow\\python\\keras\\utils\\generic_utils.py:494: CustomMaskWarning: Custom mask layers require a config and must override get_config. When loading, the custom mask layer must be passed to the custom_objects argument.\n",
      "  warnings.warn('Custom mask layers require a config and must override '\n"
     ]
    },
    {
     "name": "stdout",
     "output_type": "stream",
     "text": [
      "Epoch 3/100\n",
      "4816/4816 [==============================] - 1292s 268ms/step - loss: 0.3544 - accuracy: 0.9035 - val_loss: 0.2605 - val_accuracy: 0.9316\n"
     ]
    },
    {
     "name": "stderr",
     "output_type": "stream",
     "text": [
      "C:\\Users\\mario\\anaconda3\\envs\\tf-gpu\\lib\\site-packages\\tensorflow\\python\\keras\\utils\\generic_utils.py:494: CustomMaskWarning: Custom mask layers require a config and must override get_config. When loading, the custom mask layer must be passed to the custom_objects argument.\n",
      "  warnings.warn('Custom mask layers require a config and must override '\n"
     ]
    },
    {
     "name": "stdout",
     "output_type": "stream",
     "text": [
      "Epoch 4/100\n",
      "4816/4816 [==============================] - 1350s 280ms/step - loss: 0.3063 - accuracy: 0.9144 - val_loss: 0.2216 - val_accuracy: 0.9436\n"
     ]
    },
    {
     "name": "stderr",
     "output_type": "stream",
     "text": [
      "C:\\Users\\mario\\anaconda3\\envs\\tf-gpu\\lib\\site-packages\\tensorflow\\python\\keras\\utils\\generic_utils.py:494: CustomMaskWarning: Custom mask layers require a config and must override get_config. When loading, the custom mask layer must be passed to the custom_objects argument.\n",
      "  warnings.warn('Custom mask layers require a config and must override '\n"
     ]
    },
    {
     "name": "stdout",
     "output_type": "stream",
     "text": [
      "Epoch 5/100\n",
      "4816/4816 [==============================] - 1323s 275ms/step - loss: 0.2725 - accuracy: 0.9236 - val_loss: 0.2014 - val_accuracy: 0.9496\n"
     ]
    },
    {
     "name": "stderr",
     "output_type": "stream",
     "text": [
      "C:\\Users\\mario\\anaconda3\\envs\\tf-gpu\\lib\\site-packages\\tensorflow\\python\\keras\\utils\\generic_utils.py:494: CustomMaskWarning: Custom mask layers require a config and must override get_config. When loading, the custom mask layer must be passed to the custom_objects argument.\n",
      "  warnings.warn('Custom mask layers require a config and must override '\n"
     ]
    },
    {
     "name": "stdout",
     "output_type": "stream",
     "text": [
      "Epoch 6/100\n",
      "4816/4816 [==============================] - 1327s 275ms/step - loss: 0.2533 - accuracy: 0.9282 - val_loss: 0.1835 - val_accuracy: 0.9530\n"
     ]
    },
    {
     "name": "stderr",
     "output_type": "stream",
     "text": [
      "C:\\Users\\mario\\anaconda3\\envs\\tf-gpu\\lib\\site-packages\\tensorflow\\python\\keras\\utils\\generic_utils.py:494: CustomMaskWarning: Custom mask layers require a config and must override get_config. When loading, the custom mask layer must be passed to the custom_objects argument.\n",
      "  warnings.warn('Custom mask layers require a config and must override '\n"
     ]
    },
    {
     "name": "stdout",
     "output_type": "stream",
     "text": [
      "Epoch 7/100\n",
      "4816/4816 [==============================] - 1338s 278ms/step - loss: 0.2397 - accuracy: 0.9306 - val_loss: 0.1693 - val_accuracy: 0.9553\n"
     ]
    },
    {
     "name": "stderr",
     "output_type": "stream",
     "text": [
      "C:\\Users\\mario\\anaconda3\\envs\\tf-gpu\\lib\\site-packages\\tensorflow\\python\\keras\\utils\\generic_utils.py:494: CustomMaskWarning: Custom mask layers require a config and must override get_config. When loading, the custom mask layer must be passed to the custom_objects argument.\n",
      "  warnings.warn('Custom mask layers require a config and must override '\n"
     ]
    },
    {
     "name": "stdout",
     "output_type": "stream",
     "text": [
      "Epoch 8/100\n",
      "4816/4816 [==============================] - 1362s 283ms/step - loss: 0.2248 - accuracy: 0.9346 - val_loss: 0.1581 - val_accuracy: 0.9579\n"
     ]
    },
    {
     "name": "stderr",
     "output_type": "stream",
     "text": [
      "C:\\Users\\mario\\anaconda3\\envs\\tf-gpu\\lib\\site-packages\\tensorflow\\python\\keras\\utils\\generic_utils.py:494: CustomMaskWarning: Custom mask layers require a config and must override get_config. When loading, the custom mask layer must be passed to the custom_objects argument.\n",
      "  warnings.warn('Custom mask layers require a config and must override '\n"
     ]
    },
    {
     "name": "stdout",
     "output_type": "stream",
     "text": [
      "Epoch 9/100\n",
      "4816/4816 [==============================] - 1409s 292ms/step - loss: 0.2172 - accuracy: 0.9366 - val_loss: 0.1573 - val_accuracy: 0.9590\n"
     ]
    },
    {
     "name": "stderr",
     "output_type": "stream",
     "text": [
      "C:\\Users\\mario\\anaconda3\\envs\\tf-gpu\\lib\\site-packages\\tensorflow\\python\\keras\\utils\\generic_utils.py:494: CustomMaskWarning: Custom mask layers require a config and must override get_config. When loading, the custom mask layer must be passed to the custom_objects argument.\n",
      "  warnings.warn('Custom mask layers require a config and must override '\n"
     ]
    },
    {
     "name": "stdout",
     "output_type": "stream",
     "text": [
      "Epoch 10/100\n",
      "4816/4816 [==============================] - 1412s 293ms/step - loss: 0.2104 - accuracy: 0.9375 - val_loss: 0.1488 - val_accuracy: 0.9590\n"
     ]
    },
    {
     "name": "stderr",
     "output_type": "stream",
     "text": [
      "C:\\Users\\mario\\anaconda3\\envs\\tf-gpu\\lib\\site-packages\\tensorflow\\python\\keras\\utils\\generic_utils.py:494: CustomMaskWarning: Custom mask layers require a config and must override get_config. When loading, the custom mask layer must be passed to the custom_objects argument.\n",
      "  warnings.warn('Custom mask layers require a config and must override '\n"
     ]
    },
    {
     "name": "stdout",
     "output_type": "stream",
     "text": [
      "Epoch 11/100\n",
      "4816/4816 [==============================] - 1424s 295ms/step - loss: 0.2011 - accuracy: 0.9400 - val_loss: 0.1430 - val_accuracy: 0.9613\n"
     ]
    },
    {
     "name": "stderr",
     "output_type": "stream",
     "text": [
      "C:\\Users\\mario\\anaconda3\\envs\\tf-gpu\\lib\\site-packages\\tensorflow\\python\\keras\\utils\\generic_utils.py:494: CustomMaskWarning: Custom mask layers require a config and must override get_config. When loading, the custom mask layer must be passed to the custom_objects argument.\n",
      "  warnings.warn('Custom mask layers require a config and must override '\n"
     ]
    },
    {
     "name": "stdout",
     "output_type": "stream",
     "text": [
      "Epoch 12/100\n",
      "4816/4816 [==============================] - 1434s 298ms/step - loss: 0.1941 - accuracy: 0.9434 - val_loss: 0.1356 - val_accuracy: 0.9639\n"
     ]
    },
    {
     "name": "stderr",
     "output_type": "stream",
     "text": [
      "C:\\Users\\mario\\anaconda3\\envs\\tf-gpu\\lib\\site-packages\\tensorflow\\python\\keras\\utils\\generic_utils.py:494: CustomMaskWarning: Custom mask layers require a config and must override get_config. When loading, the custom mask layer must be passed to the custom_objects argument.\n",
      "  warnings.warn('Custom mask layers require a config and must override '\n"
     ]
    },
    {
     "name": "stdout",
     "output_type": "stream",
     "text": [
      "Epoch 13/100\n",
      "4816/4816 [==============================] - 1402s 291ms/step - loss: 0.1907 - accuracy: 0.9427 - val_loss: 0.1325 - val_accuracy: 0.9665\n"
     ]
    },
    {
     "name": "stderr",
     "output_type": "stream",
     "text": [
      "C:\\Users\\mario\\anaconda3\\envs\\tf-gpu\\lib\\site-packages\\tensorflow\\python\\keras\\utils\\generic_utils.py:494: CustomMaskWarning: Custom mask layers require a config and must override get_config. When loading, the custom mask layer must be passed to the custom_objects argument.\n",
      "  warnings.warn('Custom mask layers require a config and must override '\n"
     ]
    },
    {
     "name": "stdout",
     "output_type": "stream",
     "text": [
      "Epoch 14/100\n",
      "4816/4816 [==============================] - 1412s 293ms/step - loss: 0.1849 - accuracy: 0.9447 - val_loss: 0.1301 - val_accuracy: 0.9635\n"
     ]
    },
    {
     "name": "stderr",
     "output_type": "stream",
     "text": [
      "C:\\Users\\mario\\anaconda3\\envs\\tf-gpu\\lib\\site-packages\\tensorflow\\python\\keras\\utils\\generic_utils.py:494: CustomMaskWarning: Custom mask layers require a config and must override get_config. When loading, the custom mask layer must be passed to the custom_objects argument.\n",
      "  warnings.warn('Custom mask layers require a config and must override '\n"
     ]
    },
    {
     "name": "stdout",
     "output_type": "stream",
     "text": [
      "Epoch 15/100\n",
      "4816/4816 [==============================] - 1412s 293ms/step - loss: 0.1823 - accuracy: 0.9448 - val_loss: 0.1245 - val_accuracy: 0.9669\n"
     ]
    },
    {
     "name": "stderr",
     "output_type": "stream",
     "text": [
      "C:\\Users\\mario\\anaconda3\\envs\\tf-gpu\\lib\\site-packages\\tensorflow\\python\\keras\\utils\\generic_utils.py:494: CustomMaskWarning: Custom mask layers require a config and must override get_config. When loading, the custom mask layer must be passed to the custom_objects argument.\n",
      "  warnings.warn('Custom mask layers require a config and must override '\n"
     ]
    },
    {
     "name": "stdout",
     "output_type": "stream",
     "text": [
      "Epoch 16/100\n",
      "4816/4816 [==============================] - 1437s 298ms/step - loss: 0.1789 - accuracy: 0.9456 - val_loss: 0.1217 - val_accuracy: 0.9680\n"
     ]
    },
    {
     "name": "stderr",
     "output_type": "stream",
     "text": [
      "C:\\Users\\mario\\anaconda3\\envs\\tf-gpu\\lib\\site-packages\\tensorflow\\python\\keras\\utils\\generic_utils.py:494: CustomMaskWarning: Custom mask layers require a config and must override get_config. When loading, the custom mask layer must be passed to the custom_objects argument.\n",
      "  warnings.warn('Custom mask layers require a config and must override '\n"
     ]
    },
    {
     "name": "stdout",
     "output_type": "stream",
     "text": [
      "Epoch 17/100\n",
      "4816/4816 [==============================] - 1474s 306ms/step - loss: 0.1762 - accuracy: 0.9470 - val_loss: 0.1170 - val_accuracy: 0.9707\n"
     ]
    },
    {
     "name": "stderr",
     "output_type": "stream",
     "text": [
      "C:\\Users\\mario\\anaconda3\\envs\\tf-gpu\\lib\\site-packages\\tensorflow\\python\\keras\\utils\\generic_utils.py:494: CustomMaskWarning: Custom mask layers require a config and must override get_config. When loading, the custom mask layer must be passed to the custom_objects argument.\n",
      "  warnings.warn('Custom mask layers require a config and must override '\n"
     ]
    },
    {
     "name": "stdout",
     "output_type": "stream",
     "text": [
      "Epoch 18/100\n",
      "4816/4816 [==============================] - 1504s 312ms/step - loss: 0.1737 - accuracy: 0.9467 - val_loss: 0.1184 - val_accuracy: 0.9669\n"
     ]
    },
    {
     "name": "stderr",
     "output_type": "stream",
     "text": [
      "C:\\Users\\mario\\anaconda3\\envs\\tf-gpu\\lib\\site-packages\\tensorflow\\python\\keras\\utils\\generic_utils.py:494: CustomMaskWarning: Custom mask layers require a config and must override get_config. When loading, the custom mask layer must be passed to the custom_objects argument.\n",
      "  warnings.warn('Custom mask layers require a config and must override '\n"
     ]
    },
    {
     "name": "stdout",
     "output_type": "stream",
     "text": [
      "Epoch 19/100\n",
      "4816/4816 [==============================] - 1512s 314ms/step - loss: 0.1695 - accuracy: 0.9492 - val_loss: 0.1161 - val_accuracy: 0.9692\n"
     ]
    },
    {
     "name": "stderr",
     "output_type": "stream",
     "text": [
      "C:\\Users\\mario\\anaconda3\\envs\\tf-gpu\\lib\\site-packages\\tensorflow\\python\\keras\\utils\\generic_utils.py:494: CustomMaskWarning: Custom mask layers require a config and must override get_config. When loading, the custom mask layer must be passed to the custom_objects argument.\n",
      "  warnings.warn('Custom mask layers require a config and must override '\n"
     ]
    },
    {
     "name": "stdout",
     "output_type": "stream",
     "text": [
      "Epoch 20/100\n",
      "4816/4816 [==============================] - 1511s 314ms/step - loss: 0.1673 - accuracy: 0.9497 - val_loss: 0.1111 - val_accuracy: 0.9707\n"
     ]
    },
    {
     "name": "stderr",
     "output_type": "stream",
     "text": [
      "C:\\Users\\mario\\anaconda3\\envs\\tf-gpu\\lib\\site-packages\\tensorflow\\python\\keras\\utils\\generic_utils.py:494: CustomMaskWarning: Custom mask layers require a config and must override get_config. When loading, the custom mask layer must be passed to the custom_objects argument.\n",
      "  warnings.warn('Custom mask layers require a config and must override '\n"
     ]
    },
    {
     "name": "stdout",
     "output_type": "stream",
     "text": [
      "Epoch 21/100\n",
      "4816/4816 [==============================] - 1491s 309ms/step - loss: 0.1646 - accuracy: 0.9502 - val_loss: 0.1078 - val_accuracy: 0.9722\n"
     ]
    },
    {
     "name": "stderr",
     "output_type": "stream",
     "text": [
      "C:\\Users\\mario\\anaconda3\\envs\\tf-gpu\\lib\\site-packages\\tensorflow\\python\\keras\\utils\\generic_utils.py:494: CustomMaskWarning: Custom mask layers require a config and must override get_config. When loading, the custom mask layer must be passed to the custom_objects argument.\n",
      "  warnings.warn('Custom mask layers require a config and must override '\n"
     ]
    },
    {
     "name": "stdout",
     "output_type": "stream",
     "text": [
      "Epoch 22/100\n",
      "4816/4816 [==============================] - 1560s 324ms/step - loss: 0.1642 - accuracy: 0.9508 - val_loss: 0.1091 - val_accuracy: 0.9718\n"
     ]
    },
    {
     "name": "stderr",
     "output_type": "stream",
     "text": [
      "C:\\Users\\mario\\anaconda3\\envs\\tf-gpu\\lib\\site-packages\\tensorflow\\python\\keras\\utils\\generic_utils.py:494: CustomMaskWarning: Custom mask layers require a config and must override get_config. When loading, the custom mask layer must be passed to the custom_objects argument.\n",
      "  warnings.warn('Custom mask layers require a config and must override '\n"
     ]
    },
    {
     "name": "stdout",
     "output_type": "stream",
     "text": [
      "Epoch 23/100\n",
      "4816/4816 [==============================] - 1511s 314ms/step - loss: 0.1614 - accuracy: 0.9508 - val_loss: 0.1079 - val_accuracy: 0.9707\n"
     ]
    },
    {
     "name": "stderr",
     "output_type": "stream",
     "text": [
      "C:\\Users\\mario\\anaconda3\\envs\\tf-gpu\\lib\\site-packages\\tensorflow\\python\\keras\\utils\\generic_utils.py:494: CustomMaskWarning: Custom mask layers require a config and must override get_config. When loading, the custom mask layer must be passed to the custom_objects argument.\n",
      "  warnings.warn('Custom mask layers require a config and must override '\n"
     ]
    },
    {
     "name": "stdout",
     "output_type": "stream",
     "text": [
      "Epoch 24/100\n",
      "4816/4816 [==============================] - 1542s 320ms/step - loss: 0.1579 - accuracy: 0.9517 - val_loss: 0.1035 - val_accuracy: 0.9711\n"
     ]
    },
    {
     "name": "stderr",
     "output_type": "stream",
     "text": [
      "C:\\Users\\mario\\anaconda3\\envs\\tf-gpu\\lib\\site-packages\\tensorflow\\python\\keras\\utils\\generic_utils.py:494: CustomMaskWarning: Custom mask layers require a config and must override get_config. When loading, the custom mask layer must be passed to the custom_objects argument.\n",
      "  warnings.warn('Custom mask layers require a config and must override '\n"
     ]
    },
    {
     "name": "stdout",
     "output_type": "stream",
     "text": [
      "Epoch 25/100\n",
      "4816/4816 [==============================] - 1451s 301ms/step - loss: 0.1597 - accuracy: 0.9510 - val_loss: 0.1028 - val_accuracy: 0.9718\n"
     ]
    },
    {
     "name": "stderr",
     "output_type": "stream",
     "text": [
      "C:\\Users\\mario\\anaconda3\\envs\\tf-gpu\\lib\\site-packages\\tensorflow\\python\\keras\\utils\\generic_utils.py:494: CustomMaskWarning: Custom mask layers require a config and must override get_config. When loading, the custom mask layer must be passed to the custom_objects argument.\n",
      "  warnings.warn('Custom mask layers require a config and must override '\n"
     ]
    },
    {
     "name": "stdout",
     "output_type": "stream",
     "text": [
      "Epoch 26/100\n",
      "4816/4816 [==============================] - 1527s 317ms/step - loss: 0.1586 - accuracy: 0.9504 - val_loss: 0.1027 - val_accuracy: 0.9718\n"
     ]
    },
    {
     "name": "stderr",
     "output_type": "stream",
     "text": [
      "C:\\Users\\mario\\anaconda3\\envs\\tf-gpu\\lib\\site-packages\\tensorflow\\python\\keras\\utils\\generic_utils.py:494: CustomMaskWarning: Custom mask layers require a config and must override get_config. When loading, the custom mask layer must be passed to the custom_objects argument.\n",
      "  warnings.warn('Custom mask layers require a config and must override '\n"
     ]
    },
    {
     "name": "stdout",
     "output_type": "stream",
     "text": [
      "Epoch 27/100\n",
      "4816/4816 [==============================] - 1502s 312ms/step - loss: 0.1530 - accuracy: 0.9528 - val_loss: 0.1041 - val_accuracy: 0.9711\n"
     ]
    },
    {
     "name": "stderr",
     "output_type": "stream",
     "text": [
      "C:\\Users\\mario\\anaconda3\\envs\\tf-gpu\\lib\\site-packages\\tensorflow\\python\\keras\\utils\\generic_utils.py:494: CustomMaskWarning: Custom mask layers require a config and must override get_config. When loading, the custom mask layer must be passed to the custom_objects argument.\n",
      "  warnings.warn('Custom mask layers require a config and must override '\n"
     ]
    },
    {
     "name": "stdout",
     "output_type": "stream",
     "text": [
      "Epoch 28/100\n",
      "4816/4816 [==============================] - 1554s 323ms/step - loss: 0.1520 - accuracy: 0.9540 - val_loss: 0.1033 - val_accuracy: 0.9707\n"
     ]
    },
    {
     "name": "stderr",
     "output_type": "stream",
     "text": [
      "C:\\Users\\mario\\anaconda3\\envs\\tf-gpu\\lib\\site-packages\\tensorflow\\python\\keras\\utils\\generic_utils.py:494: CustomMaskWarning: Custom mask layers require a config and must override get_config. When loading, the custom mask layer must be passed to the custom_objects argument.\n",
      "  warnings.warn('Custom mask layers require a config and must override '\n"
     ]
    },
    {
     "name": "stdout",
     "output_type": "stream",
     "text": [
      "Epoch 29/100\n",
      "4816/4816 [==============================] - 1510s 313ms/step - loss: 0.1532 - accuracy: 0.9531 - val_loss: 0.0976 - val_accuracy: 0.9741\n"
     ]
    },
    {
     "name": "stderr",
     "output_type": "stream",
     "text": [
      "C:\\Users\\mario\\anaconda3\\envs\\tf-gpu\\lib\\site-packages\\tensorflow\\python\\keras\\utils\\generic_utils.py:494: CustomMaskWarning: Custom mask layers require a config and must override get_config. When loading, the custom mask layer must be passed to the custom_objects argument.\n",
      "  warnings.warn('Custom mask layers require a config and must override '\n"
     ]
    },
    {
     "name": "stdout",
     "output_type": "stream",
     "text": [
      "Epoch 30/100\n",
      "4816/4816 [==============================] - 1523s 316ms/step - loss: 0.1516 - accuracy: 0.9532 - val_loss: 0.0989 - val_accuracy: 0.9741\n"
     ]
    },
    {
     "name": "stderr",
     "output_type": "stream",
     "text": [
      "C:\\Users\\mario\\anaconda3\\envs\\tf-gpu\\lib\\site-packages\\tensorflow\\python\\keras\\utils\\generic_utils.py:494: CustomMaskWarning: Custom mask layers require a config and must override get_config. When loading, the custom mask layer must be passed to the custom_objects argument.\n",
      "  warnings.warn('Custom mask layers require a config and must override '\n"
     ]
    },
    {
     "name": "stdout",
     "output_type": "stream",
     "text": [
      "Epoch 31/100\n",
      "4816/4816 [==============================] - 1575s 327ms/step - loss: 0.1493 - accuracy: 0.9543 - val_loss: 0.0974 - val_accuracy: 0.9748\n"
     ]
    },
    {
     "name": "stderr",
     "output_type": "stream",
     "text": [
      "C:\\Users\\mario\\anaconda3\\envs\\tf-gpu\\lib\\site-packages\\tensorflow\\python\\keras\\utils\\generic_utils.py:494: CustomMaskWarning: Custom mask layers require a config and must override get_config. When loading, the custom mask layer must be passed to the custom_objects argument.\n",
      "  warnings.warn('Custom mask layers require a config and must override '\n"
     ]
    },
    {
     "name": "stdout",
     "output_type": "stream",
     "text": [
      "Epoch 32/100\n",
      "4816/4816 [==============================] - 1567s 325ms/step - loss: 0.1496 - accuracy: 0.9536 - val_loss: 0.0972 - val_accuracy: 0.9729\n"
     ]
    },
    {
     "name": "stderr",
     "output_type": "stream",
     "text": [
      "C:\\Users\\mario\\anaconda3\\envs\\tf-gpu\\lib\\site-packages\\tensorflow\\python\\keras\\utils\\generic_utils.py:494: CustomMaskWarning: Custom mask layers require a config and must override get_config. When loading, the custom mask layer must be passed to the custom_objects argument.\n",
      "  warnings.warn('Custom mask layers require a config and must override '\n"
     ]
    },
    {
     "name": "stdout",
     "output_type": "stream",
     "text": [
      "Epoch 33/100\n",
      "4816/4816 [==============================] - 1581s 328ms/step - loss: 0.1473 - accuracy: 0.9537 - val_loss: 0.0971 - val_accuracy: 0.9737\n"
     ]
    },
    {
     "name": "stderr",
     "output_type": "stream",
     "text": [
      "C:\\Users\\mario\\anaconda3\\envs\\tf-gpu\\lib\\site-packages\\tensorflow\\python\\keras\\utils\\generic_utils.py:494: CustomMaskWarning: Custom mask layers require a config and must override get_config. When loading, the custom mask layer must be passed to the custom_objects argument.\n",
      "  warnings.warn('Custom mask layers require a config and must override '\n"
     ]
    },
    {
     "name": "stdout",
     "output_type": "stream",
     "text": [
      "Epoch 34/100\n",
      "4816/4816 [==============================] - 1556s 323ms/step - loss: 0.1467 - accuracy: 0.9543 - val_loss: 0.0950 - val_accuracy: 0.9741\n"
     ]
    },
    {
     "name": "stderr",
     "output_type": "stream",
     "text": [
      "C:\\Users\\mario\\anaconda3\\envs\\tf-gpu\\lib\\site-packages\\tensorflow\\python\\keras\\utils\\generic_utils.py:494: CustomMaskWarning: Custom mask layers require a config and must override get_config. When loading, the custom mask layer must be passed to the custom_objects argument.\n",
      "  warnings.warn('Custom mask layers require a config and must override '\n"
     ]
    },
    {
     "name": "stdout",
     "output_type": "stream",
     "text": [
      "Epoch 35/100\n",
      "4816/4816 [==============================] - 1558s 323ms/step - loss: 0.1453 - accuracy: 0.9560 - val_loss: 0.0924 - val_accuracy: 0.9729\n"
     ]
    },
    {
     "name": "stderr",
     "output_type": "stream",
     "text": [
      "C:\\Users\\mario\\anaconda3\\envs\\tf-gpu\\lib\\site-packages\\tensorflow\\python\\keras\\utils\\generic_utils.py:494: CustomMaskWarning: Custom mask layers require a config and must override get_config. When loading, the custom mask layer must be passed to the custom_objects argument.\n",
      "  warnings.warn('Custom mask layers require a config and must override '\n"
     ]
    },
    {
     "name": "stdout",
     "output_type": "stream",
     "text": [
      "Epoch 36/100\n",
      "4816/4816 [==============================] - 1592s 331ms/step - loss: 0.1455 - accuracy: 0.9550 - val_loss: 0.0950 - val_accuracy: 0.9741\n"
     ]
    },
    {
     "name": "stderr",
     "output_type": "stream",
     "text": [
      "C:\\Users\\mario\\anaconda3\\envs\\tf-gpu\\lib\\site-packages\\tensorflow\\python\\keras\\utils\\generic_utils.py:494: CustomMaskWarning: Custom mask layers require a config and must override get_config. When loading, the custom mask layer must be passed to the custom_objects argument.\n",
      "  warnings.warn('Custom mask layers require a config and must override '\n"
     ]
    },
    {
     "name": "stdout",
     "output_type": "stream",
     "text": [
      "Epoch 37/100\n",
      "4816/4816 [==============================] - 1550s 322ms/step - loss: 0.1421 - accuracy: 0.9550 - val_loss: 0.0970 - val_accuracy: 0.9718\n"
     ]
    },
    {
     "name": "stderr",
     "output_type": "stream",
     "text": [
      "C:\\Users\\mario\\anaconda3\\envs\\tf-gpu\\lib\\site-packages\\tensorflow\\python\\keras\\utils\\generic_utils.py:494: CustomMaskWarning: Custom mask layers require a config and must override get_config. When loading, the custom mask layer must be passed to the custom_objects argument.\n",
      "  warnings.warn('Custom mask layers require a config and must override '\n"
     ]
    },
    {
     "name": "stdout",
     "output_type": "stream",
     "text": [
      "Epoch 38/100\n",
      "4816/4816 [==============================] - 1515s 314ms/step - loss: 0.1426 - accuracy: 0.9555 - val_loss: 0.0919 - val_accuracy: 0.9756\n"
     ]
    },
    {
     "name": "stderr",
     "output_type": "stream",
     "text": [
      "C:\\Users\\mario\\anaconda3\\envs\\tf-gpu\\lib\\site-packages\\tensorflow\\python\\keras\\utils\\generic_utils.py:494: CustomMaskWarning: Custom mask layers require a config and must override get_config. When loading, the custom mask layer must be passed to the custom_objects argument.\n",
      "  warnings.warn('Custom mask layers require a config and must override '\n"
     ]
    },
    {
     "name": "stdout",
     "output_type": "stream",
     "text": [
      "Epoch 39/100\n",
      "4816/4816 [==============================] - 1492s 310ms/step - loss: 0.1430 - accuracy: 0.9558 - val_loss: 0.0906 - val_accuracy: 0.9744\n"
     ]
    },
    {
     "name": "stderr",
     "output_type": "stream",
     "text": [
      "C:\\Users\\mario\\anaconda3\\envs\\tf-gpu\\lib\\site-packages\\tensorflow\\python\\keras\\utils\\generic_utils.py:494: CustomMaskWarning: Custom mask layers require a config and must override get_config. When loading, the custom mask layer must be passed to the custom_objects argument.\n",
      "  warnings.warn('Custom mask layers require a config and must override '\n"
     ]
    },
    {
     "name": "stdout",
     "output_type": "stream",
     "text": [
      "Epoch 40/100\n",
      "4816/4816 [==============================] - 1490s 309ms/step - loss: 0.1421 - accuracy: 0.9555 - val_loss: 0.0877 - val_accuracy: 0.9741\n"
     ]
    },
    {
     "name": "stderr",
     "output_type": "stream",
     "text": [
      "C:\\Users\\mario\\anaconda3\\envs\\tf-gpu\\lib\\site-packages\\tensorflow\\python\\keras\\utils\\generic_utils.py:494: CustomMaskWarning: Custom mask layers require a config and must override get_config. When loading, the custom mask layer must be passed to the custom_objects argument.\n",
      "  warnings.warn('Custom mask layers require a config and must override '\n"
     ]
    },
    {
     "name": "stdout",
     "output_type": "stream",
     "text": [
      "Epoch 41/100\n",
      "4816/4816 [==============================] - 1446s 300ms/step - loss: 0.1399 - accuracy: 0.9558 - val_loss: 0.0891 - val_accuracy: 0.9756\n"
     ]
    },
    {
     "name": "stderr",
     "output_type": "stream",
     "text": [
      "C:\\Users\\mario\\anaconda3\\envs\\tf-gpu\\lib\\site-packages\\tensorflow\\python\\keras\\utils\\generic_utils.py:494: CustomMaskWarning: Custom mask layers require a config and must override get_config. When loading, the custom mask layer must be passed to the custom_objects argument.\n",
      "  warnings.warn('Custom mask layers require a config and must override '\n"
     ]
    },
    {
     "name": "stdout",
     "output_type": "stream",
     "text": [
      "Epoch 42/100\n",
      "4816/4816 [==============================] - 1508s 313ms/step - loss: 0.1379 - accuracy: 0.9572 - val_loss: 0.0888 - val_accuracy: 0.9756\n"
     ]
    },
    {
     "name": "stderr",
     "output_type": "stream",
     "text": [
      "C:\\Users\\mario\\anaconda3\\envs\\tf-gpu\\lib\\site-packages\\tensorflow\\python\\keras\\utils\\generic_utils.py:494: CustomMaskWarning: Custom mask layers require a config and must override get_config. When loading, the custom mask layer must be passed to the custom_objects argument.\n",
      "  warnings.warn('Custom mask layers require a config and must override '\n"
     ]
    },
    {
     "name": "stdout",
     "output_type": "stream",
     "text": [
      "Epoch 43/100\n",
      "4816/4816 [==============================] - 1536s 319ms/step - loss: 0.1378 - accuracy: 0.9563 - val_loss: 0.0918 - val_accuracy: 0.9748\n"
     ]
    },
    {
     "name": "stderr",
     "output_type": "stream",
     "text": [
      "C:\\Users\\mario\\anaconda3\\envs\\tf-gpu\\lib\\site-packages\\tensorflow\\python\\keras\\utils\\generic_utils.py:494: CustomMaskWarning: Custom mask layers require a config and must override get_config. When loading, the custom mask layer must be passed to the custom_objects argument.\n",
      "  warnings.warn('Custom mask layers require a config and must override '\n"
     ]
    },
    {
     "name": "stdout",
     "output_type": "stream",
     "text": [
      "Epoch 44/100\n",
      "4816/4816 [==============================] - 1564s 325ms/step - loss: 0.1384 - accuracy: 0.9570 - val_loss: 0.0872 - val_accuracy: 0.9752\n"
     ]
    },
    {
     "name": "stderr",
     "output_type": "stream",
     "text": [
      "C:\\Users\\mario\\anaconda3\\envs\\tf-gpu\\lib\\site-packages\\tensorflow\\python\\keras\\utils\\generic_utils.py:494: CustomMaskWarning: Custom mask layers require a config and must override get_config. When loading, the custom mask layer must be passed to the custom_objects argument.\n",
      "  warnings.warn('Custom mask layers require a config and must override '\n"
     ]
    },
    {
     "name": "stdout",
     "output_type": "stream",
     "text": [
      "Epoch 45/100\n",
      "4816/4816 [==============================] - 1544s 320ms/step - loss: 0.1355 - accuracy: 0.9569 - val_loss: 0.0884 - val_accuracy: 0.9763\n"
     ]
    },
    {
     "name": "stderr",
     "output_type": "stream",
     "text": [
      "C:\\Users\\mario\\anaconda3\\envs\\tf-gpu\\lib\\site-packages\\tensorflow\\python\\keras\\utils\\generic_utils.py:494: CustomMaskWarning: Custom mask layers require a config and must override get_config. When loading, the custom mask layer must be passed to the custom_objects argument.\n",
      "  warnings.warn('Custom mask layers require a config and must override '\n"
     ]
    },
    {
     "name": "stdout",
     "output_type": "stream",
     "text": [
      "Epoch 46/100\n",
      "4816/4816 [==============================] - 1551s 322ms/step - loss: 0.1372 - accuracy: 0.9564 - val_loss: 0.0858 - val_accuracy: 0.9752\n"
     ]
    },
    {
     "name": "stderr",
     "output_type": "stream",
     "text": [
      "C:\\Users\\mario\\anaconda3\\envs\\tf-gpu\\lib\\site-packages\\tensorflow\\python\\keras\\utils\\generic_utils.py:494: CustomMaskWarning: Custom mask layers require a config and must override get_config. When loading, the custom mask layer must be passed to the custom_objects argument.\n",
      "  warnings.warn('Custom mask layers require a config and must override '\n"
     ]
    },
    {
     "name": "stdout",
     "output_type": "stream",
     "text": [
      "Epoch 47/100\n",
      "4816/4816 [==============================] - 1582s 329ms/step - loss: 0.1376 - accuracy: 0.9570 - val_loss: 0.0885 - val_accuracy: 0.9763\n"
     ]
    },
    {
     "name": "stderr",
     "output_type": "stream",
     "text": [
      "C:\\Users\\mario\\anaconda3\\envs\\tf-gpu\\lib\\site-packages\\tensorflow\\python\\keras\\utils\\generic_utils.py:494: CustomMaskWarning: Custom mask layers require a config and must override get_config. When loading, the custom mask layer must be passed to the custom_objects argument.\n",
      "  warnings.warn('Custom mask layers require a config and must override '\n"
     ]
    },
    {
     "name": "stdout",
     "output_type": "stream",
     "text": [
      "Epoch 48/100\n",
      "4816/4816 [==============================] - 1543s 320ms/step - loss: 0.1381 - accuracy: 0.9565 - val_loss: 0.0860 - val_accuracy: 0.9756\n"
     ]
    },
    {
     "name": "stderr",
     "output_type": "stream",
     "text": [
      "C:\\Users\\mario\\anaconda3\\envs\\tf-gpu\\lib\\site-packages\\tensorflow\\python\\keras\\utils\\generic_utils.py:494: CustomMaskWarning: Custom mask layers require a config and must override get_config. When loading, the custom mask layer must be passed to the custom_objects argument.\n",
      "  warnings.warn('Custom mask layers require a config and must override '\n"
     ]
    },
    {
     "name": "stdout",
     "output_type": "stream",
     "text": [
      "Epoch 49/100\n",
      "4816/4816 [==============================] - 1638s 340ms/step - loss: 0.1354 - accuracy: 0.9565 - val_loss: 0.0858 - val_accuracy: 0.9756\n"
     ]
    },
    {
     "name": "stderr",
     "output_type": "stream",
     "text": [
      "C:\\Users\\mario\\anaconda3\\envs\\tf-gpu\\lib\\site-packages\\tensorflow\\python\\keras\\utils\\generic_utils.py:494: CustomMaskWarning: Custom mask layers require a config and must override get_config. When loading, the custom mask layer must be passed to the custom_objects argument.\n",
      "  warnings.warn('Custom mask layers require a config and must override '\n"
     ]
    },
    {
     "name": "stdout",
     "output_type": "stream",
     "text": [
      "Epoch 50/100\n",
      "4816/4816 [==============================] - 1555s 323ms/step - loss: 0.1347 - accuracy: 0.9584 - val_loss: 0.0854 - val_accuracy: 0.9763\n"
     ]
    },
    {
     "name": "stderr",
     "output_type": "stream",
     "text": [
      "C:\\Users\\mario\\anaconda3\\envs\\tf-gpu\\lib\\site-packages\\tensorflow\\python\\keras\\utils\\generic_utils.py:494: CustomMaskWarning: Custom mask layers require a config and must override get_config. When loading, the custom mask layer must be passed to the custom_objects argument.\n",
      "  warnings.warn('Custom mask layers require a config and must override '\n"
     ]
    },
    {
     "name": "stdout",
     "output_type": "stream",
     "text": [
      "Epoch 51/100\n",
      "4816/4816 [==============================] - 1670s 347ms/step - loss: 0.1330 - accuracy: 0.9575 - val_loss: 0.0836 - val_accuracy: 0.9756\n"
     ]
    },
    {
     "name": "stderr",
     "output_type": "stream",
     "text": [
      "C:\\Users\\mario\\anaconda3\\envs\\tf-gpu\\lib\\site-packages\\tensorflow\\python\\keras\\utils\\generic_utils.py:494: CustomMaskWarning: Custom mask layers require a config and must override get_config. When loading, the custom mask layer must be passed to the custom_objects argument.\n",
      "  warnings.warn('Custom mask layers require a config and must override '\n"
     ]
    },
    {
     "name": "stdout",
     "output_type": "stream",
     "text": [
      "Epoch 52/100\n",
      "4816/4816 [==============================] - 1550s 322ms/step - loss: 0.1343 - accuracy: 0.9571 - val_loss: 0.0857 - val_accuracy: 0.9763\n"
     ]
    },
    {
     "name": "stderr",
     "output_type": "stream",
     "text": [
      "C:\\Users\\mario\\anaconda3\\envs\\tf-gpu\\lib\\site-packages\\tensorflow\\python\\keras\\utils\\generic_utils.py:494: CustomMaskWarning: Custom mask layers require a config and must override get_config. When loading, the custom mask layer must be passed to the custom_objects argument.\n",
      "  warnings.warn('Custom mask layers require a config and must override '\n"
     ]
    },
    {
     "name": "stdout",
     "output_type": "stream",
     "text": [
      "Epoch 53/100\n",
      "4816/4816 [==============================] - 1628s 338ms/step - loss: 0.1332 - accuracy: 0.9581 - val_loss: 0.0832 - val_accuracy: 0.9782\n"
     ]
    },
    {
     "name": "stderr",
     "output_type": "stream",
     "text": [
      "C:\\Users\\mario\\anaconda3\\envs\\tf-gpu\\lib\\site-packages\\tensorflow\\python\\keras\\utils\\generic_utils.py:494: CustomMaskWarning: Custom mask layers require a config and must override get_config. When loading, the custom mask layer must be passed to the custom_objects argument.\n",
      "  warnings.warn('Custom mask layers require a config and must override '\n"
     ]
    },
    {
     "name": "stdout",
     "output_type": "stream",
     "text": [
      "Epoch 54/100\n",
      "4816/4816 [==============================] - 1521s 316ms/step - loss: 0.1323 - accuracy: 0.9589 - val_loss: 0.0840 - val_accuracy: 0.9763\n"
     ]
    },
    {
     "name": "stderr",
     "output_type": "stream",
     "text": [
      "C:\\Users\\mario\\anaconda3\\envs\\tf-gpu\\lib\\site-packages\\tensorflow\\python\\keras\\utils\\generic_utils.py:494: CustomMaskWarning: Custom mask layers require a config and must override get_config. When loading, the custom mask layer must be passed to the custom_objects argument.\n",
      "  warnings.warn('Custom mask layers require a config and must override '\n"
     ]
    },
    {
     "name": "stdout",
     "output_type": "stream",
     "text": [
      "Epoch 55/100\n",
      "4816/4816 [==============================] - 1514s 314ms/step - loss: 0.1320 - accuracy: 0.9579 - val_loss: 0.0818 - val_accuracy: 0.9774\n"
     ]
    },
    {
     "name": "stderr",
     "output_type": "stream",
     "text": [
      "C:\\Users\\mario\\anaconda3\\envs\\tf-gpu\\lib\\site-packages\\tensorflow\\python\\keras\\utils\\generic_utils.py:494: CustomMaskWarning: Custom mask layers require a config and must override get_config. When loading, the custom mask layer must be passed to the custom_objects argument.\n",
      "  warnings.warn('Custom mask layers require a config and must override '\n"
     ]
    },
    {
     "name": "stdout",
     "output_type": "stream",
     "text": [
      "Epoch 56/100\n",
      "4816/4816 [==============================] - 1510s 313ms/step - loss: 0.1316 - accuracy: 0.9585 - val_loss: 0.0841 - val_accuracy: 0.9763\n"
     ]
    },
    {
     "name": "stderr",
     "output_type": "stream",
     "text": [
      "C:\\Users\\mario\\anaconda3\\envs\\tf-gpu\\lib\\site-packages\\tensorflow\\python\\keras\\utils\\generic_utils.py:494: CustomMaskWarning: Custom mask layers require a config and must override get_config. When loading, the custom mask layer must be passed to the custom_objects argument.\n",
      "  warnings.warn('Custom mask layers require a config and must override '\n"
     ]
    },
    {
     "name": "stdout",
     "output_type": "stream",
     "text": [
      "Epoch 57/100\n",
      "4816/4816 [==============================] - 1493s 310ms/step - loss: 0.1285 - accuracy: 0.9593 - val_loss: 0.0854 - val_accuracy: 0.9759\n"
     ]
    },
    {
     "name": "stderr",
     "output_type": "stream",
     "text": [
      "C:\\Users\\mario\\anaconda3\\envs\\tf-gpu\\lib\\site-packages\\tensorflow\\python\\keras\\utils\\generic_utils.py:494: CustomMaskWarning: Custom mask layers require a config and must override get_config. When loading, the custom mask layer must be passed to the custom_objects argument.\n",
      "  warnings.warn('Custom mask layers require a config and must override '\n"
     ]
    },
    {
     "name": "stdout",
     "output_type": "stream",
     "text": [
      "Epoch 58/100\n",
      "4816/4816 [==============================] - 1545s 321ms/step - loss: 0.1313 - accuracy: 0.9582 - val_loss: 0.0854 - val_accuracy: 0.9771\n"
     ]
    },
    {
     "name": "stderr",
     "output_type": "stream",
     "text": [
      "C:\\Users\\mario\\anaconda3\\envs\\tf-gpu\\lib\\site-packages\\tensorflow\\python\\keras\\utils\\generic_utils.py:494: CustomMaskWarning: Custom mask layers require a config and must override get_config. When loading, the custom mask layer must be passed to the custom_objects argument.\n",
      "  warnings.warn('Custom mask layers require a config and must override '\n"
     ]
    },
    {
     "name": "stdout",
     "output_type": "stream",
     "text": [
      "Epoch 59/100\n",
      "4816/4816 [==============================] - 1537s 319ms/step - loss: 0.1315 - accuracy: 0.9588 - val_loss: 0.0820 - val_accuracy: 0.9748\n"
     ]
    },
    {
     "name": "stderr",
     "output_type": "stream",
     "text": [
      "C:\\Users\\mario\\anaconda3\\envs\\tf-gpu\\lib\\site-packages\\tensorflow\\python\\keras\\utils\\generic_utils.py:494: CustomMaskWarning: Custom mask layers require a config and must override get_config. When loading, the custom mask layer must be passed to the custom_objects argument.\n",
      "  warnings.warn('Custom mask layers require a config and must override '\n"
     ]
    },
    {
     "name": "stdout",
     "output_type": "stream",
     "text": [
      "Epoch 60/100\n",
      "4816/4816 [==============================] - 1527s 317ms/step - loss: 0.1314 - accuracy: 0.9585 - val_loss: 0.0836 - val_accuracy: 0.9771\n"
     ]
    },
    {
     "name": "stderr",
     "output_type": "stream",
     "text": [
      "C:\\Users\\mario\\anaconda3\\envs\\tf-gpu\\lib\\site-packages\\tensorflow\\python\\keras\\utils\\generic_utils.py:494: CustomMaskWarning: Custom mask layers require a config and must override get_config. When loading, the custom mask layer must be passed to the custom_objects argument.\n",
      "  warnings.warn('Custom mask layers require a config and must override '\n"
     ]
    },
    {
     "name": "stdout",
     "output_type": "stream",
     "text": [
      "Epoch 61/100\n",
      "4816/4816 [==============================] - 1495s 310ms/step - loss: 0.1301 - accuracy: 0.9582 - val_loss: 0.0844 - val_accuracy: 0.9767\n"
     ]
    },
    {
     "name": "stderr",
     "output_type": "stream",
     "text": [
      "C:\\Users\\mario\\anaconda3\\envs\\tf-gpu\\lib\\site-packages\\tensorflow\\python\\keras\\utils\\generic_utils.py:494: CustomMaskWarning: Custom mask layers require a config and must override get_config. When loading, the custom mask layer must be passed to the custom_objects argument.\n",
      "  warnings.warn('Custom mask layers require a config and must override '\n"
     ]
    },
    {
     "name": "stdout",
     "output_type": "stream",
     "text": [
      "Epoch 62/100\n",
      "4816/4816 [==============================] - 1491s 309ms/step - loss: 0.1323 - accuracy: 0.9581 - val_loss: 0.0832 - val_accuracy: 0.9771\n"
     ]
    },
    {
     "name": "stderr",
     "output_type": "stream",
     "text": [
      "C:\\Users\\mario\\anaconda3\\envs\\tf-gpu\\lib\\site-packages\\tensorflow\\python\\keras\\utils\\generic_utils.py:494: CustomMaskWarning: Custom mask layers require a config and must override get_config. When loading, the custom mask layer must be passed to the custom_objects argument.\n",
      "  warnings.warn('Custom mask layers require a config and must override '\n"
     ]
    },
    {
     "name": "stdout",
     "output_type": "stream",
     "text": [
      "Epoch 63/100\n",
      "4816/4816 [==============================] - 1489s 309ms/step - loss: 0.1290 - accuracy: 0.9590 - val_loss: 0.0812 - val_accuracy: 0.9771\n"
     ]
    },
    {
     "name": "stderr",
     "output_type": "stream",
     "text": [
      "C:\\Users\\mario\\anaconda3\\envs\\tf-gpu\\lib\\site-packages\\tensorflow\\python\\keras\\utils\\generic_utils.py:494: CustomMaskWarning: Custom mask layers require a config and must override get_config. When loading, the custom mask layer must be passed to the custom_objects argument.\n",
      "  warnings.warn('Custom mask layers require a config and must override '\n"
     ]
    },
    {
     "name": "stdout",
     "output_type": "stream",
     "text": [
      "Epoch 64/100\n",
      "4816/4816 [==============================] - 1470s 305ms/step - loss: 0.1282 - accuracy: 0.9597 - val_loss: 0.0804 - val_accuracy: 0.9771\n"
     ]
    },
    {
     "name": "stderr",
     "output_type": "stream",
     "text": [
      "C:\\Users\\mario\\anaconda3\\envs\\tf-gpu\\lib\\site-packages\\tensorflow\\python\\keras\\utils\\generic_utils.py:494: CustomMaskWarning: Custom mask layers require a config and must override get_config. When loading, the custom mask layer must be passed to the custom_objects argument.\n",
      "  warnings.warn('Custom mask layers require a config and must override '\n"
     ]
    },
    {
     "name": "stdout",
     "output_type": "stream",
     "text": [
      "Epoch 65/100\n",
      "4816/4816 [==============================] - 1442s 299ms/step - loss: 0.1259 - accuracy: 0.9602 - val_loss: 0.0807 - val_accuracy: 0.9774\n"
     ]
    },
    {
     "name": "stderr",
     "output_type": "stream",
     "text": [
      "C:\\Users\\mario\\anaconda3\\envs\\tf-gpu\\lib\\site-packages\\tensorflow\\python\\keras\\utils\\generic_utils.py:494: CustomMaskWarning: Custom mask layers require a config and must override get_config. When loading, the custom mask layer must be passed to the custom_objects argument.\n",
      "  warnings.warn('Custom mask layers require a config and must override '\n"
     ]
    },
    {
     "name": "stdout",
     "output_type": "stream",
     "text": [
      "Epoch 66/100\n",
      "4816/4816 [==============================] - 1440s 299ms/step - loss: 0.1281 - accuracy: 0.9594 - val_loss: 0.0778 - val_accuracy: 0.9778\n"
     ]
    },
    {
     "name": "stderr",
     "output_type": "stream",
     "text": [
      "C:\\Users\\mario\\anaconda3\\envs\\tf-gpu\\lib\\site-packages\\tensorflow\\python\\keras\\utils\\generic_utils.py:494: CustomMaskWarning: Custom mask layers require a config and must override get_config. When loading, the custom mask layer must be passed to the custom_objects argument.\n",
      "  warnings.warn('Custom mask layers require a config and must override '\n"
     ]
    },
    {
     "name": "stdout",
     "output_type": "stream",
     "text": [
      "Epoch 67/100\n",
      "4816/4816 [==============================] - 1460s 303ms/step - loss: 0.1286 - accuracy: 0.9589 - val_loss: 0.0777 - val_accuracy: 0.9786\n"
     ]
    },
    {
     "name": "stderr",
     "output_type": "stream",
     "text": [
      "C:\\Users\\mario\\anaconda3\\envs\\tf-gpu\\lib\\site-packages\\tensorflow\\python\\keras\\utils\\generic_utils.py:494: CustomMaskWarning: Custom mask layers require a config and must override get_config. When loading, the custom mask layer must be passed to the custom_objects argument.\n",
      "  warnings.warn('Custom mask layers require a config and must override '\n"
     ]
    },
    {
     "name": "stdout",
     "output_type": "stream",
     "text": [
      "Epoch 68/100\n",
      "4816/4816 [==============================] - 1485s 308ms/step - loss: 0.1306 - accuracy: 0.9583 - val_loss: 0.0823 - val_accuracy: 0.9763\n"
     ]
    },
    {
     "name": "stderr",
     "output_type": "stream",
     "text": [
      "C:\\Users\\mario\\anaconda3\\envs\\tf-gpu\\lib\\site-packages\\tensorflow\\python\\keras\\utils\\generic_utils.py:494: CustomMaskWarning: Custom mask layers require a config and must override get_config. When loading, the custom mask layer must be passed to the custom_objects argument.\n",
      "  warnings.warn('Custom mask layers require a config and must override '\n"
     ]
    },
    {
     "name": "stdout",
     "output_type": "stream",
     "text": [
      "Epoch 69/100\n",
      "4816/4816 [==============================] - 1502s 312ms/step - loss: 0.1276 - accuracy: 0.9595 - val_loss: 0.0781 - val_accuracy: 0.9786\n"
     ]
    },
    {
     "name": "stderr",
     "output_type": "stream",
     "text": [
      "C:\\Users\\mario\\anaconda3\\envs\\tf-gpu\\lib\\site-packages\\tensorflow\\python\\keras\\utils\\generic_utils.py:494: CustomMaskWarning: Custom mask layers require a config and must override get_config. When loading, the custom mask layer must be passed to the custom_objects argument.\n",
      "  warnings.warn('Custom mask layers require a config and must override '\n"
     ]
    },
    {
     "name": "stdout",
     "output_type": "stream",
     "text": [
      "Epoch 70/100\n",
      "4816/4816 [==============================] - 1595s 331ms/step - loss: 0.1243 - accuracy: 0.9607 - val_loss: 0.0767 - val_accuracy: 0.9771\n"
     ]
    },
    {
     "name": "stderr",
     "output_type": "stream",
     "text": [
      "C:\\Users\\mario\\anaconda3\\envs\\tf-gpu\\lib\\site-packages\\tensorflow\\python\\keras\\utils\\generic_utils.py:494: CustomMaskWarning: Custom mask layers require a config and must override get_config. When loading, the custom mask layer must be passed to the custom_objects argument.\n",
      "  warnings.warn('Custom mask layers require a config and must override '\n"
     ]
    },
    {
     "name": "stdout",
     "output_type": "stream",
     "text": [
      "Epoch 71/100\n",
      "4816/4816 [==============================] - 1555s 323ms/step - loss: 0.1278 - accuracy: 0.9589 - val_loss: 0.0767 - val_accuracy: 0.9778\n"
     ]
    },
    {
     "name": "stderr",
     "output_type": "stream",
     "text": [
      "C:\\Users\\mario\\anaconda3\\envs\\tf-gpu\\lib\\site-packages\\tensorflow\\python\\keras\\utils\\generic_utils.py:494: CustomMaskWarning: Custom mask layers require a config and must override get_config. When loading, the custom mask layer must be passed to the custom_objects argument.\n",
      "  warnings.warn('Custom mask layers require a config and must override '\n"
     ]
    },
    {
     "name": "stdout",
     "output_type": "stream",
     "text": [
      "Epoch 72/100\n",
      "4816/4816 [==============================] - 1596s 331ms/step - loss: 0.1254 - accuracy: 0.9599 - val_loss: 0.0808 - val_accuracy: 0.9756\n"
     ]
    },
    {
     "name": "stderr",
     "output_type": "stream",
     "text": [
      "C:\\Users\\mario\\anaconda3\\envs\\tf-gpu\\lib\\site-packages\\tensorflow\\python\\keras\\utils\\generic_utils.py:494: CustomMaskWarning: Custom mask layers require a config and must override get_config. When loading, the custom mask layer must be passed to the custom_objects argument.\n",
      "  warnings.warn('Custom mask layers require a config and must override '\n"
     ]
    },
    {
     "name": "stdout",
     "output_type": "stream",
     "text": [
      "Epoch 73/100\n",
      "4816/4816 [==============================] - 1543s 320ms/step - loss: 0.1263 - accuracy: 0.9598 - val_loss: 0.0791 - val_accuracy: 0.9771\n"
     ]
    },
    {
     "name": "stderr",
     "output_type": "stream",
     "text": [
      "C:\\Users\\mario\\anaconda3\\envs\\tf-gpu\\lib\\site-packages\\tensorflow\\python\\keras\\utils\\generic_utils.py:494: CustomMaskWarning: Custom mask layers require a config and must override get_config. When loading, the custom mask layer must be passed to the custom_objects argument.\n",
      "  warnings.warn('Custom mask layers require a config and must override '\n"
     ]
    },
    {
     "name": "stdout",
     "output_type": "stream",
     "text": [
      "Epoch 74/100\n",
      "4816/4816 [==============================] - 1588s 330ms/step - loss: 0.1272 - accuracy: 0.9593 - val_loss: 0.0795 - val_accuracy: 0.9782\n"
     ]
    },
    {
     "name": "stderr",
     "output_type": "stream",
     "text": [
      "C:\\Users\\mario\\anaconda3\\envs\\tf-gpu\\lib\\site-packages\\tensorflow\\python\\keras\\utils\\generic_utils.py:494: CustomMaskWarning: Custom mask layers require a config and must override get_config. When loading, the custom mask layer must be passed to the custom_objects argument.\n",
      "  warnings.warn('Custom mask layers require a config and must override '\n"
     ]
    },
    {
     "name": "stdout",
     "output_type": "stream",
     "text": [
      "Epoch 75/100\n",
      "4816/4816 [==============================] - 1544s 320ms/step - loss: 0.1239 - accuracy: 0.9601 - val_loss: 0.0776 - val_accuracy: 0.9774\n"
     ]
    },
    {
     "name": "stderr",
     "output_type": "stream",
     "text": [
      "C:\\Users\\mario\\anaconda3\\envs\\tf-gpu\\lib\\site-packages\\tensorflow\\python\\keras\\utils\\generic_utils.py:494: CustomMaskWarning: Custom mask layers require a config and must override get_config. When loading, the custom mask layer must be passed to the custom_objects argument.\n",
      "  warnings.warn('Custom mask layers require a config and must override '\n"
     ]
    },
    {
     "name": "stdout",
     "output_type": "stream",
     "text": [
      "Epoch 76/100\n",
      "4816/4816 [==============================] - 1542s 320ms/step - loss: 0.1239 - accuracy: 0.9607 - val_loss: 0.0806 - val_accuracy: 0.9774\n"
     ]
    },
    {
     "name": "stderr",
     "output_type": "stream",
     "text": [
      "C:\\Users\\mario\\anaconda3\\envs\\tf-gpu\\lib\\site-packages\\tensorflow\\python\\keras\\utils\\generic_utils.py:494: CustomMaskWarning: Custom mask layers require a config and must override get_config. When loading, the custom mask layer must be passed to the custom_objects argument.\n",
      "  warnings.warn('Custom mask layers require a config and must override '\n"
     ]
    },
    {
     "name": "stdout",
     "output_type": "stream",
     "text": [
      "Epoch 77/100\n",
      "4816/4816 [==============================] - 1628s 338ms/step - loss: 0.1223 - accuracy: 0.9604 - val_loss: 0.0794 - val_accuracy: 0.9771\n"
     ]
    },
    {
     "name": "stderr",
     "output_type": "stream",
     "text": [
      "C:\\Users\\mario\\anaconda3\\envs\\tf-gpu\\lib\\site-packages\\tensorflow\\python\\keras\\utils\\generic_utils.py:494: CustomMaskWarning: Custom mask layers require a config and must override get_config. When loading, the custom mask layer must be passed to the custom_objects argument.\n",
      "  warnings.warn('Custom mask layers require a config and must override '\n"
     ]
    },
    {
     "name": "stdout",
     "output_type": "stream",
     "text": [
      "Epoch 78/100\n",
      "4816/4816 [==============================] - 1596s 331ms/step - loss: 0.1269 - accuracy: 0.9596 - val_loss: 0.0782 - val_accuracy: 0.9782\n"
     ]
    },
    {
     "name": "stderr",
     "output_type": "stream",
     "text": [
      "C:\\Users\\mario\\anaconda3\\envs\\tf-gpu\\lib\\site-packages\\tensorflow\\python\\keras\\utils\\generic_utils.py:494: CustomMaskWarning: Custom mask layers require a config and must override get_config. When loading, the custom mask layer must be passed to the custom_objects argument.\n",
      "  warnings.warn('Custom mask layers require a config and must override '\n"
     ]
    },
    {
     "name": "stdout",
     "output_type": "stream",
     "text": [
      "Epoch 79/100\n",
      "4816/4816 [==============================] - 1554s 323ms/step - loss: 0.1258 - accuracy: 0.9597 - val_loss: 0.0781 - val_accuracy: 0.9774\n"
     ]
    },
    {
     "name": "stderr",
     "output_type": "stream",
     "text": [
      "C:\\Users\\mario\\anaconda3\\envs\\tf-gpu\\lib\\site-packages\\tensorflow\\python\\keras\\utils\\generic_utils.py:494: CustomMaskWarning: Custom mask layers require a config and must override get_config. When loading, the custom mask layer must be passed to the custom_objects argument.\n",
      "  warnings.warn('Custom mask layers require a config and must override '\n"
     ]
    },
    {
     "name": "stdout",
     "output_type": "stream",
     "text": [
      "Epoch 80/100\n",
      "4816/4816 [==============================] - 1564s 325ms/step - loss: 0.1242 - accuracy: 0.9607 - val_loss: 0.0777 - val_accuracy: 0.9778\n"
     ]
    },
    {
     "name": "stderr",
     "output_type": "stream",
     "text": [
      "C:\\Users\\mario\\anaconda3\\envs\\tf-gpu\\lib\\site-packages\\tensorflow\\python\\keras\\utils\\generic_utils.py:494: CustomMaskWarning: Custom mask layers require a config and must override get_config. When loading, the custom mask layer must be passed to the custom_objects argument.\n",
      "  warnings.warn('Custom mask layers require a config and must override '\n"
     ]
    },
    {
     "name": "stdout",
     "output_type": "stream",
     "text": [
      "Epoch 81/100\n",
      "4816/4816 [==============================] - 1578s 328ms/step - loss: 0.1238 - accuracy: 0.9603 - val_loss: 0.0760 - val_accuracy: 0.9778\n"
     ]
    },
    {
     "name": "stderr",
     "output_type": "stream",
     "text": [
      "C:\\Users\\mario\\anaconda3\\envs\\tf-gpu\\lib\\site-packages\\tensorflow\\python\\keras\\utils\\generic_utils.py:494: CustomMaskWarning: Custom mask layers require a config and must override get_config. When loading, the custom mask layer must be passed to the custom_objects argument.\n",
      "  warnings.warn('Custom mask layers require a config and must override '\n"
     ]
    },
    {
     "name": "stdout",
     "output_type": "stream",
     "text": [
      "Epoch 82/100\n",
      "4816/4816 [==============================] - 1541s 320ms/step - loss: 0.1224 - accuracy: 0.9611 - val_loss: 0.0776 - val_accuracy: 0.9778\n"
     ]
    },
    {
     "name": "stderr",
     "output_type": "stream",
     "text": [
      "C:\\Users\\mario\\anaconda3\\envs\\tf-gpu\\lib\\site-packages\\tensorflow\\python\\keras\\utils\\generic_utils.py:494: CustomMaskWarning: Custom mask layers require a config and must override get_config. When loading, the custom mask layer must be passed to the custom_objects argument.\n",
      "  warnings.warn('Custom mask layers require a config and must override '\n"
     ]
    },
    {
     "name": "stdout",
     "output_type": "stream",
     "text": [
      "Epoch 83/100\n",
      "4816/4816 [==============================] - 1548s 321ms/step - loss: 0.1245 - accuracy: 0.9598 - val_loss: 0.0772 - val_accuracy: 0.9778\n"
     ]
    },
    {
     "name": "stderr",
     "output_type": "stream",
     "text": [
      "C:\\Users\\mario\\anaconda3\\envs\\tf-gpu\\lib\\site-packages\\tensorflow\\python\\keras\\utils\\generic_utils.py:494: CustomMaskWarning: Custom mask layers require a config and must override get_config. When loading, the custom mask layer must be passed to the custom_objects argument.\n",
      "  warnings.warn('Custom mask layers require a config and must override '\n"
     ]
    },
    {
     "name": "stdout",
     "output_type": "stream",
     "text": [
      "Epoch 84/100\n",
      "4816/4816 [==============================] - 1559s 324ms/step - loss: 0.1222 - accuracy: 0.9617 - val_loss: 0.0766 - val_accuracy: 0.9786\n"
     ]
    },
    {
     "name": "stderr",
     "output_type": "stream",
     "text": [
      "C:\\Users\\mario\\anaconda3\\envs\\tf-gpu\\lib\\site-packages\\tensorflow\\python\\keras\\utils\\generic_utils.py:494: CustomMaskWarning: Custom mask layers require a config and must override get_config. When loading, the custom mask layer must be passed to the custom_objects argument.\n",
      "  warnings.warn('Custom mask layers require a config and must override '\n"
     ]
    },
    {
     "name": "stdout",
     "output_type": "stream",
     "text": [
      "Epoch 85/100\n",
      "4816/4816 [==============================] - 1577s 327ms/step - loss: 0.1237 - accuracy: 0.9608 - val_loss: 0.0741 - val_accuracy: 0.9805\n"
     ]
    },
    {
     "name": "stderr",
     "output_type": "stream",
     "text": [
      "C:\\Users\\mario\\anaconda3\\envs\\tf-gpu\\lib\\site-packages\\tensorflow\\python\\keras\\utils\\generic_utils.py:494: CustomMaskWarning: Custom mask layers require a config and must override get_config. When loading, the custom mask layer must be passed to the custom_objects argument.\n",
      "  warnings.warn('Custom mask layers require a config and must override '\n"
     ]
    },
    {
     "name": "stdout",
     "output_type": "stream",
     "text": [
      "Epoch 86/100\n",
      "4816/4816 [==============================] - 1557s 323ms/step - loss: 0.1220 - accuracy: 0.9609 - val_loss: 0.0770 - val_accuracy: 0.9782\n"
     ]
    },
    {
     "name": "stderr",
     "output_type": "stream",
     "text": [
      "C:\\Users\\mario\\anaconda3\\envs\\tf-gpu\\lib\\site-packages\\tensorflow\\python\\keras\\utils\\generic_utils.py:494: CustomMaskWarning: Custom mask layers require a config and must override get_config. When loading, the custom mask layer must be passed to the custom_objects argument.\n",
      "  warnings.warn('Custom mask layers require a config and must override '\n"
     ]
    },
    {
     "name": "stdout",
     "output_type": "stream",
     "text": [
      "Epoch 87/100\n",
      "4816/4816 [==============================] - 1584s 329ms/step - loss: 0.1204 - accuracy: 0.9611 - val_loss: 0.0770 - val_accuracy: 0.9778\n"
     ]
    },
    {
     "name": "stderr",
     "output_type": "stream",
     "text": [
      "C:\\Users\\mario\\anaconda3\\envs\\tf-gpu\\lib\\site-packages\\tensorflow\\python\\keras\\utils\\generic_utils.py:494: CustomMaskWarning: Custom mask layers require a config and must override get_config. When loading, the custom mask layer must be passed to the custom_objects argument.\n",
      "  warnings.warn('Custom mask layers require a config and must override '\n"
     ]
    },
    {
     "name": "stdout",
     "output_type": "stream",
     "text": [
      "Epoch 88/100\n",
      "4816/4816 [==============================] - 1593s 331ms/step - loss: 0.1217 - accuracy: 0.9619 - val_loss: 0.0749 - val_accuracy: 0.9786\n"
     ]
    },
    {
     "name": "stderr",
     "output_type": "stream",
     "text": [
      "C:\\Users\\mario\\anaconda3\\envs\\tf-gpu\\lib\\site-packages\\tensorflow\\python\\keras\\utils\\generic_utils.py:494: CustomMaskWarning: Custom mask layers require a config and must override get_config. When loading, the custom mask layer must be passed to the custom_objects argument.\n",
      "  warnings.warn('Custom mask layers require a config and must override '\n"
     ]
    },
    {
     "name": "stdout",
     "output_type": "stream",
     "text": [
      "Epoch 89/100\n",
      "4816/4816 [==============================] - 1596s 331ms/step - loss: 0.1254 - accuracy: 0.9599 - val_loss: 0.0756 - val_accuracy: 0.9778\n"
     ]
    },
    {
     "name": "stderr",
     "output_type": "stream",
     "text": [
      "C:\\Users\\mario\\anaconda3\\envs\\tf-gpu\\lib\\site-packages\\tensorflow\\python\\keras\\utils\\generic_utils.py:494: CustomMaskWarning: Custom mask layers require a config and must override get_config. When loading, the custom mask layer must be passed to the custom_objects argument.\n",
      "  warnings.warn('Custom mask layers require a config and must override '\n"
     ]
    },
    {
     "name": "stdout",
     "output_type": "stream",
     "text": [
      "Epoch 90/100\n",
      "4816/4816 [==============================] - 1601s 332ms/step - loss: 0.1231 - accuracy: 0.9601 - val_loss: 0.0764 - val_accuracy: 0.9771\n"
     ]
    },
    {
     "name": "stderr",
     "output_type": "stream",
     "text": [
      "C:\\Users\\mario\\anaconda3\\envs\\tf-gpu\\lib\\site-packages\\tensorflow\\python\\keras\\utils\\generic_utils.py:494: CustomMaskWarning: Custom mask layers require a config and must override get_config. When loading, the custom mask layer must be passed to the custom_objects argument.\n",
      "  warnings.warn('Custom mask layers require a config and must override '\n"
     ]
    },
    {
     "name": "stdout",
     "output_type": "stream",
     "text": [
      "Epoch 91/100\n",
      "4816/4816 [==============================] - 1595s 331ms/step - loss: 0.1223 - accuracy: 0.9615 - val_loss: 0.0762 - val_accuracy: 0.9778\n"
     ]
    },
    {
     "name": "stderr",
     "output_type": "stream",
     "text": [
      "C:\\Users\\mario\\anaconda3\\envs\\tf-gpu\\lib\\site-packages\\tensorflow\\python\\keras\\utils\\generic_utils.py:494: CustomMaskWarning: Custom mask layers require a config and must override get_config. When loading, the custom mask layer must be passed to the custom_objects argument.\n",
      "  warnings.warn('Custom mask layers require a config and must override '\n"
     ]
    },
    {
     "name": "stdout",
     "output_type": "stream",
     "text": [
      "Epoch 92/100\n",
      "4816/4816 [==============================] - 1682s 349ms/step - loss: 0.1224 - accuracy: 0.9613 - val_loss: 0.0755 - val_accuracy: 0.9789\n"
     ]
    },
    {
     "name": "stderr",
     "output_type": "stream",
     "text": [
      "C:\\Users\\mario\\anaconda3\\envs\\tf-gpu\\lib\\site-packages\\tensorflow\\python\\keras\\utils\\generic_utils.py:494: CustomMaskWarning: Custom mask layers require a config and must override get_config. When loading, the custom mask layer must be passed to the custom_objects argument.\n",
      "  warnings.warn('Custom mask layers require a config and must override '\n"
     ]
    },
    {
     "name": "stdout",
     "output_type": "stream",
     "text": [
      "Epoch 93/100\n",
      "4816/4816 [==============================] - 1636s 340ms/step - loss: 0.1215 - accuracy: 0.9611 - val_loss: 0.0743 - val_accuracy: 0.9786\n"
     ]
    },
    {
     "name": "stderr",
     "output_type": "stream",
     "text": [
      "C:\\Users\\mario\\anaconda3\\envs\\tf-gpu\\lib\\site-packages\\tensorflow\\python\\keras\\utils\\generic_utils.py:494: CustomMaskWarning: Custom mask layers require a config and must override get_config. When loading, the custom mask layer must be passed to the custom_objects argument.\n",
      "  warnings.warn('Custom mask layers require a config and must override '\n"
     ]
    },
    {
     "name": "stdout",
     "output_type": "stream",
     "text": [
      "Epoch 94/100\n",
      "4816/4816 [==============================] - 1608s 334ms/step - loss: 0.1224 - accuracy: 0.9603 - val_loss: 0.0761 - val_accuracy: 0.9789\n"
     ]
    },
    {
     "name": "stderr",
     "output_type": "stream",
     "text": [
      "C:\\Users\\mario\\anaconda3\\envs\\tf-gpu\\lib\\site-packages\\tensorflow\\python\\keras\\utils\\generic_utils.py:494: CustomMaskWarning: Custom mask layers require a config and must override get_config. When loading, the custom mask layer must be passed to the custom_objects argument.\n",
      "  warnings.warn('Custom mask layers require a config and must override '\n"
     ]
    },
    {
     "name": "stdout",
     "output_type": "stream",
     "text": [
      "Epoch 95/100\n",
      "4816/4816 [==============================] - 1547s 321ms/step - loss: 0.1203 - accuracy: 0.9609 - val_loss: 0.0719 - val_accuracy: 0.9793\n"
     ]
    },
    {
     "name": "stderr",
     "output_type": "stream",
     "text": [
      "C:\\Users\\mario\\anaconda3\\envs\\tf-gpu\\lib\\site-packages\\tensorflow\\python\\keras\\utils\\generic_utils.py:494: CustomMaskWarning: Custom mask layers require a config and must override get_config. When loading, the custom mask layer must be passed to the custom_objects argument.\n",
      "  warnings.warn('Custom mask layers require a config and must override '\n"
     ]
    },
    {
     "name": "stdout",
     "output_type": "stream",
     "text": [
      "Epoch 96/100\n",
      "4816/4816 [==============================] - 1553s 322ms/step - loss: 0.1210 - accuracy: 0.9619 - val_loss: 0.0740 - val_accuracy: 0.9782\n"
     ]
    },
    {
     "name": "stderr",
     "output_type": "stream",
     "text": [
      "C:\\Users\\mario\\anaconda3\\envs\\tf-gpu\\lib\\site-packages\\tensorflow\\python\\keras\\utils\\generic_utils.py:494: CustomMaskWarning: Custom mask layers require a config and must override get_config. When loading, the custom mask layer must be passed to the custom_objects argument.\n",
      "  warnings.warn('Custom mask layers require a config and must override '\n"
     ]
    },
    {
     "name": "stdout",
     "output_type": "stream",
     "text": [
      "Epoch 97/100\n",
      "4816/4816 [==============================] - 1519s 315ms/step - loss: 0.1201 - accuracy: 0.9612 - val_loss: 0.0754 - val_accuracy: 0.9789\n"
     ]
    },
    {
     "name": "stderr",
     "output_type": "stream",
     "text": [
      "C:\\Users\\mario\\anaconda3\\envs\\tf-gpu\\lib\\site-packages\\tensorflow\\python\\keras\\utils\\generic_utils.py:494: CustomMaskWarning: Custom mask layers require a config and must override get_config. When loading, the custom mask layer must be passed to the custom_objects argument.\n",
      "  warnings.warn('Custom mask layers require a config and must override '\n"
     ]
    },
    {
     "name": "stdout",
     "output_type": "stream",
     "text": [
      "Epoch 98/100\n",
      "4816/4816 [==============================] - 1578s 328ms/step - loss: 0.1186 - accuracy: 0.9622 - val_loss: 0.0763 - val_accuracy: 0.9793\n"
     ]
    },
    {
     "name": "stderr",
     "output_type": "stream",
     "text": [
      "C:\\Users\\mario\\anaconda3\\envs\\tf-gpu\\lib\\site-packages\\tensorflow\\python\\keras\\utils\\generic_utils.py:494: CustomMaskWarning: Custom mask layers require a config and must override get_config. When loading, the custom mask layer must be passed to the custom_objects argument.\n",
      "  warnings.warn('Custom mask layers require a config and must override '\n"
     ]
    },
    {
     "name": "stdout",
     "output_type": "stream",
     "text": [
      "Epoch 99/100\n",
      "4816/4816 [==============================] - 1573s 326ms/step - loss: 0.1199 - accuracy: 0.9616 - val_loss: 0.0755 - val_accuracy: 0.9789\n"
     ]
    },
    {
     "name": "stderr",
     "output_type": "stream",
     "text": [
      "C:\\Users\\mario\\anaconda3\\envs\\tf-gpu\\lib\\site-packages\\tensorflow\\python\\keras\\utils\\generic_utils.py:494: CustomMaskWarning: Custom mask layers require a config and must override get_config. When loading, the custom mask layer must be passed to the custom_objects argument.\n",
      "  warnings.warn('Custom mask layers require a config and must override '\n"
     ]
    },
    {
     "name": "stdout",
     "output_type": "stream",
     "text": [
      "Epoch 100/100\n",
      "4816/4816 [==============================] - 1547s 321ms/step - loss: 0.1203 - accuracy: 0.9625 - val_loss: 0.0730 - val_accuracy: 0.9793\n"
     ]
    },
    {
     "name": "stderr",
     "output_type": "stream",
     "text": [
      "C:\\Users\\mario\\anaconda3\\envs\\tf-gpu\\lib\\site-packages\\tensorflow\\python\\keras\\utils\\generic_utils.py:494: CustomMaskWarning: Custom mask layers require a config and must override get_config. When loading, the custom mask layer must be passed to the custom_objects argument.\n",
      "  warnings.warn('Custom mask layers require a config and must override '\n"
     ]
    }
   ],
   "source": [
    "aug_callbacks = create_folders_and_callbacks(model_name='CNN38') # create folders and callbacks for training\n",
    "\n",
    "tf.get_logger().setLevel('WARNING') # if you want to suppress only INFOs\n",
    "\n",
    "history = model.fit(\n",
    "    x = aug_train_gen,\n",
    "    epochs = epochs,\n",
    "    validation_data = val_gen,\n",
    "    callbacks = aug_callbacks,\n",
    ").history"
   ]
  },
  {
   "cell_type": "code",
   "execution_count": 24,
   "metadata": {
    "id": "FDfbzgW7IanT"
   },
   "outputs": [
    {
     "name": "stderr",
     "output_type": "stream",
     "text": [
      "C:\\Users\\mario\\anaconda3\\envs\\tf-gpu\\lib\\site-packages\\tensorflow\\python\\keras\\utils\\generic_utils.py:494: CustomMaskWarning: Custom mask layers require a config and must override get_config. When loading, the custom mask layer must be passed to the custom_objects argument.\n",
      "  warnings.warn('Custom mask layers require a config and must override '\n"
     ]
    }
   ],
   "source": [
    "# Save the model\n",
    "model.save('CNN38')"
   ]
  },
  {
   "cell_type": "markdown",
   "metadata": {
    "id": "lHzRcst0IanT",
    "papermill": {
     "duration": 24.31485,
     "end_time": "2021-11-20T07:37:49.679257",
     "exception": false,
     "start_time": "2021-11-20T07:37:25.364407",
     "status": "completed"
    },
    "tags": []
   },
   "source": [
    "### Plot the Training"
   ]
  },
  {
   "cell_type": "code",
   "execution_count": 25,
   "metadata": {
    "id": "JYKekv35IanT"
   },
   "outputs": [
    {
     "data": {
      "image/png": "[encoded data removed]",
      "text/plain": [
       "<Figure size 1080x360 with 1 Axes>"
      ]
     },
     "metadata": {
      "needs_background": "light"
     },
     "output_type": "display_data"
    },
    {
     "data": {
      "image/png": "[encoded data removed]",
      "text/plain": [
       "<Figure size 1080x360 with 1 Axes>"
      ]
     },
     "metadata": {
      "needs_background": "light"
     },
     "output_type": "display_data"
    }
   ],
   "source": [
    "plot_history(history)"
   ]
  },
  {
   "cell_type": "markdown",
   "metadata": {
    "id": "beMzme88IanT",
    "papermill": {
     "duration": 24.158443,
     "end_time": "2021-11-20T07:39:26.988909",
     "exception": false,
     "start_time": "2021-11-20T07:39:02.830466",
     "status": "completed"
    },
    "tags": []
   },
   "source": [
    "### Validation results"
   ]
  },
  {
   "cell_type": "code",
   "execution_count": 25,
   "metadata": {
    "id": "gofO7IBHkMIl"
   },
   "outputs": [],
   "source": [
    "# model = tfk.models.load_model('CNN38')"
   ]
  },
  {
   "cell_type": "code",
   "execution_count": 26,
   "metadata": {
    "colab": {
     "base_uri": "https://localhost:8080/"
    },
    "id": "9_jqnplaIanU",
    "outputId": "a459c673-e46d-477b-d1d7-c7af0422ad45"
   },
   "outputs": [
    {
     "name": "stdout",
     "output_type": "stream",
     "text": [
      "Confusion Matrix\n",
      "[[181   1   4   0   1   0   0   1   1   0   0   0   0   1]\n",
      " [  1 188   0   0   0   0   0   1   0   0   0   0   0   0]\n",
      " [  2   0 186   0   0   0   0   1   0   0   0   0   0   1]\n",
      " [  0   0   0 190   0   0   0   0   0   0   0   0   0   0]\n",
      " [  0   0   0   0 190   0   0   0   0   0   0   0   0   0]\n",
      " [  0   0   0   0   0 190   0   0   0   0   0   0   0   0]\n",
      " [  1   0   0   1   0   0 187   0   0   0   0   0   0   1]\n",
      " [  0   0   0   0   0   0   1 183   0   0   0   0   0   6]\n",
      " [  2   0   0   0   1   0   0   0 182   0   0   0   0   5]\n",
      " [  1   0   0   0   0   0   0   0   0 188   0   0   0   1]\n",
      " [  2   0   1   0   0   0   0   1   0   0 184   0   0   2]\n",
      " [  0   0   0   0   3   0   0   0   0   0   0 187   0   0]\n",
      " [  1   0   0   0   1   0   0   0   2   0   0   0 185   1]\n",
      " [  2   0   0   0   0   0   0   1   1   0   1   0   1 184]]\n",
      "\n",
      "Classification Report\n",
      "\n",
      "\n",
      "              precision    recall  f1-score   support\n",
      "\n",
      "       Apple       0.94      0.95      0.95       190\n",
      "   Blueberry       0.99      0.99      0.99       190\n",
      "      Cherry       0.97      0.98      0.98       190\n",
      "        Corn       0.99      1.00      1.00       190\n",
      "       Grape       0.97      1.00      0.98       190\n",
      "      Orange       1.00      1.00      1.00       190\n",
      "       Peach       0.99      0.98      0.99       190\n",
      "      Pepper       0.97      0.96      0.97       190\n",
      "      Potato       0.98      0.96      0.97       190\n",
      "   Raspberry       1.00      0.99      0.99       190\n",
      "     Soybean       0.99      0.97      0.98       190\n",
      "      Squash       1.00      0.98      0.99       190\n",
      "  Strawberry       0.99      0.97      0.98       190\n",
      "      Tomato       0.91      0.97      0.94       190\n",
      "\n",
      "    accuracy                           0.98      2660\n",
      "   macro avg       0.98      0.98      0.98      2660\n",
      "weighted avg       0.98      0.98      0.98      2660\n",
      "\n",
      "\n",
      "Validation metrics:\n",
      "167/167 [==============================] - 21s 125ms/step - loss: 0.0730 - accuracy: 0.9793\n"
     ]
    }
   ],
   "source": [
    "# Confusion Matrix and Classification Report\n",
    "classif_report(model)"
   ]
  },
  {
   "cell_type": "markdown",
   "metadata": {
    "id": "ectXl339IanU"
   },
   "source": [
    "## Fine Tuning"
   ]
  },
  {
   "cell_type": "markdown",
   "metadata": {
    "id": "gyh-I9LniE0A"
   },
   "source": [
    "In this phase we reload the previous model and we retrain it by unfreezing all the Xception layers from the 126th on. <br>\n",
    "We also decrease the learning rate to 1e-5."
   ]
  },
  {
   "cell_type": "code",
   "execution_count": 27,
   "metadata": {
    "colab": {
     "base_uri": "https://localhost:8080/"
    },
    "id": "Q3NzBOpvIanU",
    "outputId": "b5aa9ea3-36fe-4239-f723-dd51c786fd4c"
   },
   "outputs": [
    {
     "name": "stdout",
     "output_type": "stream",
     "text": [
      "Model: \"sequential\"\n",
      "_________________________________________________________________\n",
      "Layer (type)                 Output Shape              Param #   \n",
      "=================================================================\n",
      "xception (Functional)        (None, 8, 8, 2048)        20861480  \n",
      "_________________________________________________________________\n",
      "global_average_pooling2d (Gl (None, 2048)              0         \n",
      "_________________________________________________________________\n",
      "dropout_2 (Dropout)          (None, 2048)              0         \n",
      "_________________________________________________________________\n",
      "dense (Dense)                (None, 14)                28686     \n",
      "=================================================================\n",
      "Total params: 20,890,166\n",
      "Trainable params: 28,686\n",
      "Non-trainable params: 20,861,480\n",
      "_________________________________________________________________\n"
     ]
    }
   ],
   "source": [
    "# Reload the model after transfer learning\n",
    "model = tfk.models.load_model('CNN38')\n",
    "model.summary()"
   ]
  },
  {
   "cell_type": "code",
   "execution_count": 28,
   "metadata": {
    "colab": {
     "base_uri": "https://localhost:8080/"
    },
    "id": "TvV5VtvnIanU",
    "outputId": "fa412f7b-df9e-46fb-9584-ada9d09b1710"
   },
   "outputs": [
    {
     "name": "stdout",
     "output_type": "stream",
     "text": [
      "0 input_1 True\n",
      "1 block1_conv1 True\n",
      "2 block1_conv1_bn True\n",
      "3 block1_conv1_act True\n",
      "4 block1_conv2 True\n",
      "5 block1_conv2_bn True\n",
      "6 block1_conv2_act True\n",
      "7 block2_sepconv1 True\n",
      "8 block2_sepconv1_bn True\n",
      "9 block2_sepconv2_act True\n",
      "10 block2_sepconv2 True\n",
      "11 block2_sepconv2_bn True\n",
      "12 conv2d_6 True\n",
      "13 block2_pool True\n",
      "14 batch_normalization_8 True\n",
      "15 add True\n",
      "16 block3_sepconv1_act True\n",
      "17 block3_sepconv1 True\n",
      "18 block3_sepconv1_bn True\n",
      "19 block3_sepconv2_act True\n",
      "20 block3_sepconv2 True\n",
      "21 block3_sepconv2_bn True\n",
      "22 conv2d_7 True\n",
      "23 block3_pool True\n",
      "24 batch_normalization_9 True\n",
      "25 add_1 True\n",
      "26 block4_sepconv1_act True\n",
      "27 block4_sepconv1 True\n",
      "28 block4_sepconv1_bn True\n",
      "29 block4_sepconv2_act True\n",
      "30 block4_sepconv2 True\n",
      "31 block4_sepconv2_bn True\n",
      "32 conv2d_8 True\n",
      "33 block4_pool True\n",
      "34 batch_normalization_10 True\n",
      "35 add_2 True\n",
      "36 block5_sepconv1_act True\n",
      "37 block5_sepconv1 True\n",
      "38 block5_sepconv1_bn True\n",
      "39 block5_sepconv2_act True\n",
      "40 block5_sepconv2 True\n",
      "41 block5_sepconv2_bn True\n",
      "42 block5_sepconv3_act True\n",
      "43 block5_sepconv3 True\n",
      "44 block5_sepconv3_bn True\n",
      "45 add_3 True\n",
      "46 block6_sepconv1_act True\n",
      "47 block6_sepconv1 True\n",
      "48 block6_sepconv1_bn True\n",
      "49 block6_sepconv2_act True\n",
      "50 block6_sepconv2 True\n",
      "51 block6_sepconv2_bn True\n",
      "52 block6_sepconv3_act True\n",
      "53 block6_sepconv3 True\n",
      "54 block6_sepconv3_bn True\n",
      "55 add_4 True\n",
      "56 block7_sepconv1_act True\n",
      "57 block7_sepconv1 True\n",
      "58 block7_sepconv1_bn True\n",
      "59 block7_sepconv2_act True\n",
      "60 block7_sepconv2 True\n",
      "61 block7_sepconv2_bn True\n",
      "62 block7_sepconv3_act True\n",
      "63 block7_sepconv3 True\n",
      "64 block7_sepconv3_bn True\n",
      "65 add_5 True\n",
      "66 block8_sepconv1_act True\n",
      "67 block8_sepconv1 True\n",
      "68 block8_sepconv1_bn True\n",
      "69 block8_sepconv2_act True\n",
      "70 block8_sepconv2 True\n",
      "71 block8_sepconv2_bn True\n",
      "72 block8_sepconv3_act True\n",
      "73 block8_sepconv3 True\n",
      "74 block8_sepconv3_bn True\n",
      "75 add_6 True\n",
      "76 block9_sepconv1_act True\n",
      "77 block9_sepconv1 True\n",
      "78 block9_sepconv1_bn True\n",
      "79 block9_sepconv2_act True\n",
      "80 block9_sepconv2 True\n",
      "81 block9_sepconv2_bn True\n",
      "82 block9_sepconv3_act True\n",
      "83 block9_sepconv3 True\n",
      "84 block9_sepconv3_bn True\n",
      "85 add_7 True\n",
      "86 block10_sepconv1_act True\n",
      "87 block10_sepconv1 True\n",
      "88 block10_sepconv1_bn True\n",
      "89 block10_sepconv2_act True\n",
      "90 block10_sepconv2 True\n",
      "91 block10_sepconv2_bn True\n",
      "92 block10_sepconv3_act True\n",
      "93 block10_sepconv3 True\n",
      "94 block10_sepconv3_bn True\n",
      "95 add_8 True\n",
      "96 block11_sepconv1_act True\n",
      "97 block11_sepconv1 True\n",
      "98 block11_sepconv1_bn True\n",
      "99 block11_sepconv2_act True\n",
      "100 block11_sepconv2 True\n",
      "101 block11_sepconv2_bn True\n",
      "102 block11_sepconv3_act True\n",
      "103 block11_sepconv3 True\n",
      "104 block11_sepconv3_bn True\n",
      "105 add_9 True\n",
      "106 block12_sepconv1_act True\n",
      "107 block12_sepconv1 True\n",
      "108 block12_sepconv1_bn True\n",
      "109 block12_sepconv2_act True\n",
      "110 block12_sepconv2 True\n",
      "111 block12_sepconv2_bn True\n",
      "112 block12_sepconv3_act True\n",
      "113 block12_sepconv3 True\n",
      "114 block12_sepconv3_bn True\n",
      "115 add_10 True\n",
      "116 block13_sepconv1_act True\n",
      "117 block13_sepconv1 True\n",
      "118 block13_sepconv1_bn True\n",
      "119 block13_sepconv2_act True\n",
      "120 block13_sepconv2 True\n",
      "121 block13_sepconv2_bn True\n",
      "122 conv2d_9 True\n",
      "123 block13_pool True\n",
      "124 batch_normalization_11 True\n",
      "125 add_11 True\n",
      "126 block14_sepconv1 True\n",
      "127 block14_sepconv1_bn True\n",
      "128 block14_sepconv1_act True\n",
      "129 block14_sepconv2 True\n",
      "130 block14_sepconv2_bn True\n",
      "131 block14_sepconv2_act True\n"
     ]
    }
   ],
   "source": [
    "# set all Xception layers to trainable\n",
    "model.get_layer('xception').trainable = True\n",
    "\n",
    "for i, layer in enumerate(model.get_layer('xception').layers):\n",
    "    print(i, layer.name, layer.trainable)"
   ]
  },
  {
   "cell_type": "code",
   "execution_count": 29,
   "metadata": {
    "colab": {
     "base_uri": "https://localhost:8080/"
    },
    "id": "UkvJ1iNlIanU",
    "outputId": "8cb1783e-0c1b-431c-f920-b5f715cfb8e2"
   },
   "outputs": [
    {
     "name": "stdout",
     "output_type": "stream",
     "text": [
      "0 input_1 False\n",
      "1 block1_conv1 False\n",
      "2 block1_conv1_bn False\n",
      "3 block1_conv1_act False\n",
      "4 block1_conv2 False\n",
      "5 block1_conv2_bn False\n",
      "6 block1_conv2_act False\n",
      "7 block2_sepconv1 False\n",
      "8 block2_sepconv1_bn False\n",
      "9 block2_sepconv2_act False\n",
      "10 block2_sepconv2 False\n",
      "11 block2_sepconv2_bn False\n",
      "12 conv2d_6 False\n",
      "13 block2_pool False\n",
      "14 batch_normalization_8 False\n",
      "15 add False\n",
      "16 block3_sepconv1_act False\n",
      "17 block3_sepconv1 False\n",
      "18 block3_sepconv1_bn False\n",
      "19 block3_sepconv2_act False\n",
      "20 block3_sepconv2 False\n",
      "21 block3_sepconv2_bn False\n",
      "22 conv2d_7 False\n",
      "23 block3_pool False\n",
      "24 batch_normalization_9 False\n",
      "25 add_1 False\n",
      "26 block4_sepconv1_act False\n",
      "27 block4_sepconv1 False\n",
      "28 block4_sepconv1_bn False\n",
      "29 block4_sepconv2_act False\n",
      "30 block4_sepconv2 False\n",
      "31 block4_sepconv2_bn False\n",
      "32 conv2d_8 False\n",
      "33 block4_pool False\n",
      "34 batch_normalization_10 False\n",
      "35 add_2 False\n",
      "36 block5_sepconv1_act False\n",
      "37 block5_sepconv1 False\n",
      "38 block5_sepconv1_bn False\n",
      "39 block5_sepconv2_act False\n",
      "40 block5_sepconv2 False\n",
      "41 block5_sepconv2_bn False\n",
      "42 block5_sepconv3_act False\n",
      "43 block5_sepconv3 False\n",
      "44 block5_sepconv3_bn False\n",
      "45 add_3 False\n",
      "46 block6_sepconv1_act False\n",
      "47 block6_sepconv1 False\n",
      "48 block6_sepconv1_bn False\n",
      "49 block6_sepconv2_act False\n",
      "50 block6_sepconv2 False\n",
      "51 block6_sepconv2_bn False\n",
      "52 block6_sepconv3_act False\n",
      "53 block6_sepconv3 False\n",
      "54 block6_sepconv3_bn False\n",
      "55 add_4 False\n",
      "56 block7_sepconv1_act False\n",
      "57 block7_sepconv1 False\n",
      "58 block7_sepconv1_bn False\n",
      "59 block7_sepconv2_act False\n",
      "60 block7_sepconv2 False\n",
      "61 block7_sepconv2_bn False\n",
      "62 block7_sepconv3_act False\n",
      "63 block7_sepconv3 False\n",
      "64 block7_sepconv3_bn False\n",
      "65 add_5 False\n",
      "66 block8_sepconv1_act False\n",
      "67 block8_sepconv1 False\n",
      "68 block8_sepconv1_bn False\n",
      "69 block8_sepconv2_act False\n",
      "70 block8_sepconv2 False\n",
      "71 block8_sepconv2_bn False\n",
      "72 block8_sepconv3_act False\n",
      "73 block8_sepconv3 False\n",
      "74 block8_sepconv3_bn False\n",
      "75 add_6 False\n",
      "76 block9_sepconv1_act False\n",
      "77 block9_sepconv1 False\n",
      "78 block9_sepconv1_bn False\n",
      "79 block9_sepconv2_act False\n",
      "80 block9_sepconv2 False\n",
      "81 block9_sepconv2_bn False\n",
      "82 block9_sepconv3_act False\n",
      "83 block9_sepconv3 False\n",
      "84 block9_sepconv3_bn False\n",
      "85 add_7 False\n",
      "86 block10_sepconv1_act False\n",
      "87 block10_sepconv1 False\n",
      "88 block10_sepconv1_bn False\n",
      "89 block10_sepconv2_act False\n",
      "90 block10_sepconv2 False\n",
      "91 block10_sepconv2_bn False\n",
      "92 block10_sepconv3_act False\n",
      "93 block10_sepconv3 False\n",
      "94 block10_sepconv3_bn False\n",
      "95 add_8 False\n",
      "96 block11_sepconv1_act False\n",
      "97 block11_sepconv1 False\n",
      "98 block11_sepconv1_bn False\n",
      "99 block11_sepconv2_act False\n",
      "100 block11_sepconv2 False\n",
      "101 block11_sepconv2_bn False\n",
      "102 block11_sepconv3_act False\n",
      "103 block11_sepconv3 False\n",
      "104 block11_sepconv3_bn False\n",
      "105 add_9 False\n",
      "106 block12_sepconv1_act False\n",
      "107 block12_sepconv1 False\n",
      "108 block12_sepconv1_bn False\n",
      "109 block12_sepconv2_act False\n",
      "110 block12_sepconv2 False\n",
      "111 block12_sepconv2_bn False\n",
      "112 block12_sepconv3_act False\n",
      "113 block12_sepconv3 False\n",
      "114 block12_sepconv3_bn False\n",
      "115 add_10 False\n",
      "116 block13_sepconv1_act False\n",
      "117 block13_sepconv1 False\n",
      "118 block13_sepconv1_bn False\n",
      "119 block13_sepconv2_act False\n",
      "120 block13_sepconv2 False\n",
      "121 block13_sepconv2_bn False\n",
      "122 conv2d_9 False\n",
      "123 block13_pool False\n",
      "124 batch_normalization_11 False\n",
      "125 add_11 False\n",
      "126 block14_sepconv1 True\n",
      "127 block14_sepconv1_bn True\n",
      "128 block14_sepconv1_act True\n",
      "129 block14_sepconv2 True\n",
      "130 block14_sepconv2_bn True\n",
      "131 block14_sepconv2_act True\n",
      "Model: \"sequential\"\n",
      "_________________________________________________________________\n",
      "Layer (type)                 Output Shape              Param #   \n",
      "=================================================================\n",
      "xception (Functional)        (None, 8, 8, 2048)        20861480  \n",
      "_________________________________________________________________\n",
      "global_average_pooling2d (Gl (None, 2048)              0         \n",
      "_________________________________________________________________\n",
      "dropout_2 (Dropout)          (None, 2048)              0         \n",
      "_________________________________________________________________\n",
      "dense (Dense)                (None, 14)                28686     \n",
      "=================================================================\n",
      "Total params: 20,890,166\n",
      "Trainable params: 4,777,486\n",
      "Non-trainable params: 16,112,680\n",
      "_________________________________________________________________\n"
     ]
    }
   ],
   "source": [
    "# freeze Xception layers until 126\n",
    "for i, layer in enumerate(model.get_layer('xception').layers[:126]):\n",
    "    layer.trainable = False\n",
    "    \n",
    "for i, layer in enumerate(model.get_layer('xception').layers):\n",
    "    print(i, layer.name, layer.trainable)\n",
    "model.summary()"
   ]
  },
  {
   "cell_type": "code",
   "execution_count": 30,
   "metadata": {
    "id": "5eOrX_SNIanU"
   },
   "outputs": [],
   "source": [
    "# Compile the model\n",
    "# We decrease the learning rate to 1e-5\n",
    "model.compile(loss=tfk.losses.CategoricalCrossentropy(), optimizer=tfk.optimizers.Adam(learning_rate=1e-5), metrics='accuracy')"
   ]
  },
  {
   "cell_type": "markdown",
   "metadata": {
    "id": "iK32-l27IanU"
   },
   "source": [
    "### Training"
   ]
  },
  {
   "cell_type": "code",
   "execution_count": 31,
   "metadata": {
    "id": "iSMCByzdIanV"
   },
   "outputs": [
    {
     "name": "stderr",
     "output_type": "stream",
     "text": [
      "C:\\Users\\mario\\anaconda3\\envs\\tf-gpu\\lib\\site-packages\\tensorflow\\python\\keras\\utils\\generic_utils.py:494: CustomMaskWarning: Custom mask layers require a config and must override get_config. When loading, the custom mask layer must be passed to the custom_objects argument.\n",
      "  warnings.warn('Custom mask layers require a config and must override '\n"
     ]
    },
    {
     "name": "stdout",
     "output_type": "stream",
     "text": [
      "Epoch 1/100\n",
      "4816/4816 [==============================] - 1475s 306ms/step - loss: 0.2055 - accuracy: 0.9369 - val_loss: 0.0440 - val_accuracy: 0.9850\n"
     ]
    },
    {
     "name": "stderr",
     "output_type": "stream",
     "text": [
      "C:\\Users\\mario\\anaconda3\\envs\\tf-gpu\\lib\\site-packages\\tensorflow\\python\\keras\\utils\\generic_utils.py:494: CustomMaskWarning: Custom mask layers require a config and must override get_config. When loading, the custom mask layer must be passed to the custom_objects argument.\n",
      "  warnings.warn('Custom mask layers require a config and must override '\n"
     ]
    },
    {
     "name": "stdout",
     "output_type": "stream",
     "text": [
      "Epoch 2/100\n",
      "4816/4816 [==============================] - 1602s 333ms/step - loss: 0.1073 - accuracy: 0.9654 - val_loss: 0.0344 - val_accuracy: 0.9895\n"
     ]
    },
    {
     "name": "stderr",
     "output_type": "stream",
     "text": [
      "C:\\Users\\mario\\anaconda3\\envs\\tf-gpu\\lib\\site-packages\\tensorflow\\python\\keras\\utils\\generic_utils.py:494: CustomMaskWarning: Custom mask layers require a config and must override get_config. When loading, the custom mask layer must be passed to the custom_objects argument.\n",
      "  warnings.warn('Custom mask layers require a config and must override '\n"
     ]
    },
    {
     "name": "stdout",
     "output_type": "stream",
     "text": [
      "Epoch 3/100\n",
      "4816/4816 [==============================] - 1637s 340ms/step - loss: 0.0819 - accuracy: 0.9736 - val_loss: 0.0296 - val_accuracy: 0.9932\n"
     ]
    },
    {
     "name": "stderr",
     "output_type": "stream",
     "text": [
      "C:\\Users\\mario\\anaconda3\\envs\\tf-gpu\\lib\\site-packages\\tensorflow\\python\\keras\\utils\\generic_utils.py:494: CustomMaskWarning: Custom mask layers require a config and must override get_config. When loading, the custom mask layer must be passed to the custom_objects argument.\n",
      "  warnings.warn('Custom mask layers require a config and must override '\n"
     ]
    },
    {
     "name": "stdout",
     "output_type": "stream",
     "text": [
      "Epoch 4/100\n",
      "4816/4816 [==============================] - 1620s 336ms/step - loss: 0.0628 - accuracy: 0.9790 - val_loss: 0.0247 - val_accuracy: 0.9944\n"
     ]
    },
    {
     "name": "stderr",
     "output_type": "stream",
     "text": [
      "C:\\Users\\mario\\anaconda3\\envs\\tf-gpu\\lib\\site-packages\\tensorflow\\python\\keras\\utils\\generic_utils.py:494: CustomMaskWarning: Custom mask layers require a config and must override get_config. When loading, the custom mask layer must be passed to the custom_objects argument.\n",
      "  warnings.warn('Custom mask layers require a config and must override '\n"
     ]
    },
    {
     "name": "stdout",
     "output_type": "stream",
     "text": [
      "Epoch 5/100\n",
      "4816/4816 [==============================] - 1689s 351ms/step - loss: 0.0530 - accuracy: 0.9824 - val_loss: 0.0216 - val_accuracy: 0.9951\n"
     ]
    },
    {
     "name": "stderr",
     "output_type": "stream",
     "text": [
      "C:\\Users\\mario\\anaconda3\\envs\\tf-gpu\\lib\\site-packages\\tensorflow\\python\\keras\\utils\\generic_utils.py:494: CustomMaskWarning: Custom mask layers require a config and must override get_config. When loading, the custom mask layer must be passed to the custom_objects argument.\n",
      "  warnings.warn('Custom mask layers require a config and must override '\n"
     ]
    },
    {
     "name": "stdout",
     "output_type": "stream",
     "text": [
      "Epoch 6/100\n",
      "4816/4816 [==============================] - 1668s 346ms/step - loss: 0.0448 - accuracy: 0.9850 - val_loss: 0.0237 - val_accuracy: 0.9940\n"
     ]
    },
    {
     "name": "stderr",
     "output_type": "stream",
     "text": [
      "C:\\Users\\mario\\anaconda3\\envs\\tf-gpu\\lib\\site-packages\\tensorflow\\python\\keras\\utils\\generic_utils.py:494: CustomMaskWarning: Custom mask layers require a config and must override get_config. When loading, the custom mask layer must be passed to the custom_objects argument.\n",
      "  warnings.warn('Custom mask layers require a config and must override '\n"
     ]
    },
    {
     "name": "stdout",
     "output_type": "stream",
     "text": [
      "Epoch 7/100\n",
      "4816/4816 [==============================] - 1728s 359ms/step - loss: 0.0383 - accuracy: 0.9874 - val_loss: 0.0183 - val_accuracy: 0.9966\n"
     ]
    },
    {
     "name": "stderr",
     "output_type": "stream",
     "text": [
      "C:\\Users\\mario\\anaconda3\\envs\\tf-gpu\\lib\\site-packages\\tensorflow\\python\\keras\\utils\\generic_utils.py:494: CustomMaskWarning: Custom mask layers require a config and must override get_config. When loading, the custom mask layer must be passed to the custom_objects argument.\n",
      "  warnings.warn('Custom mask layers require a config and must override '\n"
     ]
    },
    {
     "name": "stdout",
     "output_type": "stream",
     "text": [
      "Epoch 8/100\n",
      "4816/4816 [==============================] - 1745s 362ms/step - loss: 0.0357 - accuracy: 0.9890 - val_loss: 0.0207 - val_accuracy: 0.9947\n"
     ]
    },
    {
     "name": "stderr",
     "output_type": "stream",
     "text": [
      "C:\\Users\\mario\\anaconda3\\envs\\tf-gpu\\lib\\site-packages\\tensorflow\\python\\keras\\utils\\generic_utils.py:494: CustomMaskWarning: Custom mask layers require a config and must override get_config. When loading, the custom mask layer must be passed to the custom_objects argument.\n",
      "  warnings.warn('Custom mask layers require a config and must override '\n"
     ]
    },
    {
     "name": "stdout",
     "output_type": "stream",
     "text": [
      "Epoch 9/100\n",
      "4816/4816 [==============================] - 1742s 362ms/step - loss: 0.0306 - accuracy: 0.9901 - val_loss: 0.0174 - val_accuracy: 0.9955\n"
     ]
    },
    {
     "name": "stderr",
     "output_type": "stream",
     "text": [
      "C:\\Users\\mario\\anaconda3\\envs\\tf-gpu\\lib\\site-packages\\tensorflow\\python\\keras\\utils\\generic_utils.py:494: CustomMaskWarning: Custom mask layers require a config and must override get_config. When loading, the custom mask layer must be passed to the custom_objects argument.\n",
      "  warnings.warn('Custom mask layers require a config and must override '\n"
     ]
    },
    {
     "name": "stdout",
     "output_type": "stream",
     "text": [
      "Epoch 10/100\n",
      "4816/4816 [==============================] - 1804s 374ms/step - loss: 0.0270 - accuracy: 0.9914 - val_loss: 0.0170 - val_accuracy: 0.9951\n"
     ]
    },
    {
     "name": "stderr",
     "output_type": "stream",
     "text": [
      "C:\\Users\\mario\\anaconda3\\envs\\tf-gpu\\lib\\site-packages\\tensorflow\\python\\keras\\utils\\generic_utils.py:494: CustomMaskWarning: Custom mask layers require a config and must override get_config. When loading, the custom mask layer must be passed to the custom_objects argument.\n",
      "  warnings.warn('Custom mask layers require a config and must override '\n"
     ]
    },
    {
     "name": "stdout",
     "output_type": "stream",
     "text": [
      "Epoch 11/100\n",
      "4816/4816 [==============================] - 1822s 378ms/step - loss: 0.0268 - accuracy: 0.9909 - val_loss: 0.0160 - val_accuracy: 0.9962\n"
     ]
    },
    {
     "name": "stderr",
     "output_type": "stream",
     "text": [
      "C:\\Users\\mario\\anaconda3\\envs\\tf-gpu\\lib\\site-packages\\tensorflow\\python\\keras\\utils\\generic_utils.py:494: CustomMaskWarning: Custom mask layers require a config and must override get_config. When loading, the custom mask layer must be passed to the custom_objects argument.\n",
      "  warnings.warn('Custom mask layers require a config and must override '\n"
     ]
    },
    {
     "name": "stdout",
     "output_type": "stream",
     "text": [
      "Epoch 12/100\n",
      "4816/4816 [==============================] - 1831s 380ms/step - loss: 0.0232 - accuracy: 0.9922 - val_loss: 0.0161 - val_accuracy: 0.9959\n"
     ]
    },
    {
     "name": "stderr",
     "output_type": "stream",
     "text": [
      "C:\\Users\\mario\\anaconda3\\envs\\tf-gpu\\lib\\site-packages\\tensorflow\\python\\keras\\utils\\generic_utils.py:494: CustomMaskWarning: Custom mask layers require a config and must override get_config. When loading, the custom mask layer must be passed to the custom_objects argument.\n",
      "  warnings.warn('Custom mask layers require a config and must override '\n"
     ]
    },
    {
     "name": "stdout",
     "output_type": "stream",
     "text": [
      "Epoch 13/100\n",
      "4816/4816 [==============================] - 1821s 378ms/step - loss: 0.0206 - accuracy: 0.9931 - val_loss: 0.0195 - val_accuracy: 0.9955\n"
     ]
    },
    {
     "name": "stderr",
     "output_type": "stream",
     "text": [
      "C:\\Users\\mario\\anaconda3\\envs\\tf-gpu\\lib\\site-packages\\tensorflow\\python\\keras\\utils\\generic_utils.py:494: CustomMaskWarning: Custom mask layers require a config and must override get_config. When loading, the custom mask layer must be passed to the custom_objects argument.\n",
      "  warnings.warn('Custom mask layers require a config and must override '\n"
     ]
    },
    {
     "name": "stdout",
     "output_type": "stream",
     "text": [
      "Epoch 14/100\n",
      "4816/4816 [==============================] - 1835s 381ms/step - loss: 0.0202 - accuracy: 0.9931 - val_loss: 0.0175 - val_accuracy: 0.9959\n"
     ]
    },
    {
     "name": "stderr",
     "output_type": "stream",
     "text": [
      "C:\\Users\\mario\\anaconda3\\envs\\tf-gpu\\lib\\site-packages\\tensorflow\\python\\keras\\utils\\generic_utils.py:494: CustomMaskWarning: Custom mask layers require a config and must override get_config. When loading, the custom mask layer must be passed to the custom_objects argument.\n",
      "  warnings.warn('Custom mask layers require a config and must override '\n"
     ]
    },
    {
     "name": "stdout",
     "output_type": "stream",
     "text": [
      "Epoch 15/100\n",
      "4816/4816 [==============================] - 1816s 377ms/step - loss: 0.0182 - accuracy: 0.9941 - val_loss: 0.0166 - val_accuracy: 0.9970\n"
     ]
    },
    {
     "name": "stderr",
     "output_type": "stream",
     "text": [
      "C:\\Users\\mario\\anaconda3\\envs\\tf-gpu\\lib\\site-packages\\tensorflow\\python\\keras\\utils\\generic_utils.py:494: CustomMaskWarning: Custom mask layers require a config and must override get_config. When loading, the custom mask layer must be passed to the custom_objects argument.\n",
      "  warnings.warn('Custom mask layers require a config and must override '\n"
     ]
    },
    {
     "name": "stdout",
     "output_type": "stream",
     "text": [
      "Epoch 16/100\n",
      "4816/4816 [==============================] - 1838s 382ms/step - loss: 0.0179 - accuracy: 0.9943 - val_loss: 0.0153 - val_accuracy: 0.9974\n"
     ]
    },
    {
     "name": "stderr",
     "output_type": "stream",
     "text": [
      "C:\\Users\\mario\\anaconda3\\envs\\tf-gpu\\lib\\site-packages\\tensorflow\\python\\keras\\utils\\generic_utils.py:494: CustomMaskWarning: Custom mask layers require a config and must override get_config. When loading, the custom mask layer must be passed to the custom_objects argument.\n",
      "  warnings.warn('Custom mask layers require a config and must override '\n"
     ]
    },
    {
     "name": "stdout",
     "output_type": "stream",
     "text": [
      "Epoch 17/100\n",
      "4816/4816 [==============================] - 1861s 386ms/step - loss: 0.0171 - accuracy: 0.9943 - val_loss: 0.0148 - val_accuracy: 0.9974\n"
     ]
    },
    {
     "name": "stderr",
     "output_type": "stream",
     "text": [
      "C:\\Users\\mario\\anaconda3\\envs\\tf-gpu\\lib\\site-packages\\tensorflow\\python\\keras\\utils\\generic_utils.py:494: CustomMaskWarning: Custom mask layers require a config and must override get_config. When loading, the custom mask layer must be passed to the custom_objects argument.\n",
      "  warnings.warn('Custom mask layers require a config and must override '\n"
     ]
    },
    {
     "name": "stdout",
     "output_type": "stream",
     "text": [
      "Epoch 18/100\n",
      "4816/4816 [==============================] - 1742s 362ms/step - loss: 0.0153 - accuracy: 0.9947 - val_loss: 0.0187 - val_accuracy: 0.9959\n"
     ]
    },
    {
     "name": "stderr",
     "output_type": "stream",
     "text": [
      "C:\\Users\\mario\\anaconda3\\envs\\tf-gpu\\lib\\site-packages\\tensorflow\\python\\keras\\utils\\generic_utils.py:494: CustomMaskWarning: Custom mask layers require a config and must override get_config. When loading, the custom mask layer must be passed to the custom_objects argument.\n",
      "  warnings.warn('Custom mask layers require a config and must override '\n"
     ]
    },
    {
     "name": "stdout",
     "output_type": "stream",
     "text": [
      "Epoch 19/100\n",
      "4816/4816 [==============================] - 1789s 371ms/step - loss: 0.0160 - accuracy: 0.9945 - val_loss: 0.0166 - val_accuracy: 0.9970\n"
     ]
    },
    {
     "name": "stderr",
     "output_type": "stream",
     "text": [
      "C:\\Users\\mario\\anaconda3\\envs\\tf-gpu\\lib\\site-packages\\tensorflow\\python\\keras\\utils\\generic_utils.py:494: CustomMaskWarning: Custom mask layers require a config and must override get_config. When loading, the custom mask layer must be passed to the custom_objects argument.\n",
      "  warnings.warn('Custom mask layers require a config and must override '\n"
     ]
    },
    {
     "name": "stdout",
     "output_type": "stream",
     "text": [
      "Epoch 20/100\n",
      "4816/4816 [==============================] - 1784s 370ms/step - loss: 0.0138 - accuracy: 0.9955 - val_loss: 0.0167 - val_accuracy: 0.9970\n"
     ]
    },
    {
     "name": "stderr",
     "output_type": "stream",
     "text": [
      "C:\\Users\\mario\\anaconda3\\envs\\tf-gpu\\lib\\site-packages\\tensorflow\\python\\keras\\utils\\generic_utils.py:494: CustomMaskWarning: Custom mask layers require a config and must override get_config. When loading, the custom mask layer must be passed to the custom_objects argument.\n",
      "  warnings.warn('Custom mask layers require a config and must override '\n"
     ]
    },
    {
     "name": "stdout",
     "output_type": "stream",
     "text": [
      "Epoch 21/100\n",
      "4816/4816 [==============================] - 1880s 390ms/step - loss: 0.0134 - accuracy: 0.9952 - val_loss: 0.0159 - val_accuracy: 0.9977\n"
     ]
    },
    {
     "name": "stderr",
     "output_type": "stream",
     "text": [
      "C:\\Users\\mario\\anaconda3\\envs\\tf-gpu\\lib\\site-packages\\tensorflow\\python\\keras\\utils\\generic_utils.py:494: CustomMaskWarning: Custom mask layers require a config and must override get_config. When loading, the custom mask layer must be passed to the custom_objects argument.\n",
      "  warnings.warn('Custom mask layers require a config and must override '\n"
     ]
    },
    {
     "name": "stdout",
     "output_type": "stream",
     "text": [
      "Epoch 22/100\n",
      "4816/4816 [==============================] - 1878s 390ms/step - loss: 0.0122 - accuracy: 0.9960 - val_loss: 0.0165 - val_accuracy: 0.9970\n"
     ]
    },
    {
     "name": "stderr",
     "output_type": "stream",
     "text": [
      "C:\\Users\\mario\\anaconda3\\envs\\tf-gpu\\lib\\site-packages\\tensorflow\\python\\keras\\utils\\generic_utils.py:494: CustomMaskWarning: Custom mask layers require a config and must override get_config. When loading, the custom mask layer must be passed to the custom_objects argument.\n",
      "  warnings.warn('Custom mask layers require a config and must override '\n"
     ]
    },
    {
     "name": "stdout",
     "output_type": "stream",
     "text": [
      "Epoch 23/100\n",
      "4816/4816 [==============================] - 1835s 381ms/step - loss: 0.0116 - accuracy: 0.9962 - val_loss: 0.0154 - val_accuracy: 0.9974\n"
     ]
    },
    {
     "name": "stderr",
     "output_type": "stream",
     "text": [
      "C:\\Users\\mario\\anaconda3\\envs\\tf-gpu\\lib\\site-packages\\tensorflow\\python\\keras\\utils\\generic_utils.py:494: CustomMaskWarning: Custom mask layers require a config and must override get_config. When loading, the custom mask layer must be passed to the custom_objects argument.\n",
      "  warnings.warn('Custom mask layers require a config and must override '\n"
     ]
    },
    {
     "name": "stdout",
     "output_type": "stream",
     "text": [
      "Epoch 24/100\n",
      "4816/4816 [==============================] - 1887s 392ms/step - loss: 0.0119 - accuracy: 0.9962 - val_loss: 0.0140 - val_accuracy: 0.9974\n"
     ]
    },
    {
     "name": "stderr",
     "output_type": "stream",
     "text": [
      "C:\\Users\\mario\\anaconda3\\envs\\tf-gpu\\lib\\site-packages\\tensorflow\\python\\keras\\utils\\generic_utils.py:494: CustomMaskWarning: Custom mask layers require a config and must override get_config. When loading, the custom mask layer must be passed to the custom_objects argument.\n",
      "  warnings.warn('Custom mask layers require a config and must override '\n"
     ]
    },
    {
     "name": "stdout",
     "output_type": "stream",
     "text": [
      "Epoch 25/100\n",
      "4816/4816 [==============================] - 1891s 393ms/step - loss: 0.0107 - accuracy: 0.9964 - val_loss: 0.0181 - val_accuracy: 0.9966\n"
     ]
    },
    {
     "name": "stderr",
     "output_type": "stream",
     "text": [
      "C:\\Users\\mario\\anaconda3\\envs\\tf-gpu\\lib\\site-packages\\tensorflow\\python\\keras\\utils\\generic_utils.py:494: CustomMaskWarning: Custom mask layers require a config and must override get_config. When loading, the custom mask layer must be passed to the custom_objects argument.\n",
      "  warnings.warn('Custom mask layers require a config and must override '\n"
     ]
    },
    {
     "name": "stdout",
     "output_type": "stream",
     "text": [
      "Epoch 26/100\n",
      "4816/4816 [==============================] - 1783s 370ms/step - loss: 0.0098 - accuracy: 0.9967 - val_loss: 0.0166 - val_accuracy: 0.9970\n"
     ]
    },
    {
     "name": "stderr",
     "output_type": "stream",
     "text": [
      "C:\\Users\\mario\\anaconda3\\envs\\tf-gpu\\lib\\site-packages\\tensorflow\\python\\keras\\utils\\generic_utils.py:494: CustomMaskWarning: Custom mask layers require a config and must override get_config. When loading, the custom mask layer must be passed to the custom_objects argument.\n",
      "  warnings.warn('Custom mask layers require a config and must override '\n"
     ]
    },
    {
     "name": "stdout",
     "output_type": "stream",
     "text": [
      "Epoch 27/100\n",
      "4816/4816 [==============================] - 1790s 372ms/step - loss: 0.0103 - accuracy: 0.9965 - val_loss: 0.0163 - val_accuracy: 0.9970\n"
     ]
    },
    {
     "name": "stderr",
     "output_type": "stream",
     "text": [
      "C:\\Users\\mario\\anaconda3\\envs\\tf-gpu\\lib\\site-packages\\tensorflow\\python\\keras\\utils\\generic_utils.py:494: CustomMaskWarning: Custom mask layers require a config and must override get_config. When loading, the custom mask layer must be passed to the custom_objects argument.\n",
      "  warnings.warn('Custom mask layers require a config and must override '\n"
     ]
    },
    {
     "name": "stdout",
     "output_type": "stream",
     "text": [
      "Epoch 28/100\n",
      "4816/4816 [==============================] - 1823s 378ms/step - loss: 0.0094 - accuracy: 0.9973 - val_loss: 0.0163 - val_accuracy: 0.9970\n"
     ]
    },
    {
     "name": "stderr",
     "output_type": "stream",
     "text": [
      "C:\\Users\\mario\\anaconda3\\envs\\tf-gpu\\lib\\site-packages\\tensorflow\\python\\keras\\utils\\generic_utils.py:494: CustomMaskWarning: Custom mask layers require a config and must override get_config. When loading, the custom mask layer must be passed to the custom_objects argument.\n",
      "  warnings.warn('Custom mask layers require a config and must override '\n"
     ]
    },
    {
     "name": "stdout",
     "output_type": "stream",
     "text": [
      "Epoch 29/100\n",
      "4816/4816 [==============================] - 1834s 381ms/step - loss: 0.0089 - accuracy: 0.9971 - val_loss: 0.0144 - val_accuracy: 0.9977\n"
     ]
    },
    {
     "name": "stderr",
     "output_type": "stream",
     "text": [
      "C:\\Users\\mario\\anaconda3\\envs\\tf-gpu\\lib\\site-packages\\tensorflow\\python\\keras\\utils\\generic_utils.py:494: CustomMaskWarning: Custom mask layers require a config and must override get_config. When loading, the custom mask layer must be passed to the custom_objects argument.\n",
      "  warnings.warn('Custom mask layers require a config and must override '\n"
     ]
    },
    {
     "name": "stdout",
     "output_type": "stream",
     "text": [
      "Epoch 30/100\n",
      "4816/4816 [==============================] - 1913s 397ms/step - loss: 0.0090 - accuracy: 0.9970 - val_loss: 0.0153 - val_accuracy: 0.9977\n"
     ]
    },
    {
     "name": "stderr",
     "output_type": "stream",
     "text": [
      "C:\\Users\\mario\\anaconda3\\envs\\tf-gpu\\lib\\site-packages\\tensorflow\\python\\keras\\utils\\generic_utils.py:494: CustomMaskWarning: Custom mask layers require a config and must override get_config. When loading, the custom mask layer must be passed to the custom_objects argument.\n",
      "  warnings.warn('Custom mask layers require a config and must override '\n"
     ]
    },
    {
     "name": "stdout",
     "output_type": "stream",
     "text": [
      "Epoch 31/100\n",
      "4816/4816 [==============================] - 1931s 401ms/step - loss: 0.0089 - accuracy: 0.9969 - val_loss: 0.0155 - val_accuracy: 0.9974\n"
     ]
    },
    {
     "name": "stderr",
     "output_type": "stream",
     "text": [
      "C:\\Users\\mario\\anaconda3\\envs\\tf-gpu\\lib\\site-packages\\tensorflow\\python\\keras\\utils\\generic_utils.py:494: CustomMaskWarning: Custom mask layers require a config and must override get_config. When loading, the custom mask layer must be passed to the custom_objects argument.\n",
      "  warnings.warn('Custom mask layers require a config and must override '\n"
     ]
    },
    {
     "name": "stdout",
     "output_type": "stream",
     "text": [
      "Epoch 32/100\n",
      "4816/4816 [==============================] - 1811s 376ms/step - loss: 0.0077 - accuracy: 0.9974 - val_loss: 0.0169 - val_accuracy: 0.9970\n"
     ]
    },
    {
     "name": "stderr",
     "output_type": "stream",
     "text": [
      "C:\\Users\\mario\\anaconda3\\envs\\tf-gpu\\lib\\site-packages\\tensorflow\\python\\keras\\utils\\generic_utils.py:494: CustomMaskWarning: Custom mask layers require a config and must override get_config. When loading, the custom mask layer must be passed to the custom_objects argument.\n",
      "  warnings.warn('Custom mask layers require a config and must override '\n"
     ]
    },
    {
     "name": "stdout",
     "output_type": "stream",
     "text": [
      "Epoch 33/100\n",
      "4816/4816 [==============================] - 1822s 378ms/step - loss: 0.0079 - accuracy: 0.9974 - val_loss: 0.0157 - val_accuracy: 0.9966\n"
     ]
    },
    {
     "name": "stderr",
     "output_type": "stream",
     "text": [
      "C:\\Users\\mario\\anaconda3\\envs\\tf-gpu\\lib\\site-packages\\tensorflow\\python\\keras\\utils\\generic_utils.py:494: CustomMaskWarning: Custom mask layers require a config and must override get_config. When loading, the custom mask layer must be passed to the custom_objects argument.\n",
      "  warnings.warn('Custom mask layers require a config and must override '\n"
     ]
    },
    {
     "name": "stdout",
     "output_type": "stream",
     "text": [
      "Epoch 34/100\n",
      "4816/4816 [==============================] - 1805s 375ms/step - loss: 0.0079 - accuracy: 0.9973 - val_loss: 0.0147 - val_accuracy: 0.9970\n"
     ]
    },
    {
     "name": "stderr",
     "output_type": "stream",
     "text": [
      "C:\\Users\\mario\\anaconda3\\envs\\tf-gpu\\lib\\site-packages\\tensorflow\\python\\keras\\utils\\generic_utils.py:494: CustomMaskWarning: Custom mask layers require a config and must override get_config. When loading, the custom mask layer must be passed to the custom_objects argument.\n",
      "  warnings.warn('Custom mask layers require a config and must override '\n"
     ]
    }
   ],
   "source": [
    "aug_callbacks = create_folders_and_callbacks(model_name='CNN38_126') # create folders and callbacks for training\n",
    "\n",
    "tf.get_logger().setLevel('WARNING') # if you want to suppress only INFOs \n",
    "\n",
    "history = model.fit(\n",
    "    x = aug_train_gen,\n",
    "    epochs = epochs,\n",
    "    validation_data = val_gen,\n",
    "    callbacks = aug_callbacks,\n",
    ").history"
   ]
  },
  {
   "cell_type": "code",
   "execution_count": 32,
   "metadata": {
    "id": "N_n2F_geIanV"
   },
   "outputs": [
    {
     "name": "stderr",
     "output_type": "stream",
     "text": [
      "C:\\Users\\mario\\anaconda3\\envs\\tf-gpu\\lib\\site-packages\\tensorflow\\python\\keras\\utils\\generic_utils.py:494: CustomMaskWarning: Custom mask layers require a config and must override get_config. When loading, the custom mask layer must be passed to the custom_objects argument.\n",
      "  warnings.warn('Custom mask layers require a config and must override '\n"
     ]
    }
   ],
   "source": [
    "# Save the model\n",
    "model.save('CNN38_126')"
   ]
  },
  {
   "cell_type": "markdown",
   "metadata": {
    "id": "z0uOd6BmIanV"
   },
   "source": [
    "### Plot the training"
   ]
  },
  {
   "cell_type": "code",
   "execution_count": 33,
   "metadata": {
    "id": "wAFtOPATIanV"
   },
   "outputs": [
    {
     "data": {
      "image/png": "[encoded data removed]",
      "text/plain": [
       "<Figure size 1080x360 with 1 Axes>"
      ]
     },
     "metadata": {
      "needs_background": "light"
     },
     "output_type": "display_data"
    },
    {
     "data": {
      "image/png": "[encoded data removed]",
      "text/plain": [
       "<Figure size 1080x360 with 1 Axes>"
      ]
     },
     "metadata": {
      "needs_background": "light"
     },
     "output_type": "display_data"
    }
   ],
   "source": [
    "plot_history(history)"
   ]
  },
  {
   "cell_type": "markdown",
   "metadata": {
    "id": "HzjaoQObIanV"
   },
   "source": [
    "### Validation results"
   ]
  },
  {
   "cell_type": "code",
   "execution_count": 31,
   "metadata": {
    "id": "Px7XcB_XkbQm"
   },
   "outputs": [],
   "source": [
    "# model = tfk.models.load_model('CNN38_126')"
   ]
  },
  {
   "cell_type": "code",
   "execution_count": 34,
   "metadata": {
    "colab": {
     "base_uri": "https://localhost:8080/"
    },
    "id": "zYV0rAhoIanV",
    "outputId": "5c9d14ba-b049-4fc1-faa3-1db02cf172e4"
   },
   "outputs": [
    {
     "name": "stdout",
     "output_type": "stream",
     "text": [
      "Confusion Matrix\n",
      "[[188   0   0   0   0   0   0   0   0   0   1   0   0   1]\n",
      " [  0 190   0   0   0   0   0   0   0   0   0   0   0   0]\n",
      " [  0   0 189   0   0   0   0   1   0   0   0   0   0   0]\n",
      " [  0   0   0 190   0   0   0   0   0   0   0   0   0   0]\n",
      " [  0   0   0   0 190   0   0   0   0   0   0   0   0   0]\n",
      " [  0   0   0   0   0 190   0   0   0   0   0   0   0   0]\n",
      " [  0   0   0   0   0   0 190   0   0   0   0   0   0   0]\n",
      " [  0   0   0   0   0   0   0 190   0   0   0   0   0   0]\n",
      " [  1   0   0   0   0   0   0   0 188   0   0   0   0   1]\n",
      " [  0   0   0   0   0   0   0   0   0 190   0   0   0   0]\n",
      " [  0   0   0   0   0   0   0   0   0   0 190   0   0   0]\n",
      " [  0   0   0   0   1   0   0   0   0   0   0 189   0   0]\n",
      " [  0   0   0   0   0   0   0   0   1   0   0   0 189   0]\n",
      " [  0   0   0   0   0   0   0   0   0   0   0   0   0 190]]\n",
      "\n",
      "Classification Report\n",
      "\n",
      "\n",
      "              precision    recall  f1-score   support\n",
      "\n",
      "       Apple       0.99      0.99      0.99       190\n",
      "   Blueberry       1.00      1.00      1.00       190\n",
      "      Cherry       1.00      0.99      1.00       190\n",
      "        Corn       1.00      1.00      1.00       190\n",
      "       Grape       0.99      1.00      1.00       190\n",
      "      Orange       1.00      1.00      1.00       190\n",
      "       Peach       1.00      1.00      1.00       190\n",
      "      Pepper       0.99      1.00      1.00       190\n",
      "      Potato       0.99      0.99      0.99       190\n",
      "   Raspberry       1.00      1.00      1.00       190\n",
      "     Soybean       0.99      1.00      1.00       190\n",
      "      Squash       1.00      0.99      1.00       190\n",
      "  Strawberry       1.00      0.99      1.00       190\n",
      "      Tomato       0.99      1.00      0.99       190\n",
      "\n",
      "    accuracy                           1.00      2660\n",
      "   macro avg       1.00      1.00      1.00      2660\n",
      "weighted avg       1.00      1.00      1.00      2660\n",
      "\n",
      "\n",
      "Validation metrics:\n",
      "167/167 [==============================] - 21s 126ms/step - loss: 0.0140 - accuracy: 0.9974\n"
     ]
    }
   ],
   "source": [
    "# Confution Matrix and Classification Report\n",
    "classif_report(model)"
   ]
  }
 ],
 "metadata": {
  "accelerator": "GPU",
  "colab": {
   "name": "notebookFinal.ipynb",
   "provenance": []
  },
  "kernelspec": {
   "display_name": "Python 3 (ipykernel)",
   "language": "python",
   "name": "python3"
  },
  "language_info": {
   "codemirror_mode": {
    "name": "ipython",
    "version": 3
   },
   "file_extension": ".py",
   "mimetype": "text/x-python",
   "name": "python",
   "nbconvert_exporter": "python",
   "pygments_lexer": "ipython3",
   "version": "3.9.7"
  }
 },
 "nbformat": 4,
 "nbformat_minor": 1
}
